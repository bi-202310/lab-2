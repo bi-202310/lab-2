{
 "cells": [
  {
   "cell_type": "markdown",
   "metadata": {
    "tags": []
   },
   "source": [
    "# Laboratorio 2"
   ]
  },
  {
   "cell_type": "markdown",
   "metadata": {
    "tags": []
   },
   "source": [
    "## 1. Carga de datos\n",
    "##### Se importan todas las librerias necesarias para poder crear, entrenar y crear el modelo"
   ]
  },
  {
   "cell_type": "code",
   "execution_count": 1,
   "metadata": {
    "tags": []
   },
   "outputs": [],
   "source": [
    "import numpy as np\n",
    "import pandas as pd\n",
    "\n",
    "from joblib import dump, load\n",
    "\n",
    "import matplotlib.pyplot as plt\n",
    "import seaborn as sns\n",
    "\n",
    "from sklearn.model_selection import train_test_split\n",
    "from sklearn.linear_model import LinearRegression\n",
    "from sklearn.pipeline import Pipeline\n",
    "from sklearn.compose import ColumnTransformer\n",
    "from sklearn.preprocessing import StandardScaler\n",
    "from sklearn.preprocessing import PolynomialFeatures\n",
    "from sklearn.preprocessing import OneHotEncoder\n",
    "from sklearn.preprocessing import OrdinalEncoder\n",
    "from sklearn.preprocessing import FunctionTransformer\n",
    "from sklearn.metrics import mean_absolute_error, mean_squared_error, r2_score\n",
    "from sklearn.impute import SimpleImputer\n",
    "from sklearn.linear_model import LinearRegression\n",
    "from abc import ABC, abstractmethod\n",
    "from sklearn.base import BaseEstimator, TransformerMixin\n",
    "\n",
    "import scipy.stats as stats\n",
    "\n",
    "pd.set_option('display.max_columns', None)\n",
    "pd.set_option('display.max_rows', 50)"
   ]
  },
  {
   "cell_type": "code",
   "execution_count": 2,
   "metadata": {
    "tags": []
   },
   "outputs": [],
   "source": [
    "df = pd.read_csv('./data/MotorAlpes_data.csv', index_col=False)\n",
    "df = df.iloc[:, 1:]\n",
    "og_df = df.copy()"
   ]
  },
  {
   "cell_type": "markdown",
   "metadata": {
    "tags": []
   },
   "source": [
    "## 2. Descripción de los datos\n",
    "##### Se hace una descripcion de los datos para poder entender con que tipo de datos estamos trabajando y elementos que importantes que toque tener en cuenta "
   ]
  },
  {
   "cell_type": "code",
   "execution_count": 3,
   "metadata": {
    "tags": []
   },
   "outputs": [
    {
     "data": {
      "text/plain": [
       "(7115, 11)"
      ]
     },
     "execution_count": 3,
     "metadata": {},
     "output_type": "execute_result"
    }
   ],
   "source": [
    "df.shape"
   ]
  },
  {
   "cell_type": "code",
   "execution_count": 4,
   "metadata": {
    "tags": []
   },
   "outputs": [
    {
     "name": "stdout",
     "output_type": "stream",
     "text": [
      "<class 'pandas.core.frame.DataFrame'>\n",
      "RangeIndex: 7115 entries, 0 to 7114\n",
      "Data columns (total 11 columns):\n",
      " #   Column         Non-Null Count  Dtype  \n",
      "---  ------         --------------  -----  \n",
      " 0   year           6876 non-null   float64\n",
      " 1   km_driven      6917 non-null   float64\n",
      " 2   owner          6876 non-null   object \n",
      " 3   seller_type    7115 non-null   object \n",
      " 4   seats          7115 non-null   float64\n",
      " 5   fuel           7115 non-null   object \n",
      " 6   transmission   7115 non-null   object \n",
      " 7   mileage        6917 non-null   float64\n",
      " 8   engine         6835 non-null   float64\n",
      " 9   max_power      6847 non-null   float64\n",
      " 10  selling_price  6714 non-null   float64\n",
      "dtypes: float64(7), object(4)\n",
      "memory usage: 611.6+ KB\n"
     ]
    }
   ],
   "source": [
    "df.info()"
   ]
  },
  {
   "cell_type": "code",
   "execution_count": 5,
   "metadata": {
    "tags": []
   },
   "outputs": [
    {
     "data": {
      "text/html": [
       "<div>\n",
       "<style scoped>\n",
       "    .dataframe tbody tr th:only-of-type {\n",
       "        vertical-align: middle;\n",
       "    }\n",
       "\n",
       "    .dataframe tbody tr th {\n",
       "        vertical-align: top;\n",
       "    }\n",
       "\n",
       "    .dataframe thead th {\n",
       "        text-align: right;\n",
       "    }\n",
       "</style>\n",
       "<table border=\"1\" class=\"dataframe\">\n",
       "  <thead>\n",
       "    <tr style=\"text-align: right;\">\n",
       "      <th></th>\n",
       "      <th>year</th>\n",
       "      <th>km_driven</th>\n",
       "      <th>seats</th>\n",
       "      <th>mileage</th>\n",
       "      <th>engine</th>\n",
       "      <th>max_power</th>\n",
       "      <th>selling_price</th>\n",
       "    </tr>\n",
       "  </thead>\n",
       "  <tbody>\n",
       "    <tr>\n",
       "      <th>count</th>\n",
       "      <td>6876.000000</td>\n",
       "      <td>6.917000e+03</td>\n",
       "      <td>7115.000000</td>\n",
       "      <td>6917.000000</td>\n",
       "      <td>6835.000000</td>\n",
       "      <td>6847.000000</td>\n",
       "      <td>6714.000000</td>\n",
       "    </tr>\n",
       "    <tr>\n",
       "      <th>mean</th>\n",
       "      <td>2013.980948</td>\n",
       "      <td>6.911118e+04</td>\n",
       "      <td>5.411103</td>\n",
       "      <td>19.523473</td>\n",
       "      <td>1835.489539</td>\n",
       "      <td>141.981595</td>\n",
       "      <td>11261.208041</td>\n",
       "    </tr>\n",
       "    <tr>\n",
       "      <th>std</th>\n",
       "      <td>3.852565</td>\n",
       "      <td>5.796521e+04</td>\n",
       "      <td>0.953555</td>\n",
       "      <td>4.241574</td>\n",
       "      <td>2363.919253</td>\n",
       "      <td>274.956684</td>\n",
       "      <td>40765.694516</td>\n",
       "    </tr>\n",
       "    <tr>\n",
       "      <th>min</th>\n",
       "      <td>1994.000000</td>\n",
       "      <td>1.000000e+00</td>\n",
       "      <td>2.000000</td>\n",
       "      <td>0.000000</td>\n",
       "      <td>4.000000</td>\n",
       "      <td>1.070000</td>\n",
       "      <td>1.910000</td>\n",
       "    </tr>\n",
       "    <tr>\n",
       "      <th>25%</th>\n",
       "      <td>2012.000000</td>\n",
       "      <td>3.400000e+04</td>\n",
       "      <td>5.000000</td>\n",
       "      <td>16.800000</td>\n",
       "      <td>1197.000000</td>\n",
       "      <td>68.050000</td>\n",
       "      <td>3210.560000</td>\n",
       "    </tr>\n",
       "    <tr>\n",
       "      <th>50%</th>\n",
       "      <td>2015.000000</td>\n",
       "      <td>6.000000e+04</td>\n",
       "      <td>5.000000</td>\n",
       "      <td>19.330000</td>\n",
       "      <td>1248.000000</td>\n",
       "      <td>83.100000</td>\n",
       "      <td>5451.900000</td>\n",
       "    </tr>\n",
       "    <tr>\n",
       "      <th>75%</th>\n",
       "      <td>2017.000000</td>\n",
       "      <td>9.400000e+04</td>\n",
       "      <td>5.000000</td>\n",
       "      <td>22.320000</td>\n",
       "      <td>1597.000000</td>\n",
       "      <td>104.680000</td>\n",
       "      <td>8480.740000</td>\n",
       "    </tr>\n",
       "    <tr>\n",
       "      <th>max</th>\n",
       "      <td>2020.000000</td>\n",
       "      <td>2.360457e+06</td>\n",
       "      <td>14.000000</td>\n",
       "      <td>46.816000</td>\n",
       "      <td>19972.000000</td>\n",
       "      <td>1995.640000</td>\n",
       "      <td>598983.440000</td>\n",
       "    </tr>\n",
       "  </tbody>\n",
       "</table>\n",
       "</div>"
      ],
      "text/plain": [
       "              year     km_driven        seats      mileage        engine  \\\n",
       "count  6876.000000  6.917000e+03  7115.000000  6917.000000   6835.000000   \n",
       "mean   2013.980948  6.911118e+04     5.411103    19.523473   1835.489539   \n",
       "std       3.852565  5.796521e+04     0.953555     4.241574   2363.919253   \n",
       "min    1994.000000  1.000000e+00     2.000000     0.000000      4.000000   \n",
       "25%    2012.000000  3.400000e+04     5.000000    16.800000   1197.000000   \n",
       "50%    2015.000000  6.000000e+04     5.000000    19.330000   1248.000000   \n",
       "75%    2017.000000  9.400000e+04     5.000000    22.320000   1597.000000   \n",
       "max    2020.000000  2.360457e+06    14.000000    46.816000  19972.000000   \n",
       "\n",
       "         max_power  selling_price  \n",
       "count  6847.000000    6714.000000  \n",
       "mean    141.981595   11261.208041  \n",
       "std     274.956684   40765.694516  \n",
       "min       1.070000       1.910000  \n",
       "25%      68.050000    3210.560000  \n",
       "50%      83.100000    5451.900000  \n",
       "75%     104.680000    8480.740000  \n",
       "max    1995.640000  598983.440000  "
      ]
     },
     "execution_count": 5,
     "metadata": {},
     "output_type": "execute_result"
    }
   ],
   "source": [
    "df.describe()"
   ]
  },
  {
   "cell_type": "markdown",
   "metadata": {},
   "source": [
    "### 2.1 Completitud\n",
    "##### Revision de datos faltantes y el porcentaje que representan"
   ]
  },
  {
   "cell_type": "code",
   "execution_count": 6,
   "metadata": {
    "tags": []
   },
   "outputs": [
    {
     "data": {
      "text/plain": [
       "year             239\n",
       "km_driven        198\n",
       "owner            239\n",
       "seller_type        0\n",
       "seats              0\n",
       "fuel               0\n",
       "transmission       0\n",
       "mileage          198\n",
       "engine           280\n",
       "max_power        268\n",
       "selling_price    401\n",
       "dtype: int64"
      ]
     },
     "execution_count": 6,
     "metadata": {},
     "output_type": "execute_result"
    }
   ],
   "source": [
    "df.isnull().sum()    "
   ]
  },
  {
   "cell_type": "code",
   "execution_count": 7,
   "metadata": {
    "tags": []
   },
   "outputs": [
    {
     "data": {
      "text/plain": [
       "year             0.033591\n",
       "km_driven        0.027829\n",
       "owner            0.033591\n",
       "seller_type      0.000000\n",
       "seats            0.000000\n",
       "fuel             0.000000\n",
       "transmission     0.000000\n",
       "mileage          0.027829\n",
       "engine           0.039353\n",
       "max_power        0.037667\n",
       "selling_price    0.056360\n",
       "dtype: float64"
      ]
     },
     "execution_count": 7,
     "metadata": {},
     "output_type": "execute_result"
    }
   ],
   "source": [
    "# Show null values as a percentage of the dataframe\n",
    "df.isnull().sum() / df.shape[0]"
   ]
  },
  {
   "cell_type": "markdown",
   "metadata": {},
   "source": [
    "### 2.2 Consistencia\n",
    "##### Revision de que todos los datos que se encuentran dentro del dataframe cuamplan con las normas establecidas en el diccionario de datos"
   ]
  },
  {
   "cell_type": "code",
   "execution_count": 8,
   "metadata": {},
   "outputs": [
    {
     "name": "stdout",
     "output_type": "stream",
     "text": [
      "False\n"
     ]
    }
   ],
   "source": [
    "# check if year is between 1994 and 2020\n",
    "\n",
    "print(all(map(lambda x: x in range(1994,2021), df[\"year\"])))"
   ]
  },
  {
   "cell_type": "code",
   "execution_count": 9,
   "metadata": {},
   "outputs": [
    {
     "name": "stdout",
     "output_type": "stream",
     "text": [
      "False\n"
     ]
    }
   ],
   "source": [
    "# check if km_driven is between 1 and 2’360.457\n",
    "\n",
    "print(all(map(lambda x: x in range(1,2360458), df[\"km_driven\"])))"
   ]
  },
  {
   "cell_type": "code",
   "execution_count": 10,
   "metadata": {},
   "outputs": [
    {
     "name": "stdout",
     "output_type": "stream",
     "text": [
      "False\n"
     ]
    }
   ],
   "source": [
    "# check if owner is in ['First Owner', 'Second Owner', 'Third Owner', 'Fourth & Above Owner', 'Test Drive Car']\n",
    "\n",
    "print(all(map(lambda x: x in ['First Owner', 'Second Owner', 'Third Owner', 'Fourth & Above Owner', 'Test Drive Car'], df[\"owner\"])))"
   ]
  },
  {
   "cell_type": "code",
   "execution_count": 11,
   "metadata": {},
   "outputs": [
    {
     "name": "stdout",
     "output_type": "stream",
     "text": [
      "True\n"
     ]
    }
   ],
   "source": [
    "# check if seller_type is in ['Individual', 'Dealer', 'Trustmark Dealer']\n",
    "\n",
    "print(all(map(lambda x: x in ['Individual', 'Dealer', 'Trustmark Dealer'], df[\"seller_type\"])))"
   ]
  },
  {
   "cell_type": "code",
   "execution_count": 12,
   "metadata": {},
   "outputs": [
    {
     "name": "stdout",
     "output_type": "stream",
     "text": [
      "True\n"
     ]
    }
   ],
   "source": [
    "# check if seats is between 2 and 14\n",
    "\n",
    "print(all(map(lambda x: x in range(2,15), df[\"seats\"])))"
   ]
  },
  {
   "cell_type": "code",
   "execution_count": 13,
   "metadata": {},
   "outputs": [
    {
     "name": "stdout",
     "output_type": "stream",
     "text": [
      "True\n"
     ]
    }
   ],
   "source": [
    "# check if fuel is in ['Petrol', 'Diesel', 'CNG', 'LPG', 'Electric']\n",
    "\n",
    "print(all(map(lambda x: x in ['Petrol', 'Diesel', 'CNG', 'LPG', 'Electric'], df[\"fuel\"])))"
   ]
  },
  {
   "cell_type": "code",
   "execution_count": 14,
   "metadata": {},
   "outputs": [
    {
     "name": "stdout",
     "output_type": "stream",
     "text": [
      "True\n"
     ]
    }
   ],
   "source": [
    "# check if transmission is in ['Manual', 'Automatic']\n",
    "\n",
    "print(all(map(lambda x: x in ['Manual', 'Automatic'], df[\"transmission\"])))"
   ]
  },
  {
   "cell_type": "code",
   "execution_count": 15,
   "metadata": {
    "tags": []
   },
   "outputs": [
    {
     "name": "stdout",
     "output_type": "stream",
     "text": [
      "False\n"
     ]
    }
   ],
   "source": [
    "# check if mileage is between 0 and 46.816\n",
    "\n",
    "print(all(map(lambda x: 34.2 <= x <= 46.816, df[\"mileage\"])))"
   ]
  },
  {
   "cell_type": "code",
   "execution_count": 16,
   "metadata": {},
   "outputs": [
    {
     "name": "stdout",
     "output_type": "stream",
     "text": [
      "False\n"
     ]
    }
   ],
   "source": [
    "# check if engine is between 624 and 3604\n",
    "\n",
    "print(all(map(lambda x: x in range(624,3605), df[\"engine\"])))"
   ]
  },
  {
   "cell_type": "code",
   "execution_count": 17,
   "metadata": {
    "tags": []
   },
   "outputs": [
    {
     "name": "stdout",
     "output_type": "stream",
     "text": [
      "False\n"
     ]
    }
   ],
   "source": [
    "# check if max_power is between 34.2 and 400\n",
    "\n",
    "print(all(map(lambda x: 32.8 <= x <= 400, df[\"max_power\"])))"
   ]
  },
  {
   "cell_type": "code",
   "execution_count": 18,
   "metadata": {
    "tags": []
   },
   "outputs": [
    {
     "name": "stdout",
     "output_type": "stream",
     "text": [
      "False\n"
     ]
    }
   ],
   "source": [
    "# check if selling_price is between 363.45 and 121153.38\n",
    "\n",
    "print(all(map(lambda x: 363.45 <= x <= 121153.38, df[\"selling_price\"])))"
   ]
  },
  {
   "cell_type": "markdown",
   "metadata": {},
   "source": [
    "### 2.3 Consistencia\n",
    "##### Revisar que todos los datos sean consistentes semanticamente, es decir, los atributos sean unicos y no tengan otros nombres"
   ]
  },
  {
   "cell_type": "code",
   "execution_count": 19,
   "metadata": {},
   "outputs": [
    {
     "name": "stdout",
     "output_type": "stream",
     "text": [
      "owner [nan 'Second Owner' 'Third Owner' 'First Owner' 'Fourth & Above Owner'\n",
      " 'Test Drive Car']\n",
      "seller_type ['Individual' 'Dealer' 'Trustmark Dealer']\n",
      "fuel ['Diesel' 'Petrol' 'LPG' 'CNG']\n",
      "transmission ['Manual' 'Automatic']\n"
     ]
    }
   ],
   "source": [
    "# for every categorical variable, check if there are values that are not in the list of possible values\n",
    "\n",
    "categorical = ['owner', 'seller_type', 'fuel', 'transmission']\n",
    "\n",
    "for col in categorical:\n",
    "    print(col, df[col].unique())"
   ]
  },
  {
   "cell_type": "markdown",
   "metadata": {
    "tags": []
   },
   "source": [
    "## 3. Análisis Exploratorio"
   ]
  },
  {
   "cell_type": "markdown",
   "metadata": {},
   "source": [
    "### 3.1 Preparación de los datos\n",
    "##### Se deben preparar los datos para poderlos procesar. Esto incluye agregar nuevas columnas relevantes, llenar valores vacios con alguna metrica determinada y reemplazar los valores categoricos por representaciones numericas"
   ]
  },
  {
   "cell_type": "code",
   "execution_count": 20,
   "metadata": {},
   "outputs": [],
   "source": [
    "# Set a column that specifies the age gap\n",
    "df['antiquity'] = 2020 - df['year']"
   ]
  },
  {
   "cell_type": "code",
   "execution_count": 21,
   "metadata": {
    "tags": []
   },
   "outputs": [
    {
     "name": "stderr",
     "output_type": "stream",
     "text": [
      "/var/folders/7y/s678cmw965v15n9dxxzzvrjh0000gn/T/ipykernel_68532/1869067488.py:2: FutureWarning: The default value of numeric_only in DataFrame.median is deprecated. In a future version, it will default to False. In addition, specifying 'numeric_only=None' is deprecated. Select only valid columns or specify the value of numeric_only to silence this warning.\n",
      "  df = df.fillna(df.median())\n"
     ]
    }
   ],
   "source": [
    "# Fill numerical values with the median so as not to skew the data\n",
    "df = df.fillna(df.median())"
   ]
  },
  {
   "cell_type": "code",
   "execution_count": 22,
   "metadata": {
    "tags": []
   },
   "outputs": [],
   "source": [
    "# Fill categorical values with the mode\n",
    "categorical_cols = ['owner', 'seller_type', 'fuel', 'transmission']\n",
    "for col in categorical_cols:\n",
    "    df[col] = df[col].fillna(df[col].mode()[0])"
   ]
  },
  {
   "cell_type": "code",
   "execution_count": 23,
   "metadata": {
    "tags": []
   },
   "outputs": [
    {
     "name": "stdout",
     "output_type": "stream",
     "text": [
      "<class 'pandas.core.frame.DataFrame'>\n",
      "RangeIndex: 7115 entries, 0 to 7114\n",
      "Data columns (total 12 columns):\n",
      " #   Column         Non-Null Count  Dtype  \n",
      "---  ------         --------------  -----  \n",
      " 0   year           7115 non-null   float64\n",
      " 1   km_driven      7115 non-null   float64\n",
      " 2   owner          7115 non-null   int64  \n",
      " 3   seller_type    7115 non-null   int64  \n",
      " 4   seats          7115 non-null   float64\n",
      " 5   fuel           7115 non-null   int64  \n",
      " 6   transmission   7115 non-null   int64  \n",
      " 7   mileage        7115 non-null   float64\n",
      " 8   engine         7115 non-null   float64\n",
      " 9   max_power      7115 non-null   float64\n",
      " 10  selling_price  7115 non-null   float64\n",
      " 11  antiquity      7115 non-null   float64\n",
      "dtypes: float64(8), int64(4)\n",
      "memory usage: 667.2 KB\n"
     ]
    }
   ],
   "source": [
    "# Replace all the categorical values with numbers\n",
    "df['owner'] = df['owner'].replace({'First Owner': 1, 'Second Owner': 2, 'Third Owner': 3, 'Fourth & Above Owner': 4, 'Test Drive Car': 5})\n",
    "df['seller_type'] = df['seller_type'].replace({'Individual': 1, 'Dealer': 2, 'Trustmark Dealer': 3})\n",
    "df['fuel'] = df['fuel'].replace({'Petrol': 1, 'Diesel': 2, 'CNG': 3, 'LPG': 4, 'Electric': 5})\n",
    "df['transmission'] = df['transmission'].replace({'Manual': 1, 'Automatic': 2})\n",
    "\n",
    "df.info()"
   ]
  },
  {
   "cell_type": "code",
   "execution_count": 24,
   "metadata": {
    "tags": []
   },
   "outputs": [],
   "source": [
    "# Asumimos que el experto decidio que estos eran los features mas relevantes\n",
    "features = [\"antiquity\", \"km_driven\", \"seats\", \"fuel\", \"transmission\", \"max_power\"]"
   ]
  },
  {
   "cell_type": "code",
   "execution_count": 25,
   "metadata": {},
   "outputs": [],
   "source": [
    "# Make a scaler to normalize de data\n",
    "scaler = StandardScaler()\n",
    "x = df\n",
    "y = df['selling_price']\n",
    "features = [\"antiquity\", \"km_driven\", \"seats\", \"fuel\", \"transmission\", \"max_power\"]\n",
    "x = scaler.fit_transform(x[features])"
   ]
  },
  {
   "cell_type": "code",
   "execution_count": 26,
   "metadata": {},
   "outputs": [
    {
     "data": {
      "text/html": [
       "<div>\n",
       "<style scoped>\n",
       "    .dataframe tbody tr th:only-of-type {\n",
       "        vertical-align: middle;\n",
       "    }\n",
       "\n",
       "    .dataframe tbody tr th {\n",
       "        vertical-align: top;\n",
       "    }\n",
       "\n",
       "    .dataframe thead th {\n",
       "        text-align: right;\n",
       "    }\n",
       "</style>\n",
       "<table border=\"1\" class=\"dataframe\">\n",
       "  <thead>\n",
       "    <tr style=\"text-align: right;\">\n",
       "      <th></th>\n",
       "      <th>antiquity</th>\n",
       "      <th>km_driven</th>\n",
       "      <th>seats</th>\n",
       "      <th>fuel</th>\n",
       "      <th>transmission</th>\n",
       "      <th>max_power</th>\n",
       "      <th>selling_price</th>\n",
       "    </tr>\n",
       "  </thead>\n",
       "  <tbody>\n",
       "    <tr>\n",
       "      <th>0</th>\n",
       "      <td>-0.259746</td>\n",
       "      <td>1.340640</td>\n",
       "      <td>-0.431157</td>\n",
       "      <td>0.809492</td>\n",
       "      <td>-0.392073</td>\n",
       "      <td>-0.243622</td>\n",
       "      <td>5451.90</td>\n",
       "    </tr>\n",
       "    <tr>\n",
       "      <th>1</th>\n",
       "      <td>0.004004</td>\n",
       "      <td>0.894590</td>\n",
       "      <td>-0.431157</td>\n",
       "      <td>0.809492</td>\n",
       "      <td>-0.392073</td>\n",
       "      <td>-0.134265</td>\n",
       "      <td>4482.68</td>\n",
       "    </tr>\n",
       "    <tr>\n",
       "      <th>2</th>\n",
       "      <td>2.113998</td>\n",
       "      <td>1.244433</td>\n",
       "      <td>-0.431157</td>\n",
       "      <td>-1.060487</td>\n",
       "      <td>-0.392073</td>\n",
       "      <td>-0.228804</td>\n",
       "      <td>1914.22</td>\n",
       "    </tr>\n",
       "    <tr>\n",
       "      <th>3</th>\n",
       "      <td>1.059001</td>\n",
       "      <td>1.017035</td>\n",
       "      <td>-0.431157</td>\n",
       "      <td>0.809492</td>\n",
       "      <td>-0.392073</td>\n",
       "      <td>-0.209911</td>\n",
       "      <td>2725.95</td>\n",
       "    </tr>\n",
       "    <tr>\n",
       "      <th>4</th>\n",
       "      <td>1.850249</td>\n",
       "      <td>0.894590</td>\n",
       "      <td>-0.431157</td>\n",
       "      <td>-1.060487</td>\n",
       "      <td>-0.392073</td>\n",
       "      <td>-0.191018</td>\n",
       "      <td>1574.99</td>\n",
       "    </tr>\n",
       "    <tr>\n",
       "      <th>...</th>\n",
       "      <td>...</td>\n",
       "      <td>...</td>\n",
       "      <td>...</td>\n",
       "      <td>...</td>\n",
       "      <td>...</td>\n",
       "      <td>...</td>\n",
       "      <td>...</td>\n",
       "    </tr>\n",
       "    <tr>\n",
       "      <th>7110</th>\n",
       "      <td>0.267753</td>\n",
       "      <td>0.719669</td>\n",
       "      <td>-0.431157</td>\n",
       "      <td>-1.060487</td>\n",
       "      <td>-0.392073</td>\n",
       "      <td>5.133130</td>\n",
       "      <td>3876.91</td>\n",
       "    </tr>\n",
       "    <tr>\n",
       "      <th>7111</th>\n",
       "      <td>1.850249</td>\n",
       "      <td>0.877098</td>\n",
       "      <td>-0.431157</td>\n",
       "      <td>0.809492</td>\n",
       "      <td>-0.392073</td>\n",
       "      <td>-0.110260</td>\n",
       "      <td>1635.57</td>\n",
       "    </tr>\n",
       "    <tr>\n",
       "      <th>7112</th>\n",
       "      <td>1.322750</td>\n",
       "      <td>0.894590</td>\n",
       "      <td>-0.431157</td>\n",
       "      <td>0.809492</td>\n",
       "      <td>-0.392073</td>\n",
       "      <td>-0.243992</td>\n",
       "      <td>4628.06</td>\n",
       "    </tr>\n",
       "    <tr>\n",
       "      <th>7113</th>\n",
       "      <td>0.267753</td>\n",
       "      <td>-0.767164</td>\n",
       "      <td>-0.431157</td>\n",
       "      <td>0.809492</td>\n",
       "      <td>-0.392073</td>\n",
       "      <td>-0.258440</td>\n",
       "      <td>3513.45</td>\n",
       "    </tr>\n",
       "    <tr>\n",
       "      <th>7114</th>\n",
       "      <td>0.267753</td>\n",
       "      <td>-0.767164</td>\n",
       "      <td>-0.431157</td>\n",
       "      <td>0.809492</td>\n",
       "      <td>-0.392073</td>\n",
       "      <td>-0.258440</td>\n",
       "      <td>3513.45</td>\n",
       "    </tr>\n",
       "  </tbody>\n",
       "</table>\n",
       "<p>7115 rows × 7 columns</p>\n",
       "</div>"
      ],
      "text/plain": [
       "      antiquity  km_driven     seats      fuel  transmission  max_power  \\\n",
       "0     -0.259746   1.340640 -0.431157  0.809492     -0.392073  -0.243622   \n",
       "1      0.004004   0.894590 -0.431157  0.809492     -0.392073  -0.134265   \n",
       "2      2.113998   1.244433 -0.431157 -1.060487     -0.392073  -0.228804   \n",
       "3      1.059001   1.017035 -0.431157  0.809492     -0.392073  -0.209911   \n",
       "4      1.850249   0.894590 -0.431157 -1.060487     -0.392073  -0.191018   \n",
       "...         ...        ...       ...       ...           ...        ...   \n",
       "7110   0.267753   0.719669 -0.431157 -1.060487     -0.392073   5.133130   \n",
       "7111   1.850249   0.877098 -0.431157  0.809492     -0.392073  -0.110260   \n",
       "7112   1.322750   0.894590 -0.431157  0.809492     -0.392073  -0.243992   \n",
       "7113   0.267753  -0.767164 -0.431157  0.809492     -0.392073  -0.258440   \n",
       "7114   0.267753  -0.767164 -0.431157  0.809492     -0.392073  -0.258440   \n",
       "\n",
       "      selling_price  \n",
       "0           5451.90  \n",
       "1           4482.68  \n",
       "2           1914.22  \n",
       "3           2725.95  \n",
       "4           1574.99  \n",
       "...             ...  \n",
       "7110        3876.91  \n",
       "7111        1635.57  \n",
       "7112        4628.06  \n",
       "7113        3513.45  \n",
       "7114        3513.45  \n",
       "\n",
       "[7115 rows x 7 columns]"
      ]
     },
     "execution_count": 26,
     "metadata": {},
     "output_type": "execute_result"
    }
   ],
   "source": [
    "# Make a dataframe with the normalized data and keep the old one\n",
    "df = pd.DataFrame(x, columns=features)\n",
    "df['selling_price'] = y\n",
    "df"
   ]
  },
  {
   "cell_type": "markdown",
   "metadata": {},
   "source": [
    "### 3.2 Visualización de los datos\n",
    "##### Se visualizan los datos incialmente comparados contra el \"selling_price\" para ver tendencias y ayudar en la identificacion de features"
   ]
  },
  {
   "cell_type": "code",
   "execution_count": 27,
   "metadata": {
    "tags": []
   },
   "outputs": [],
   "source": [
    "#sns.pairplot(df)\n",
    "#plt.show()"
   ]
  },
  {
   "cell_type": "code",
   "execution_count": 28,
   "metadata": {
    "tags": []
   },
   "outputs": [
    {
     "data": {
      "text/plain": [
       "<seaborn.axisgrid.PairGrid at 0x14777f910>"
      ]
     },
     "execution_count": 28,
     "metadata": {},
     "output_type": "execute_result"
    },
    {
     "data": {
      "image/png": "[encoded data removed]",
      "text/plain": [
       "<Figure size 2800x400 with 8 Axes>"
      ]
     },
     "metadata": {},
     "output_type": "display_data"
    },
    {
     "data": {
      "image/png": "[encoded data removed]",
      "text/plain": [
       "<Figure size 2800x400 with 8 Axes>"
      ]
     },
     "metadata": {},
     "output_type": "display_data"
    }
   ],
   "source": [
    "sns.pairplot(df, x_vars=list(df.columns), y_vars='selling_price', height=4, aspect=1, kind='reg')\n",
    "sns.pairplot(df, x_vars=list(df.columns), y_vars='selling_price', height=4, aspect=1)"
   ]
  },
  {
   "cell_type": "code",
   "execution_count": 29,
   "metadata": {
    "tags": []
   },
   "outputs": [
    {
     "data": {
      "text/html": [
       "<div>\n",
       "<style scoped>\n",
       "    .dataframe tbody tr th:only-of-type {\n",
       "        vertical-align: middle;\n",
       "    }\n",
       "\n",
       "    .dataframe tbody tr th {\n",
       "        vertical-align: top;\n",
       "    }\n",
       "\n",
       "    .dataframe thead th {\n",
       "        text-align: right;\n",
       "    }\n",
       "</style>\n",
       "<table border=\"1\" class=\"dataframe\">\n",
       "  <thead>\n",
       "    <tr style=\"text-align: right;\">\n",
       "      <th></th>\n",
       "      <th>antiquity</th>\n",
       "      <th>km_driven</th>\n",
       "      <th>seats</th>\n",
       "      <th>fuel</th>\n",
       "      <th>transmission</th>\n",
       "      <th>max_power</th>\n",
       "      <th>selling_price</th>\n",
       "    </tr>\n",
       "  </thead>\n",
       "  <tbody>\n",
       "    <tr>\n",
       "      <th>antiquity</th>\n",
       "      <td>1.000000</td>\n",
       "      <td>0.412650</td>\n",
       "      <td>0.013623</td>\n",
       "      <td>-0.018283</td>\n",
       "      <td>-0.239609</td>\n",
       "      <td>-0.053672</td>\n",
       "      <td>-0.102322</td>\n",
       "    </tr>\n",
       "    <tr>\n",
       "      <th>km_driven</th>\n",
       "      <td>0.412650</td>\n",
       "      <td>1.000000</td>\n",
       "      <td>0.224160</td>\n",
       "      <td>0.253972</td>\n",
       "      <td>-0.192115</td>\n",
       "      <td>-0.007598</td>\n",
       "      <td>-0.057280</td>\n",
       "    </tr>\n",
       "    <tr>\n",
       "      <th>seats</th>\n",
       "      <td>0.013623</td>\n",
       "      <td>0.224160</td>\n",
       "      <td>1.000000</td>\n",
       "      <td>0.305467</td>\n",
       "      <td>-0.073186</td>\n",
       "      <td>0.022073</td>\n",
       "      <td>0.013726</td>\n",
       "    </tr>\n",
       "    <tr>\n",
       "      <th>fuel</th>\n",
       "      <td>-0.018283</td>\n",
       "      <td>0.253972</td>\n",
       "      <td>0.305467</td>\n",
       "      <td>1.000000</td>\n",
       "      <td>-0.041470</td>\n",
       "      <td>0.037757</td>\n",
       "      <td>0.026568</td>\n",
       "    </tr>\n",
       "    <tr>\n",
       "      <th>transmission</th>\n",
       "      <td>-0.239609</td>\n",
       "      <td>-0.192115</td>\n",
       "      <td>-0.073186</td>\n",
       "      <td>-0.041470</td>\n",
       "      <td>1.000000</td>\n",
       "      <td>0.072900</td>\n",
       "      <td>0.149686</td>\n",
       "    </tr>\n",
       "    <tr>\n",
       "      <th>max_power</th>\n",
       "      <td>-0.053672</td>\n",
       "      <td>-0.007598</td>\n",
       "      <td>0.022073</td>\n",
       "      <td>0.037757</td>\n",
       "      <td>0.072900</td>\n",
       "      <td>1.000000</td>\n",
       "      <td>0.015804</td>\n",
       "    </tr>\n",
       "    <tr>\n",
       "      <th>selling_price</th>\n",
       "      <td>-0.102322</td>\n",
       "      <td>-0.057280</td>\n",
       "      <td>0.013726</td>\n",
       "      <td>0.026568</td>\n",
       "      <td>0.149686</td>\n",
       "      <td>0.015804</td>\n",
       "      <td>1.000000</td>\n",
       "    </tr>\n",
       "  </tbody>\n",
       "</table>\n",
       "</div>"
      ],
      "text/plain": [
       "               antiquity  km_driven     seats      fuel  transmission  \\\n",
       "antiquity       1.000000   0.412650  0.013623 -0.018283     -0.239609   \n",
       "km_driven       0.412650   1.000000  0.224160  0.253972     -0.192115   \n",
       "seats           0.013623   0.224160  1.000000  0.305467     -0.073186   \n",
       "fuel           -0.018283   0.253972  0.305467  1.000000     -0.041470   \n",
       "transmission   -0.239609  -0.192115 -0.073186 -0.041470      1.000000   \n",
       "max_power      -0.053672  -0.007598  0.022073  0.037757      0.072900   \n",
       "selling_price  -0.102322  -0.057280  0.013726  0.026568      0.149686   \n",
       "\n",
       "               max_power  selling_price  \n",
       "antiquity      -0.053672      -0.102322  \n",
       "km_driven      -0.007598      -0.057280  \n",
       "seats           0.022073       0.013726  \n",
       "fuel            0.037757       0.026568  \n",
       "transmission    0.072900       0.149686  \n",
       "max_power       1.000000       0.015804  \n",
       "selling_price   0.015804       1.000000  "
      ]
     },
     "execution_count": 29,
     "metadata": {},
     "output_type": "execute_result"
    }
   ],
   "source": [
    "df[df.columns].corr()"
   ]
  },
  {
   "cell_type": "code",
   "execution_count": 30,
   "metadata": {},
   "outputs": [
    {
     "data": {
      "text/html": [
       "<div>\n",
       "<style scoped>\n",
       "    .dataframe tbody tr th:only-of-type {\n",
       "        vertical-align: middle;\n",
       "    }\n",
       "\n",
       "    .dataframe tbody tr th {\n",
       "        vertical-align: top;\n",
       "    }\n",
       "\n",
       "    .dataframe thead th {\n",
       "        text-align: right;\n",
       "    }\n",
       "</style>\n",
       "<table border=\"1\" class=\"dataframe\">\n",
       "  <thead>\n",
       "    <tr style=\"text-align: right;\">\n",
       "      <th></th>\n",
       "      <th>antiquity</th>\n",
       "      <th>km_driven</th>\n",
       "      <th>seats</th>\n",
       "      <th>fuel</th>\n",
       "      <th>transmission</th>\n",
       "      <th>max_power</th>\n",
       "    </tr>\n",
       "  </thead>\n",
       "  <tbody>\n",
       "    <tr>\n",
       "      <th>antiquity</th>\n",
       "      <td>1.000000</td>\n",
       "      <td>0.412650</td>\n",
       "      <td>0.013623</td>\n",
       "      <td>-0.018283</td>\n",
       "      <td>-0.239609</td>\n",
       "      <td>-0.053672</td>\n",
       "    </tr>\n",
       "    <tr>\n",
       "      <th>km_driven</th>\n",
       "      <td>0.412650</td>\n",
       "      <td>1.000000</td>\n",
       "      <td>0.224160</td>\n",
       "      <td>0.253972</td>\n",
       "      <td>-0.192115</td>\n",
       "      <td>-0.007598</td>\n",
       "    </tr>\n",
       "    <tr>\n",
       "      <th>seats</th>\n",
       "      <td>0.013623</td>\n",
       "      <td>0.224160</td>\n",
       "      <td>1.000000</td>\n",
       "      <td>0.305467</td>\n",
       "      <td>-0.073186</td>\n",
       "      <td>0.022073</td>\n",
       "    </tr>\n",
       "    <tr>\n",
       "      <th>fuel</th>\n",
       "      <td>-0.018283</td>\n",
       "      <td>0.253972</td>\n",
       "      <td>0.305467</td>\n",
       "      <td>1.000000</td>\n",
       "      <td>-0.041470</td>\n",
       "      <td>0.037757</td>\n",
       "    </tr>\n",
       "    <tr>\n",
       "      <th>transmission</th>\n",
       "      <td>-0.239609</td>\n",
       "      <td>-0.192115</td>\n",
       "      <td>-0.073186</td>\n",
       "      <td>-0.041470</td>\n",
       "      <td>1.000000</td>\n",
       "      <td>0.072900</td>\n",
       "    </tr>\n",
       "    <tr>\n",
       "      <th>max_power</th>\n",
       "      <td>-0.053672</td>\n",
       "      <td>-0.007598</td>\n",
       "      <td>0.022073</td>\n",
       "      <td>0.037757</td>\n",
       "      <td>0.072900</td>\n",
       "      <td>1.000000</td>\n",
       "    </tr>\n",
       "  </tbody>\n",
       "</table>\n",
       "</div>"
      ],
      "text/plain": [
       "              antiquity  km_driven     seats      fuel  transmission  \\\n",
       "antiquity      1.000000   0.412650  0.013623 -0.018283     -0.239609   \n",
       "km_driven      0.412650   1.000000  0.224160  0.253972     -0.192115   \n",
       "seats          0.013623   0.224160  1.000000  0.305467     -0.073186   \n",
       "fuel          -0.018283   0.253972  0.305467  1.000000     -0.041470   \n",
       "transmission  -0.239609  -0.192115 -0.073186 -0.041470      1.000000   \n",
       "max_power     -0.053672  -0.007598  0.022073  0.037757      0.072900   \n",
       "\n",
       "              max_power  \n",
       "antiquity     -0.053672  \n",
       "km_driven     -0.007598  \n",
       "seats          0.022073  \n",
       "fuel           0.037757  \n",
       "transmission   0.072900  \n",
       "max_power      1.000000  "
      ]
     },
     "execution_count": 30,
     "metadata": {},
     "output_type": "execute_result"
    }
   ],
   "source": [
    "# Correlation between features chosen\n",
    "df[features].corr()"
   ]
  },
  {
   "cell_type": "markdown",
   "metadata": {
    "tags": []
   },
   "source": [
    "## 4. Modelamiento\n",
    "##### Se procede a realizar el modelo de acuerdo a la limpieza de los datos y atributos escogidos como mas relevantes para entrenar el modelo"
   ]
  },
  {
   "cell_type": "code",
   "execution_count": 31,
   "metadata": {
    "tags": []
   },
   "outputs": [],
   "source": [
    "x_train, x_test, y_train, y_test = train_test_split(df[features], df['selling_price'], test_size = 0.3, random_state = 1)"
   ]
  },
  {
   "cell_type": "code",
   "execution_count": 32,
   "metadata": {
    "tags": []
   },
   "outputs": [
    {
     "data": {
      "text/html": [
       "<div>\n",
       "<style scoped>\n",
       "    .dataframe tbody tr th:only-of-type {\n",
       "        vertical-align: middle;\n",
       "    }\n",
       "\n",
       "    .dataframe tbody tr th {\n",
       "        vertical-align: top;\n",
       "    }\n",
       "\n",
       "    .dataframe thead th {\n",
       "        text-align: right;\n",
       "    }\n",
       "</style>\n",
       "<table border=\"1\" class=\"dataframe\">\n",
       "  <thead>\n",
       "    <tr style=\"text-align: right;\">\n",
       "      <th></th>\n",
       "      <th>antiquity</th>\n",
       "      <th>km_driven</th>\n",
       "      <th>seats</th>\n",
       "      <th>fuel</th>\n",
       "      <th>transmission</th>\n",
       "      <th>max_power</th>\n",
       "    </tr>\n",
       "  </thead>\n",
       "  <tbody>\n",
       "    <tr>\n",
       "      <th>1839</th>\n",
       "      <td>1.850249</td>\n",
       "      <td>0.894590</td>\n",
       "      <td>1.666405</td>\n",
       "      <td>0.809492</td>\n",
       "      <td>-0.392073</td>\n",
       "      <td>-0.284371</td>\n",
       "    </tr>\n",
       "    <tr>\n",
       "      <th>1019</th>\n",
       "      <td>0.267753</td>\n",
       "      <td>1.856659</td>\n",
       "      <td>-0.431157</td>\n",
       "      <td>0.809492</td>\n",
       "      <td>-0.392073</td>\n",
       "      <td>-0.262144</td>\n",
       "    </tr>\n",
       "    <tr>\n",
       "      <th>6009</th>\n",
       "      <td>-0.787244</td>\n",
       "      <td>-1.117007</td>\n",
       "      <td>-0.431157</td>\n",
       "      <td>-1.060487</td>\n",
       "      <td>-0.392073</td>\n",
       "      <td>-0.320305</td>\n",
       "    </tr>\n",
       "    <tr>\n",
       "      <th>1891</th>\n",
       "      <td>0.531502</td>\n",
       "      <td>-0.364845</td>\n",
       "      <td>-0.431157</td>\n",
       "      <td>-1.060487</td>\n",
       "      <td>-0.392073</td>\n",
       "      <td>-0.269183</td>\n",
       "    </tr>\n",
       "    <tr>\n",
       "      <th>3477</th>\n",
       "      <td>0.531502</td>\n",
       "      <td>1.052020</td>\n",
       "      <td>1.666405</td>\n",
       "      <td>0.809492</td>\n",
       "      <td>-0.392073</td>\n",
       "      <td>0.000875</td>\n",
       "    </tr>\n",
       "    <tr>\n",
       "      <th>...</th>\n",
       "      <td>...</td>\n",
       "      <td>...</td>\n",
       "      <td>...</td>\n",
       "      <td>...</td>\n",
       "      <td>...</td>\n",
       "      <td>...</td>\n",
       "    </tr>\n",
       "    <tr>\n",
       "      <th>905</th>\n",
       "      <td>0.267753</td>\n",
       "      <td>0.019982</td>\n",
       "      <td>-0.431157</td>\n",
       "      <td>-1.060487</td>\n",
       "      <td>-0.392073</td>\n",
       "      <td>-0.265664</td>\n",
       "    </tr>\n",
       "    <tr>\n",
       "      <th>5192</th>\n",
       "      <td>-0.523495</td>\n",
       "      <td>-0.644719</td>\n",
       "      <td>-0.431157</td>\n",
       "      <td>0.809492</td>\n",
       "      <td>-0.392073</td>\n",
       "      <td>-0.189907</td>\n",
       "    </tr>\n",
       "    <tr>\n",
       "      <th>3980</th>\n",
       "      <td>-1.314743</td>\n",
       "      <td>-0.504782</td>\n",
       "      <td>-0.431157</td>\n",
       "      <td>0.809492</td>\n",
       "      <td>-0.392073</td>\n",
       "      <td>-0.155084</td>\n",
       "    </tr>\n",
       "    <tr>\n",
       "      <th>235</th>\n",
       "      <td>0.531502</td>\n",
       "      <td>2.171517</td>\n",
       "      <td>-0.431157</td>\n",
       "      <td>0.809492</td>\n",
       "      <td>-0.392073</td>\n",
       "      <td>-0.243992</td>\n",
       "    </tr>\n",
       "    <tr>\n",
       "      <th>5157</th>\n",
       "      <td>-0.787244</td>\n",
       "      <td>-0.329861</td>\n",
       "      <td>-0.431157</td>\n",
       "      <td>0.809492</td>\n",
       "      <td>-0.392073</td>\n",
       "      <td>-0.155084</td>\n",
       "    </tr>\n",
       "  </tbody>\n",
       "</table>\n",
       "<p>4980 rows × 6 columns</p>\n",
       "</div>"
      ],
      "text/plain": [
       "      antiquity  km_driven     seats      fuel  transmission  max_power\n",
       "1839   1.850249   0.894590  1.666405  0.809492     -0.392073  -0.284371\n",
       "1019   0.267753   1.856659 -0.431157  0.809492     -0.392073  -0.262144\n",
       "6009  -0.787244  -1.117007 -0.431157 -1.060487     -0.392073  -0.320305\n",
       "1891   0.531502  -0.364845 -0.431157 -1.060487     -0.392073  -0.269183\n",
       "3477   0.531502   1.052020  1.666405  0.809492     -0.392073   0.000875\n",
       "...         ...        ...       ...       ...           ...        ...\n",
       "905    0.267753   0.019982 -0.431157 -1.060487     -0.392073  -0.265664\n",
       "5192  -0.523495  -0.644719 -0.431157  0.809492     -0.392073  -0.189907\n",
       "3980  -1.314743  -0.504782 -0.431157  0.809492     -0.392073  -0.155084\n",
       "235    0.531502   2.171517 -0.431157  0.809492     -0.392073  -0.243992\n",
       "5157  -0.787244  -0.329861 -0.431157  0.809492     -0.392073  -0.155084\n",
       "\n",
       "[4980 rows x 6 columns]"
      ]
     },
     "execution_count": 32,
     "metadata": {},
     "output_type": "execute_result"
    }
   ],
   "source": [
    "x_train"
   ]
  },
  {
   "cell_type": "code",
   "execution_count": 33,
   "metadata": {
    "tags": []
   },
   "outputs": [
    {
     "data": {
      "text/html": [
       "<div>\n",
       "<style scoped>\n",
       "    .dataframe tbody tr th:only-of-type {\n",
       "        vertical-align: middle;\n",
       "    }\n",
       "\n",
       "    .dataframe tbody tr th {\n",
       "        vertical-align: top;\n",
       "    }\n",
       "\n",
       "    .dataframe thead th {\n",
       "        text-align: right;\n",
       "    }\n",
       "</style>\n",
       "<table border=\"1\" class=\"dataframe\">\n",
       "  <thead>\n",
       "    <tr style=\"text-align: right;\">\n",
       "      <th></th>\n",
       "      <th>antiquity</th>\n",
       "      <th>km_driven</th>\n",
       "      <th>seats</th>\n",
       "      <th>fuel</th>\n",
       "      <th>transmission</th>\n",
       "      <th>max_power</th>\n",
       "    </tr>\n",
       "  </thead>\n",
       "  <tbody>\n",
       "    <tr>\n",
       "      <th>5930</th>\n",
       "      <td>0.531502</td>\n",
       "      <td>1.349386</td>\n",
       "      <td>-0.431157</td>\n",
       "      <td>0.809492</td>\n",
       "      <td>-0.392073</td>\n",
       "      <td>-0.049802</td>\n",
       "    </tr>\n",
       "    <tr>\n",
       "      <th>2441</th>\n",
       "      <td>-0.523495</td>\n",
       "      <td>-0.644719</td>\n",
       "      <td>-0.431157</td>\n",
       "      <td>-1.060487</td>\n",
       "      <td>-0.392073</td>\n",
       "      <td>-0.214727</td>\n",
       "    </tr>\n",
       "    <tr>\n",
       "      <th>5028</th>\n",
       "      <td>0.004004</td>\n",
       "      <td>-0.329861</td>\n",
       "      <td>1.666405</td>\n",
       "      <td>0.809492</td>\n",
       "      <td>-0.392073</td>\n",
       "      <td>0.000875</td>\n",
       "    </tr>\n",
       "    <tr>\n",
       "      <th>1564</th>\n",
       "      <td>-1.050994</td>\n",
       "      <td>-1.117007</td>\n",
       "      <td>-0.431157</td>\n",
       "      <td>-1.060487</td>\n",
       "      <td>-0.392073</td>\n",
       "      <td>-0.214727</td>\n",
       "    </tr>\n",
       "    <tr>\n",
       "      <th>5213</th>\n",
       "      <td>-0.523495</td>\n",
       "      <td>0.894590</td>\n",
       "      <td>1.666405</td>\n",
       "      <td>0.809492</td>\n",
       "      <td>-0.392073</td>\n",
       "      <td>-0.189907</td>\n",
       "    </tr>\n",
       "    <tr>\n",
       "      <th>...</th>\n",
       "      <td>...</td>\n",
       "      <td>...</td>\n",
       "      <td>...</td>\n",
       "      <td>...</td>\n",
       "      <td>...</td>\n",
       "      <td>...</td>\n",
       "    </tr>\n",
       "    <tr>\n",
       "      <th>5477</th>\n",
       "      <td>0.531502</td>\n",
       "      <td>0.492271</td>\n",
       "      <td>-0.431157</td>\n",
       "      <td>4.549451</td>\n",
       "      <td>-0.392073</td>\n",
       "      <td>-0.265478</td>\n",
       "    </tr>\n",
       "    <tr>\n",
       "      <th>643</th>\n",
       "      <td>0.004004</td>\n",
       "      <td>-0.154939</td>\n",
       "      <td>-0.431157</td>\n",
       "      <td>0.809492</td>\n",
       "      <td>-0.392073</td>\n",
       "      <td>-0.188795</td>\n",
       "    </tr>\n",
       "    <tr>\n",
       "      <th>6643</th>\n",
       "      <td>0.795251</td>\n",
       "      <td>0.492271</td>\n",
       "      <td>-0.431157</td>\n",
       "      <td>0.809492</td>\n",
       "      <td>-0.392073</td>\n",
       "      <td>-0.243622</td>\n",
       "    </tr>\n",
       "    <tr>\n",
       "      <th>2188</th>\n",
       "      <td>-1.314743</td>\n",
       "      <td>-1.029547</td>\n",
       "      <td>-0.431157</td>\n",
       "      <td>-1.060487</td>\n",
       "      <td>-0.392073</td>\n",
       "      <td>-0.269368</td>\n",
       "    </tr>\n",
       "    <tr>\n",
       "      <th>4966</th>\n",
       "      <td>3.696494</td>\n",
       "      <td>1.944119</td>\n",
       "      <td>-0.431157</td>\n",
       "      <td>-1.060487</td>\n",
       "      <td>-0.392073</td>\n",
       "      <td>-0.295485</td>\n",
       "    </tr>\n",
       "  </tbody>\n",
       "</table>\n",
       "<p>2135 rows × 6 columns</p>\n",
       "</div>"
      ],
      "text/plain": [
       "      antiquity  km_driven     seats      fuel  transmission  max_power\n",
       "5930   0.531502   1.349386 -0.431157  0.809492     -0.392073  -0.049802\n",
       "2441  -0.523495  -0.644719 -0.431157 -1.060487     -0.392073  -0.214727\n",
       "5028   0.004004  -0.329861  1.666405  0.809492     -0.392073   0.000875\n",
       "1564  -1.050994  -1.117007 -0.431157 -1.060487     -0.392073  -0.214727\n",
       "5213  -0.523495   0.894590  1.666405  0.809492     -0.392073  -0.189907\n",
       "...         ...        ...       ...       ...           ...        ...\n",
       "5477   0.531502   0.492271 -0.431157  4.549451     -0.392073  -0.265478\n",
       "643    0.004004  -0.154939 -0.431157  0.809492     -0.392073  -0.188795\n",
       "6643   0.795251   0.492271 -0.431157  0.809492     -0.392073  -0.243622\n",
       "2188  -1.314743  -1.029547 -0.431157 -1.060487     -0.392073  -0.269368\n",
       "4966   3.696494   1.944119 -0.431157 -1.060487     -0.392073  -0.295485\n",
       "\n",
       "[2135 rows x 6 columns]"
      ]
     },
     "execution_count": 33,
     "metadata": {},
     "output_type": "execute_result"
    }
   ],
   "source": [
    "x_test"
   ]
  },
  {
   "cell_type": "code",
   "execution_count": 34,
   "metadata": {
    "tags": []
   },
   "outputs": [
    {
     "data": {
      "text/plain": [
       "1839     5451.90\n",
       "1019     2423.07\n",
       "6009     3452.87\n",
       "1891     3053.07\n",
       "3477     7208.63\n",
       "          ...   \n",
       "905      3755.75\n",
       "5192     8359.58\n",
       "3980    14538.41\n",
       "235      3876.91\n",
       "5157    12721.10\n",
       "Name: selling_price, Length: 4980, dtype: float64"
      ]
     },
     "execution_count": 34,
     "metadata": {},
     "output_type": "execute_result"
    }
   ],
   "source": [
    "y_train"
   ]
  },
  {
   "cell_type": "code",
   "execution_count": 35,
   "metadata": {
    "tags": []
   },
   "outputs": [
    {
     "data": {
      "text/plain": [
       "5930    5633.63\n",
       "2441    6057.67\n",
       "5028    9086.50\n",
       "1564    6663.44\n",
       "5213    9571.12\n",
       "         ...   \n",
       "5477    5451.90\n",
       "643     4240.37\n",
       "6643    4543.25\n",
       "2188    4834.02\n",
       "4966     605.77\n",
       "Name: selling_price, Length: 2135, dtype: float64"
      ]
     },
     "execution_count": 35,
     "metadata": {},
     "output_type": "execute_result"
    }
   ],
   "source": [
    "y_test"
   ]
  },
  {
   "cell_type": "code",
   "execution_count": 36,
   "metadata": {
    "tags": []
   },
   "outputs": [
    {
     "data": {
      "text/plain": [
       "((4980, 6), (4980,))"
      ]
     },
     "execution_count": 36,
     "metadata": {},
     "output_type": "execute_result"
    }
   ],
   "source": [
    "x_train.shape, y_train.shape"
   ]
  },
  {
   "cell_type": "code",
   "execution_count": 37,
   "metadata": {},
   "outputs": [
    {
     "data": {
      "text/plain": [
       "((2135, 6), (2135,))"
      ]
     },
     "execution_count": 37,
     "metadata": {},
     "output_type": "execute_result"
    }
   ],
   "source": [
    "x_test.shape, y_test.shape"
   ]
  },
  {
   "cell_type": "markdown",
   "metadata": {},
   "source": [
    "### 4.1. Regresion\n",
    "##### Se procede a realizar una regresion linear para tratar de predecir el \"selling_price\" de acuerdo con los atributos escogidos"
   ]
  },
  {
   "cell_type": "code",
   "execution_count": 38,
   "metadata": {
    "tags": []
   },
   "outputs": [],
   "source": [
    "regression = LinearRegression()"
   ]
  },
  {
   "cell_type": "code",
   "execution_count": 39,
   "metadata": {
    "tags": []
   },
   "outputs": [
    {
     "data": {
      "text/html": [
       "<style>#sk-container-id-1 {color: black;background-color: white;}#sk-container-id-1 pre{padding: 0;}#sk-container-id-1 div.sk-toggleable {background-color: white;}#sk-container-id-1 label.sk-toggleable__label {cursor: pointer;display: block;width: 100%;margin-bottom: 0;padding: 0.3em;box-sizing: border-box;text-align: center;}#sk-container-id-1 label.sk-toggleable__label-arrow:before {content: \"▸\";float: left;margin-right: 0.25em;color: #696969;}#sk-container-id-1 label.sk-toggleable__label-arrow:hover:before {color: black;}#sk-container-id-1 div.sk-estimator:hover label.sk-toggleable__label-arrow:before {color: black;}#sk-container-id-1 div.sk-toggleable__content {max-height: 0;max-width: 0;overflow: hidden;text-align: left;background-color: #f0f8ff;}#sk-container-id-1 div.sk-toggleable__content pre {margin: 0.2em;color: black;border-radius: 0.25em;background-color: #f0f8ff;}#sk-container-id-1 input.sk-toggleable__control:checked~div.sk-toggleable__content {max-height: 200px;max-width: 100%;overflow: auto;}#sk-container-id-1 input.sk-toggleable__control:checked~label.sk-toggleable__label-arrow:before {content: \"▾\";}#sk-container-id-1 div.sk-estimator input.sk-toggleable__control:checked~label.sk-toggleable__label {background-color: #d4ebff;}#sk-container-id-1 div.sk-label input.sk-toggleable__control:checked~label.sk-toggleable__label {background-color: #d4ebff;}#sk-container-id-1 input.sk-hidden--visually {border: 0;clip: rect(1px 1px 1px 1px);clip: rect(1px, 1px, 1px, 1px);height: 1px;margin: -1px;overflow: hidden;padding: 0;position: absolute;width: 1px;}#sk-container-id-1 div.sk-estimator {font-family: monospace;background-color: #f0f8ff;border: 1px dotted black;border-radius: 0.25em;box-sizing: border-box;margin-bottom: 0.5em;}#sk-container-id-1 div.sk-estimator:hover {background-color: #d4ebff;}#sk-container-id-1 div.sk-parallel-item::after {content: \"\";width: 100%;border-bottom: 1px solid gray;flex-grow: 1;}#sk-container-id-1 div.sk-label:hover label.sk-toggleable__label {background-color: #d4ebff;}#sk-container-id-1 div.sk-serial::before {content: \"\";position: absolute;border-left: 1px solid gray;box-sizing: border-box;top: 0;bottom: 0;left: 50%;z-index: 0;}#sk-container-id-1 div.sk-serial {display: flex;flex-direction: column;align-items: center;background-color: white;padding-right: 0.2em;padding-left: 0.2em;position: relative;}#sk-container-id-1 div.sk-item {position: relative;z-index: 1;}#sk-container-id-1 div.sk-parallel {display: flex;align-items: stretch;justify-content: center;background-color: white;position: relative;}#sk-container-id-1 div.sk-item::before, #sk-container-id-1 div.sk-parallel-item::before {content: \"\";position: absolute;border-left: 1px solid gray;box-sizing: border-box;top: 0;bottom: 0;left: 50%;z-index: -1;}#sk-container-id-1 div.sk-parallel-item {display: flex;flex-direction: column;z-index: 1;position: relative;background-color: white;}#sk-container-id-1 div.sk-parallel-item:first-child::after {align-self: flex-end;width: 50%;}#sk-container-id-1 div.sk-parallel-item:last-child::after {align-self: flex-start;width: 50%;}#sk-container-id-1 div.sk-parallel-item:only-child::after {width: 0;}#sk-container-id-1 div.sk-dashed-wrapped {border: 1px dashed gray;margin: 0 0.4em 0.5em 0.4em;box-sizing: border-box;padding-bottom: 0.4em;background-color: white;}#sk-container-id-1 div.sk-label label {font-family: monospace;font-weight: bold;display: inline-block;line-height: 1.2em;}#sk-container-id-1 div.sk-label-container {text-align: center;}#sk-container-id-1 div.sk-container {/* jupyter's `normalize.less` sets `[hidden] { display: none; }` but bootstrap.min.css set `[hidden] { display: none !important; }` so we also need the `!important` here to be able to override the default hidden behavior on the sphinx rendered scikit-learn.org. See: https://github.com/scikit-learn/scikit-learn/issues/21755 */display: inline-block !important;position: relative;}#sk-container-id-1 div.sk-text-repr-fallback {display: none;}</style><div id=\"sk-container-id-1\" class=\"sk-top-container\"><div class=\"sk-text-repr-fallback\"><pre>LinearRegression()</pre><b>In a Jupyter environment, please rerun this cell to show the HTML representation or trust the notebook. <br />On GitHub, the HTML representation is unable to render, please try loading this page with nbviewer.org.</b></div><div class=\"sk-container\" hidden><div class=\"sk-item\"><div class=\"sk-estimator sk-toggleable\"><input class=\"sk-toggleable__control sk-hidden--visually\" id=\"sk-estimator-id-1\" type=\"checkbox\" checked><label for=\"sk-estimator-id-1\" class=\"sk-toggleable__label sk-toggleable__label-arrow\">LinearRegression</label><div class=\"sk-toggleable__content\"><pre>LinearRegression()</pre></div></div></div></div></div>"
      ],
      "text/plain": [
       "LinearRegression()"
      ]
     },
     "execution_count": 39,
     "metadata": {},
     "output_type": "execute_result"
    }
   ],
   "source": [
    "regression.fit(x_train, y_train)"
   ]
  },
  {
   "cell_type": "code",
   "execution_count": 40,
   "metadata": {
    "tags": []
   },
   "outputs": [
    {
     "data": {
      "text/plain": [
       "10953.015971357458"
      ]
     },
     "execution_count": 40,
     "metadata": {},
     "output_type": "execute_result"
    }
   ],
   "source": [
    "regression.intercept_"
   ]
  },
  {
   "cell_type": "code",
   "execution_count": 41,
   "metadata": {
    "tags": []
   },
   "outputs": [
    {
     "data": {
      "text/html": [
       "<div>\n",
       "<style scoped>\n",
       "    .dataframe tbody tr th:only-of-type {\n",
       "        vertical-align: middle;\n",
       "    }\n",
       "\n",
       "    .dataframe tbody tr th {\n",
       "        vertical-align: top;\n",
       "    }\n",
       "\n",
       "    .dataframe thead th {\n",
       "        text-align: right;\n",
       "    }\n",
       "</style>\n",
       "<table border=\"1\" class=\"dataframe\">\n",
       "  <thead>\n",
       "    <tr style=\"text-align: right;\">\n",
       "      <th></th>\n",
       "      <th>columns</th>\n",
       "      <th>coef</th>\n",
       "    </tr>\n",
       "  </thead>\n",
       "  <tbody>\n",
       "    <tr>\n",
       "      <th>0</th>\n",
       "      <td>antiquity</td>\n",
       "      <td>-2175.191425</td>\n",
       "    </tr>\n",
       "    <tr>\n",
       "      <th>1</th>\n",
       "      <td>km_driven</td>\n",
       "      <td>-995.846690</td>\n",
       "    </tr>\n",
       "    <tr>\n",
       "      <th>2</th>\n",
       "      <td>seats</td>\n",
       "      <td>726.403256</td>\n",
       "    </tr>\n",
       "    <tr>\n",
       "      <th>3</th>\n",
       "      <td>fuel</td>\n",
       "      <td>1217.503454</td>\n",
       "    </tr>\n",
       "    <tr>\n",
       "      <th>4</th>\n",
       "      <td>transmission</td>\n",
       "      <td>5061.534394</td>\n",
       "    </tr>\n",
       "    <tr>\n",
       "      <th>5</th>\n",
       "      <td>max_power</td>\n",
       "      <td>-7.776874</td>\n",
       "    </tr>\n",
       "  </tbody>\n",
       "</table>\n",
       "</div>"
      ],
      "text/plain": [
       "        columns         coef\n",
       "0     antiquity -2175.191425\n",
       "1     km_driven  -995.846690\n",
       "2         seats   726.403256\n",
       "3          fuel  1217.503454\n",
       "4  transmission  5061.534394\n",
       "5     max_power    -7.776874"
      ]
     },
     "execution_count": 41,
     "metadata": {},
     "output_type": "execute_result"
    }
   ],
   "source": [
    "pd.DataFrame({'columns': features, 'coef': regression.coef_})"
   ]
  },
  {
   "cell_type": "markdown",
   "metadata": {
    "tags": []
   },
   "source": [
    "## 5. Validación cuantitativa del modelo\n",
    "##### Se debe revisar que el error del modelo entrenado este cercano al error de los datos de prueba. Esto se hace para verificar que el modelo no tenga overfitting o underfitting ya que esto podria evitar que el modelo predijera adecuadamente el \"selling_price\" de datos que nunca haya visto."
   ]
  },
  {
   "cell_type": "code",
   "execution_count": 42,
   "metadata": {},
   "outputs": [
    {
     "data": {
      "text/html": [
       "<div>\n",
       "<style scoped>\n",
       "    .dataframe tbody tr th:only-of-type {\n",
       "        vertical-align: middle;\n",
       "    }\n",
       "\n",
       "    .dataframe tbody tr th {\n",
       "        vertical-align: top;\n",
       "    }\n",
       "\n",
       "    .dataframe thead th {\n",
       "        text-align: right;\n",
       "    }\n",
       "</style>\n",
       "<table border=\"1\" class=\"dataframe\">\n",
       "  <thead>\n",
       "    <tr style=\"text-align: right;\">\n",
       "      <th></th>\n",
       "      <th>Actual</th>\n",
       "      <th>Predicted</th>\n",
       "      <th>Difference</th>\n",
       "      <th>Difference %</th>\n",
       "    </tr>\n",
       "  </thead>\n",
       "  <tbody>\n",
       "    <tr>\n",
       "      <th>5930</th>\n",
       "      <td>5633.63</td>\n",
       "      <td>7141.375841</td>\n",
       "      <td>-1507.745841</td>\n",
       "      <td>-26.763310</td>\n",
       "    </tr>\n",
       "    <tr>\n",
       "      <th>2441</th>\n",
       "      <td>6057.67</td>\n",
       "      <td>9146.596377</td>\n",
       "      <td>-3088.926377</td>\n",
       "      <td>-50.991988</td>\n",
       "    </tr>\n",
       "    <tr>\n",
       "      <th>5028</th>\n",
       "      <td>9086.50</td>\n",
       "      <td>11484.340658</td>\n",
       "      <td>-2397.840658</td>\n",
       "      <td>-26.389046</td>\n",
       "    </tr>\n",
       "    <tr>\n",
       "      <th>1564</th>\n",
       "      <td>6663.44</td>\n",
       "      <td>10764.333424</td>\n",
       "      <td>-4100.893424</td>\n",
       "      <td>-61.543188</td>\n",
       "    </tr>\n",
       "    <tr>\n",
       "      <th>5213</th>\n",
       "      <td>9571.12</td>\n",
       "      <td>11413.869579</td>\n",
       "      <td>-1842.749579</td>\n",
       "      <td>-19.253228</td>\n",
       "    </tr>\n",
       "    <tr>\n",
       "      <th>...</th>\n",
       "      <td>...</td>\n",
       "      <td>...</td>\n",
       "      <td>...</td>\n",
       "      <td>...</td>\n",
       "    </tr>\n",
       "    <tr>\n",
       "      <th>5477</th>\n",
       "      <td>5451.90</td>\n",
       "      <td>12550.021488</td>\n",
       "      <td>-7098.121488</td>\n",
       "      <td>-130.195372</td>\n",
       "    </tr>\n",
       "    <tr>\n",
       "      <th>643</th>\n",
       "      <td>4240.37</td>\n",
       "      <td>9787.944510</td>\n",
       "      <td>-5547.574510</td>\n",
       "      <td>-130.827605</td>\n",
       "    </tr>\n",
       "    <tr>\n",
       "      <th>6643</th>\n",
       "      <td>4543.25</td>\n",
       "      <td>7422.733580</td>\n",
       "      <td>-2879.483580</td>\n",
       "      <td>-63.379378</td>\n",
       "    </tr>\n",
       "    <tr>\n",
       "      <th>2188</th>\n",
       "      <td>4834.02</td>\n",
       "      <td>11251.366078</td>\n",
       "      <td>-6417.346078</td>\n",
       "      <td>-132.753817</td>\n",
       "    </tr>\n",
       "    <tr>\n",
       "      <th>4966</th>\n",
       "      <td>605.77</td>\n",
       "      <td>-2610.145741</td>\n",
       "      <td>3215.915741</td>\n",
       "      <td>530.880655</td>\n",
       "    </tr>\n",
       "  </tbody>\n",
       "</table>\n",
       "<p>2135 rows × 4 columns</p>\n",
       "</div>"
      ],
      "text/plain": [
       "       Actual     Predicted   Difference  Difference %\n",
       "5930  5633.63   7141.375841 -1507.745841    -26.763310\n",
       "2441  6057.67   9146.596377 -3088.926377    -50.991988\n",
       "5028  9086.50  11484.340658 -2397.840658    -26.389046\n",
       "1564  6663.44  10764.333424 -4100.893424    -61.543188\n",
       "5213  9571.12  11413.869579 -1842.749579    -19.253228\n",
       "...       ...           ...          ...           ...\n",
       "5477  5451.90  12550.021488 -7098.121488   -130.195372\n",
       "643   4240.37   9787.944510 -5547.574510   -130.827605\n",
       "6643  4543.25   7422.733580 -2879.483580    -63.379378\n",
       "2188  4834.02  11251.366078 -6417.346078   -132.753817\n",
       "4966   605.77  -2610.145741  3215.915741    530.880655\n",
       "\n",
       "[2135 rows x 4 columns]"
      ]
     },
     "execution_count": 42,
     "metadata": {},
     "output_type": "execute_result"
    }
   ],
   "source": [
    "# Comparing the real values with the predicted values with an difference percentage for each prediction\n",
    "\n",
    "y_pred = regression.predict(x_test)\n",
    "\n",
    "df_err = pd.DataFrame({'Actual': y_test, 'Predicted': y_pred})\n",
    "df_err['Difference'] = df_err['Actual'] - df_err['Predicted']\n",
    "df_err['Difference %'] = df_err['Difference'] / df_err['Actual'] * 100\n",
    "df_err\n"
   ]
  },
  {
   "cell_type": "code",
   "execution_count": 43,
   "metadata": {},
   "outputs": [
    {
     "name": "stdout",
     "output_type": "stream",
     "text": [
      "Mean Absolute Error Train: 8482.988867562579\n",
      "Mean Absolute Error Test: 8569.891106196956\n",
      "Root Mean Squared Error Train: 39370.73696219552\n",
      "Root Mean Squared Error Test: 38302.450834119496\n"
     ]
    }
   ],
   "source": [
    "print('Mean Absolute Error Train:', mean_absolute_error(y_train, regression.predict(x_train)))\n",
    "print('Mean Absolute Error Test:', mean_absolute_error(y_test, regression.predict(x_test)))\n",
    "\n",
    "print('Root Mean Squared Error Train:', np.sqrt(mean_squared_error(y_train, regression.predict(x_train))))\n",
    "print('Root Mean Squared Error Test:', np.sqrt(mean_squared_error(y_test, regression.predict(x_test))))"
   ]
  },
  {
   "cell_type": "markdown",
   "metadata": {},
   "source": [
    "Podemos apreciar que nuestro error en las pruebas se acerca bastante al error del entrenamiento, y ademas es un error relativamente bajo, lo cual nos da un buen indicio de que nuestro modelo predice adecuadamente el \"selling_price\" de un carro "
   ]
  },
  {
   "cell_type": "markdown",
   "metadata": {
    "tags": []
   },
   "source": [
    "### Preguntas del enunciado\n",
    "- ¿Su equipo recomienda instalar el modelo de estimación en producción o es mejor continuar usando expertos para la tarea?\n",
    "\n",
    "Si, podemos apreciar con los datos de la validación cuantitativa que las predicciones se acercan mucho a los valores reales. Esto es un buen indicio de que la empresa podría sacar provecho de nuestro modelo de regresión.\n",
    "\n",
    "- En caso de no recomendar el uso de un modelo de regresión ¿Qué otras posibilidades tiene la empresa? ¿Hacia dónde debe seguir con esta tarea?\n",
    "\n",
    "Aunque si lo recomendamos, creemos que de todas formas es necesaria una validación de alguien en la empresa, ya que aunque es un modelo acertado puede pasar que prediga un valor mal, lo que puede resultar en pérdidas para el negocio."
   ]
  },
  {
   "cell_type": "markdown",
   "metadata": {
    "tags": []
   },
   "source": [
    "## 6. Validación cualitativa del modelo\n",
    "##### Ahora vamos a analizar cuáles son los features que más afectan nuestra variable objetivo"
   ]
  },
  {
   "cell_type": "code",
   "execution_count": 44,
   "metadata": {
    "tags": []
   },
   "outputs": [
    {
     "data": {
      "image/png": "[encoded data removed]",
      "text/plain": [
       "<Figure size 2000x400 with 5 Axes>"
      ]
     },
     "metadata": {},
     "output_type": "display_data"
    }
   ],
   "source": [
    "# Plot of the regression overlapped with the data in order to see if the regression has some relation with the data\n",
    "f, axs = plt.subplots(1, len(features[:-1]), sharey = True, figsize = (20, 4))\n",
    "\n",
    "for i in range(len(features[:-1])):\n",
    "    col = features[i]\n",
    "    x = x_train[col]\n",
    "    m = regression.coef_[i]\n",
    "    b = regression.intercept_\n",
    "    axs[i].plot(x, y_train, 'o', alpha = 0.3)\n",
    "    axs[i].plot(x, x * m + b)\n",
    "    axs[i].set_title(col)"
   ]
  },
  {
   "cell_type": "markdown",
   "metadata": {},
   "source": [
    "Aquí vemos que los datos tienen una relación lineal. (Sin tener en cuenta los outliers)"
   ]
  },
  {
   "cell_type": "code",
   "execution_count": 45,
   "metadata": {
    "tags": []
   },
   "outputs": [
    {
     "data": {
      "image/png": "[encoded data removed]",
      "text/plain": [
       "<Figure size 2000x400 with 5 Axes>"
      ]
     },
     "metadata": {},
     "output_type": "display_data"
    }
   ],
   "source": [
    "# Plot only the regression to see clearly how each attribute affects the regression line on a scale that is visibly understandable\n",
    "f, axs = plt.subplots(1, len(features[:-1]), sharey = True, figsize = (20, 4))\n",
    "\n",
    "for i in range(len(features[:-1])):\n",
    "    col = features[i]\n",
    "    x = x_train[col]\n",
    "    m = regression.coef_[i]\n",
    "    b = regression.intercept_\n",
    "    axs[i].plot(x, x * m + b)\n",
    "    axs[i].set_title(col)"
   ]
  },
  {
   "cell_type": "markdown",
   "metadata": {},
   "source": [
    "Aquí vemos que la feature que más nos afecta los datos es la de km_driven, y que las demás también tienen una incidencia fuerte en los datos."
   ]
  },
  {
   "cell_type": "code",
   "execution_count": 46,
   "metadata": {},
   "outputs": [
    {
     "data": {
      "image/png": "[encoded data removed]",
      "text/plain": [
       "<Figure size 2000x500 with 1 Axes>"
      ]
     },
     "metadata": {},
     "output_type": "display_data"
    }
   ],
   "source": [
    "# Plot real value of objective variable on a boxplot\n",
    "\n",
    "plt.figure(figsize=(20, 5))\n",
    "sns.boxplot(x = y_test, showmeans = True)\n",
    "plt.title('Real value of objective variable')\n",
    "plt.grid()\n",
    "plt.show()   "
   ]
  },
  {
   "cell_type": "code",
   "execution_count": 47,
   "metadata": {},
   "outputs": [
    {
     "data": {
      "image/png": "[encoded data removed]",
      "text/plain": [
       "<Figure size 2000x500 with 1 Axes>"
      ]
     },
     "metadata": {},
     "output_type": "display_data"
    }
   ],
   "source": [
    "# Plot |real value - predicted value| of objective variable on a boxplot\n",
    "\n",
    "plt.figure(figsize=(20, 5))\n",
    "sns.boxplot(x = abs(y_test - regression.predict(x_test)), showmeans=True)\n",
    "plt.title('Absolute error of objective variable')\n",
    "plt.grid()\n",
    "plt.show()"
   ]
  },
  {
   "cell_type": "code",
   "execution_count": 48,
   "metadata": {},
   "outputs": [
    {
     "data": {
      "text/plain": [
       "count      2135.000000\n",
       "mean       8569.891106\n",
       "std       37340.162942\n",
       "min           0.999798\n",
       "25%        2298.004680\n",
       "50%        3898.805363\n",
       "75%        5693.762621\n",
       "95%       18346.409049\n",
       "99%       38189.542532\n",
       "max      559035.881180\n",
       "Name: selling_price, dtype: float64"
      ]
     },
     "execution_count": 48,
     "metadata": {},
     "output_type": "execute_result"
    }
   ],
   "source": [
    "abs(y_test - regression.predict(x_test)).describe(percentiles = [0.25, 0.5, 0.75, 0.95, 0.99])"
   ]
  },
  {
   "cell_type": "code",
   "execution_count": 49,
   "metadata": {},
   "outputs": [
    {
     "data": {
      "text/plain": [
       "<Axes: >"
      ]
     },
     "execution_count": 49,
     "metadata": {},
     "output_type": "execute_result"
    },
    {
     "data": {
      "image/png": "[encoded data removed]",
      "text/plain": [
       "<Figure size 1200x1000 with 2 Axes>"
      ]
     },
     "metadata": {},
     "output_type": "display_data"
    }
   ],
   "source": [
    "plt.figure(figsize = (12, 10))\n",
    "sns.heatmap(df[features].corr(), cmap = 'vlag', vmin = -1, vmax = 1)"
   ]
  },
  {
   "cell_type": "markdown",
   "metadata": {},
   "source": [
    "La colinealidad entre las variables utilizadas es muy baja"
   ]
  },
  {
   "cell_type": "markdown",
   "metadata": {
    "tags": []
   },
   "source": [
    "## 8. Exportación del modelo\n",
    "##### Se debe exportar el modelo hecho anteriormente para poder enviarlo a MotorAlpes para que lo puedan correr"
   ]
  },
  {
   "cell_type": "code",
   "execution_count": 50,
   "metadata": {},
   "outputs": [],
   "source": [
    "xa_train, xa_test, ya_train, ya_test = train_test_split(og_df.iloc[:, :-1], og_df['selling_price'], test_size = 0.3, random_state = 1)"
   ]
  },
  {
   "cell_type": "code",
   "execution_count": 51,
   "metadata": {
    "tags": []
   },
   "outputs": [
    {
     "data": {
      "text/html": [
       "<div>\n",
       "<style scoped>\n",
       "    .dataframe tbody tr th:only-of-type {\n",
       "        vertical-align: middle;\n",
       "    }\n",
       "\n",
       "    .dataframe tbody tr th {\n",
       "        vertical-align: top;\n",
       "    }\n",
       "\n",
       "    .dataframe thead th {\n",
       "        text-align: right;\n",
       "    }\n",
       "</style>\n",
       "<table border=\"1\" class=\"dataframe\">\n",
       "  <thead>\n",
       "    <tr style=\"text-align: right;\">\n",
       "      <th></th>\n",
       "      <th>year</th>\n",
       "      <th>km_driven</th>\n",
       "      <th>owner</th>\n",
       "      <th>seller_type</th>\n",
       "      <th>seats</th>\n",
       "      <th>fuel</th>\n",
       "      <th>transmission</th>\n",
       "      <th>mileage</th>\n",
       "      <th>engine</th>\n",
       "      <th>max_power</th>\n",
       "    </tr>\n",
       "  </thead>\n",
       "  <tbody>\n",
       "    <tr>\n",
       "      <th>1839</th>\n",
       "      <td>2007.0</td>\n",
       "      <td>120000.0</td>\n",
       "      <td>Third Owner</td>\n",
       "      <td>Individual</td>\n",
       "      <td>7.0</td>\n",
       "      <td>Diesel</td>\n",
       "      <td>Manual</td>\n",
       "      <td>13.60</td>\n",
       "      <td>2523.0</td>\n",
       "      <td>63.00</td>\n",
       "    </tr>\n",
       "    <tr>\n",
       "      <th>1019</th>\n",
       "      <td>2013.0</td>\n",
       "      <td>175000.0</td>\n",
       "      <td>Second Owner</td>\n",
       "      <td>Individual</td>\n",
       "      <td>5.0</td>\n",
       "      <td>Diesel</td>\n",
       "      <td>Manual</td>\n",
       "      <td>19.09</td>\n",
       "      <td>1396.0</td>\n",
       "      <td>69.00</td>\n",
       "    </tr>\n",
       "    <tr>\n",
       "      <th>6009</th>\n",
       "      <td>2017.0</td>\n",
       "      <td>5000.0</td>\n",
       "      <td>First Owner</td>\n",
       "      <td>Individual</td>\n",
       "      <td>5.0</td>\n",
       "      <td>Petrol</td>\n",
       "      <td>Manual</td>\n",
       "      <td>25.17</td>\n",
       "      <td>799.0</td>\n",
       "      <td>53.30</td>\n",
       "    </tr>\n",
       "    <tr>\n",
       "      <th>1891</th>\n",
       "      <td>2012.0</td>\n",
       "      <td>48000.0</td>\n",
       "      <td>First Owner</td>\n",
       "      <td>Individual</td>\n",
       "      <td>5.0</td>\n",
       "      <td>Petrol</td>\n",
       "      <td>Manual</td>\n",
       "      <td>20.92</td>\n",
       "      <td>998.0</td>\n",
       "      <td>67.10</td>\n",
       "    </tr>\n",
       "    <tr>\n",
       "      <th>3477</th>\n",
       "      <td>2012.0</td>\n",
       "      <td>129000.0</td>\n",
       "      <td>Third Owner</td>\n",
       "      <td>Individual</td>\n",
       "      <td>7.0</td>\n",
       "      <td>Diesel</td>\n",
       "      <td>Manual</td>\n",
       "      <td>15.10</td>\n",
       "      <td>2179.0</td>\n",
       "      <td>140.00</td>\n",
       "    </tr>\n",
       "    <tr>\n",
       "      <th>...</th>\n",
       "      <td>...</td>\n",
       "      <td>...</td>\n",
       "      <td>...</td>\n",
       "      <td>...</td>\n",
       "      <td>...</td>\n",
       "      <td>...</td>\n",
       "      <td>...</td>\n",
       "      <td>...</td>\n",
       "      <td>...</td>\n",
       "      <td>...</td>\n",
       "    </tr>\n",
       "    <tr>\n",
       "      <th>905</th>\n",
       "      <td>2013.0</td>\n",
       "      <td>70000.0</td>\n",
       "      <td>First Owner</td>\n",
       "      <td>Individual</td>\n",
       "      <td>5.0</td>\n",
       "      <td>Petrol</td>\n",
       "      <td>Manual</td>\n",
       "      <td>19.81</td>\n",
       "      <td>1086.0</td>\n",
       "      <td>68.05</td>\n",
       "    </tr>\n",
       "    <tr>\n",
       "      <th>5192</th>\n",
       "      <td>2016.0</td>\n",
       "      <td>32000.0</td>\n",
       "      <td>First Owner</td>\n",
       "      <td>Dealer</td>\n",
       "      <td>5.0</td>\n",
       "      <td>Diesel</td>\n",
       "      <td>Manual</td>\n",
       "      <td>25.10</td>\n",
       "      <td>1248.0</td>\n",
       "      <td>88.50</td>\n",
       "    </tr>\n",
       "    <tr>\n",
       "      <th>3980</th>\n",
       "      <td>2019.0</td>\n",
       "      <td>40000.0</td>\n",
       "      <td>First Owner</td>\n",
       "      <td>Individual</td>\n",
       "      <td>5.0</td>\n",
       "      <td>Diesel</td>\n",
       "      <td>Manual</td>\n",
       "      <td>25.60</td>\n",
       "      <td>1498.0</td>\n",
       "      <td>97.90</td>\n",
       "    </tr>\n",
       "    <tr>\n",
       "      <th>235</th>\n",
       "      <td>2012.0</td>\n",
       "      <td>193000.0</td>\n",
       "      <td>First Owner</td>\n",
       "      <td>Individual</td>\n",
       "      <td>5.0</td>\n",
       "      <td>Diesel</td>\n",
       "      <td>Manual</td>\n",
       "      <td>19.30</td>\n",
       "      <td>1248.0</td>\n",
       "      <td>73.90</td>\n",
       "    </tr>\n",
       "    <tr>\n",
       "      <th>5157</th>\n",
       "      <td>2017.0</td>\n",
       "      <td>50000.0</td>\n",
       "      <td>First Owner</td>\n",
       "      <td>Individual</td>\n",
       "      <td>5.0</td>\n",
       "      <td>Diesel</td>\n",
       "      <td>Manual</td>\n",
       "      <td>25.60</td>\n",
       "      <td>1498.0</td>\n",
       "      <td>97.90</td>\n",
       "    </tr>\n",
       "  </tbody>\n",
       "</table>\n",
       "<p>4980 rows × 10 columns</p>\n",
       "</div>"
      ],
      "text/plain": [
       "        year  km_driven         owner seller_type  seats    fuel transmission  \\\n",
       "1839  2007.0   120000.0   Third Owner  Individual    7.0  Diesel       Manual   \n",
       "1019  2013.0   175000.0  Second Owner  Individual    5.0  Diesel       Manual   \n",
       "6009  2017.0     5000.0   First Owner  Individual    5.0  Petrol       Manual   \n",
       "1891  2012.0    48000.0   First Owner  Individual    5.0  Petrol       Manual   \n",
       "3477  2012.0   129000.0   Third Owner  Individual    7.0  Diesel       Manual   \n",
       "...      ...        ...           ...         ...    ...     ...          ...   \n",
       "905   2013.0    70000.0   First Owner  Individual    5.0  Petrol       Manual   \n",
       "5192  2016.0    32000.0   First Owner      Dealer    5.0  Diesel       Manual   \n",
       "3980  2019.0    40000.0   First Owner  Individual    5.0  Diesel       Manual   \n",
       "235   2012.0   193000.0   First Owner  Individual    5.0  Diesel       Manual   \n",
       "5157  2017.0    50000.0   First Owner  Individual    5.0  Diesel       Manual   \n",
       "\n",
       "      mileage  engine  max_power  \n",
       "1839    13.60  2523.0      63.00  \n",
       "1019    19.09  1396.0      69.00  \n",
       "6009    25.17   799.0      53.30  \n",
       "1891    20.92   998.0      67.10  \n",
       "3477    15.10  2179.0     140.00  \n",
       "...       ...     ...        ...  \n",
       "905     19.81  1086.0      68.05  \n",
       "5192    25.10  1248.0      88.50  \n",
       "3980    25.60  1498.0      97.90  \n",
       "235     19.30  1248.0      73.90  \n",
       "5157    25.60  1498.0      97.90  \n",
       "\n",
       "[4980 rows x 10 columns]"
      ]
     },
     "execution_count": 51,
     "metadata": {},
     "output_type": "execute_result"
    }
   ],
   "source": [
    "xa_train"
   ]
  },
  {
   "cell_type": "code",
   "execution_count": 52,
   "metadata": {
    "tags": []
   },
   "outputs": [
    {
     "data": {
      "text/plain": [
       "1839         NaN\n",
       "1019     2423.07\n",
       "6009     3452.87\n",
       "1891     3053.07\n",
       "3477     7208.63\n",
       "          ...   \n",
       "905      3755.75\n",
       "5192     8359.58\n",
       "3980    14538.41\n",
       "235      3876.91\n",
       "5157    12721.10\n",
       "Name: selling_price, Length: 4980, dtype: float64"
      ]
     },
     "execution_count": 52,
     "metadata": {},
     "output_type": "execute_result"
    }
   ],
   "source": [
    "ya_train"
   ]
  },
  {
   "cell_type": "code",
   "execution_count": 53,
   "metadata": {
    "tags": []
   },
   "outputs": [
    {
     "data": {
      "text/html": [
       "<div>\n",
       "<style scoped>\n",
       "    .dataframe tbody tr th:only-of-type {\n",
       "        vertical-align: middle;\n",
       "    }\n",
       "\n",
       "    .dataframe tbody tr th {\n",
       "        vertical-align: top;\n",
       "    }\n",
       "\n",
       "    .dataframe thead th {\n",
       "        text-align: right;\n",
       "    }\n",
       "</style>\n",
       "<table border=\"1\" class=\"dataframe\">\n",
       "  <thead>\n",
       "    <tr style=\"text-align: right;\">\n",
       "      <th></th>\n",
       "      <th>year</th>\n",
       "      <th>km_driven</th>\n",
       "      <th>owner</th>\n",
       "      <th>seller_type</th>\n",
       "      <th>seats</th>\n",
       "      <th>fuel</th>\n",
       "      <th>transmission</th>\n",
       "      <th>mileage</th>\n",
       "      <th>engine</th>\n",
       "      <th>max_power</th>\n",
       "    </tr>\n",
       "  </thead>\n",
       "  <tbody>\n",
       "    <tr>\n",
       "      <th>5930</th>\n",
       "      <td>2012.0</td>\n",
       "      <td>146000.0</td>\n",
       "      <td>Second Owner</td>\n",
       "      <td>Individual</td>\n",
       "      <td>5.0</td>\n",
       "      <td>Diesel</td>\n",
       "      <td>Manual</td>\n",
       "      <td>22.32</td>\n",
       "      <td>1582.0</td>\n",
       "      <td>126.32</td>\n",
       "    </tr>\n",
       "    <tr>\n",
       "      <th>2441</th>\n",
       "      <td>2016.0</td>\n",
       "      <td>32000.0</td>\n",
       "      <td>First Owner</td>\n",
       "      <td>Individual</td>\n",
       "      <td>5.0</td>\n",
       "      <td>Petrol</td>\n",
       "      <td>Manual</td>\n",
       "      <td>20.40</td>\n",
       "      <td>1197.0</td>\n",
       "      <td>81.80</td>\n",
       "    </tr>\n",
       "    <tr>\n",
       "      <th>5028</th>\n",
       "      <td>2014.0</td>\n",
       "      <td>50000.0</td>\n",
       "      <td>First Owner</td>\n",
       "      <td>Individual</td>\n",
       "      <td>7.0</td>\n",
       "      <td>Diesel</td>\n",
       "      <td>Manual</td>\n",
       "      <td>15.10</td>\n",
       "      <td>2179.0</td>\n",
       "      <td>140.00</td>\n",
       "    </tr>\n",
       "    <tr>\n",
       "      <th>1564</th>\n",
       "      <td>2018.0</td>\n",
       "      <td>5000.0</td>\n",
       "      <td>First Owner</td>\n",
       "      <td>Individual</td>\n",
       "      <td>5.0</td>\n",
       "      <td>Petrol</td>\n",
       "      <td>Manual</td>\n",
       "      <td>22.00</td>\n",
       "      <td>1197.0</td>\n",
       "      <td>81.80</td>\n",
       "    </tr>\n",
       "    <tr>\n",
       "      <th>5213</th>\n",
       "      <td>2016.0</td>\n",
       "      <td>120000.0</td>\n",
       "      <td>First Owner</td>\n",
       "      <td>Individual</td>\n",
       "      <td>7.0</td>\n",
       "      <td>Diesel</td>\n",
       "      <td>Manual</td>\n",
       "      <td>24.52</td>\n",
       "      <td>1248.0</td>\n",
       "      <td>88.50</td>\n",
       "    </tr>\n",
       "    <tr>\n",
       "      <th>...</th>\n",
       "      <td>...</td>\n",
       "      <td>...</td>\n",
       "      <td>...</td>\n",
       "      <td>...</td>\n",
       "      <td>...</td>\n",
       "      <td>...</td>\n",
       "      <td>...</td>\n",
       "      <td>...</td>\n",
       "      <td>...</td>\n",
       "      <td>...</td>\n",
       "    </tr>\n",
       "    <tr>\n",
       "      <th>5477</th>\n",
       "      <td>2012.0</td>\n",
       "      <td>97000.0</td>\n",
       "      <td>Third Owner</td>\n",
       "      <td>Individual</td>\n",
       "      <td>5.0</td>\n",
       "      <td>LPG</td>\n",
       "      <td>Manual</td>\n",
       "      <td>26.60</td>\n",
       "      <td>1086.0</td>\n",
       "      <td>68.10</td>\n",
       "    </tr>\n",
       "    <tr>\n",
       "      <th>643</th>\n",
       "      <td>2014.0</td>\n",
       "      <td>60000.0</td>\n",
       "      <td>Second Owner</td>\n",
       "      <td>Individual</td>\n",
       "      <td>5.0</td>\n",
       "      <td>Diesel</td>\n",
       "      <td>Manual</td>\n",
       "      <td>20.14</td>\n",
       "      <td>1498.0</td>\n",
       "      <td>88.80</td>\n",
       "    </tr>\n",
       "    <tr>\n",
       "      <th>6643</th>\n",
       "      <td>2011.0</td>\n",
       "      <td>97000.0</td>\n",
       "      <td>First Owner</td>\n",
       "      <td>Dealer</td>\n",
       "      <td>5.0</td>\n",
       "      <td>Diesel</td>\n",
       "      <td>Manual</td>\n",
       "      <td>25.20</td>\n",
       "      <td>1248.0</td>\n",
       "      <td>74.00</td>\n",
       "    </tr>\n",
       "    <tr>\n",
       "      <th>2188</th>\n",
       "      <td>2019.0</td>\n",
       "      <td>10000.0</td>\n",
       "      <td>First Owner</td>\n",
       "      <td>Individual</td>\n",
       "      <td>5.0</td>\n",
       "      <td>Petrol</td>\n",
       "      <td>Manual</td>\n",
       "      <td>23.95</td>\n",
       "      <td>998.0</td>\n",
       "      <td>67.05</td>\n",
       "    </tr>\n",
       "    <tr>\n",
       "      <th>4966</th>\n",
       "      <td>2000.0</td>\n",
       "      <td>180000.0</td>\n",
       "      <td>Fourth &amp; Above Owner</td>\n",
       "      <td>Individual</td>\n",
       "      <td>5.0</td>\n",
       "      <td>Petrol</td>\n",
       "      <td>Manual</td>\n",
       "      <td>17.30</td>\n",
       "      <td>993.0</td>\n",
       "      <td>60.00</td>\n",
       "    </tr>\n",
       "  </tbody>\n",
       "</table>\n",
       "<p>2135 rows × 10 columns</p>\n",
       "</div>"
      ],
      "text/plain": [
       "        year  km_driven                 owner seller_type  seats    fuel  \\\n",
       "5930  2012.0   146000.0          Second Owner  Individual    5.0  Diesel   \n",
       "2441  2016.0    32000.0           First Owner  Individual    5.0  Petrol   \n",
       "5028  2014.0    50000.0           First Owner  Individual    7.0  Diesel   \n",
       "1564  2018.0     5000.0           First Owner  Individual    5.0  Petrol   \n",
       "5213  2016.0   120000.0           First Owner  Individual    7.0  Diesel   \n",
       "...      ...        ...                   ...         ...    ...     ...   \n",
       "5477  2012.0    97000.0           Third Owner  Individual    5.0     LPG   \n",
       "643   2014.0    60000.0          Second Owner  Individual    5.0  Diesel   \n",
       "6643  2011.0    97000.0           First Owner      Dealer    5.0  Diesel   \n",
       "2188  2019.0    10000.0           First Owner  Individual    5.0  Petrol   \n",
       "4966  2000.0   180000.0  Fourth & Above Owner  Individual    5.0  Petrol   \n",
       "\n",
       "     transmission  mileage  engine  max_power  \n",
       "5930       Manual    22.32  1582.0     126.32  \n",
       "2441       Manual    20.40  1197.0      81.80  \n",
       "5028       Manual    15.10  2179.0     140.00  \n",
       "1564       Manual    22.00  1197.0      81.80  \n",
       "5213       Manual    24.52  1248.0      88.50  \n",
       "...           ...      ...     ...        ...  \n",
       "5477       Manual    26.60  1086.0      68.10  \n",
       "643        Manual    20.14  1498.0      88.80  \n",
       "6643       Manual    25.20  1248.0      74.00  \n",
       "2188       Manual    23.95   998.0      67.05  \n",
       "4966       Manual    17.30   993.0      60.00  \n",
       "\n",
       "[2135 rows x 10 columns]"
      ]
     },
     "execution_count": 53,
     "metadata": {},
     "output_type": "execute_result"
    }
   ],
   "source": [
    "xa_test"
   ]
  },
  {
   "cell_type": "code",
   "execution_count": 54,
   "metadata": {
    "tags": []
   },
   "outputs": [
    {
     "data": {
      "text/plain": [
       "5930    5633.63\n",
       "2441    6057.67\n",
       "5028    9086.50\n",
       "1564    6663.44\n",
       "5213    9571.12\n",
       "         ...   \n",
       "5477        NaN\n",
       "643     4240.37\n",
       "6643    4543.25\n",
       "2188    4834.02\n",
       "4966     605.77\n",
       "Name: selling_price, Length: 2135, dtype: float64"
      ]
     },
     "execution_count": 54,
     "metadata": {},
     "output_type": "execute_result"
    }
   ],
   "source": [
    "ya_test"
   ]
  },
  {
   "cell_type": "code",
   "execution_count": 55,
   "metadata": {
    "tags": []
   },
   "outputs": [],
   "source": [
    "ya_train.fillna(ya_train.median(), inplace=True)\n",
    "ya_test.fillna(ya_test.median(), inplace=True)"
   ]
  },
  {
   "cell_type": "markdown",
   "metadata": {},
   "source": [
    "##### Se debe crear un pipeline para poder hacer predicciones sobre otros sets de datos (se debe resaltar que deben tener las mismas columnas)"
   ]
  },
  {
   "cell_type": "code",
   "execution_count": 56,
   "metadata": {
    "tags": []
   },
   "outputs": [
    {
     "data": {
      "text/html": [
       "<style>#sk-container-id-2 {color: black;background-color: white;}#sk-container-id-2 pre{padding: 0;}#sk-container-id-2 div.sk-toggleable {background-color: white;}#sk-container-id-2 label.sk-toggleable__label {cursor: pointer;display: block;width: 100%;margin-bottom: 0;padding: 0.3em;box-sizing: border-box;text-align: center;}#sk-container-id-2 label.sk-toggleable__label-arrow:before {content: \"▸\";float: left;margin-right: 0.25em;color: #696969;}#sk-container-id-2 label.sk-toggleable__label-arrow:hover:before {color: black;}#sk-container-id-2 div.sk-estimator:hover label.sk-toggleable__label-arrow:before {color: black;}#sk-container-id-2 div.sk-toggleable__content {max-height: 0;max-width: 0;overflow: hidden;text-align: left;background-color: #f0f8ff;}#sk-container-id-2 div.sk-toggleable__content pre {margin: 0.2em;color: black;border-radius: 0.25em;background-color: #f0f8ff;}#sk-container-id-2 input.sk-toggleable__control:checked~div.sk-toggleable__content {max-height: 200px;max-width: 100%;overflow: auto;}#sk-container-id-2 input.sk-toggleable__control:checked~label.sk-toggleable__label-arrow:before {content: \"▾\";}#sk-container-id-2 div.sk-estimator input.sk-toggleable__control:checked~label.sk-toggleable__label {background-color: #d4ebff;}#sk-container-id-2 div.sk-label input.sk-toggleable__control:checked~label.sk-toggleable__label {background-color: #d4ebff;}#sk-container-id-2 input.sk-hidden--visually {border: 0;clip: rect(1px 1px 1px 1px);clip: rect(1px, 1px, 1px, 1px);height: 1px;margin: -1px;overflow: hidden;padding: 0;position: absolute;width: 1px;}#sk-container-id-2 div.sk-estimator {font-family: monospace;background-color: #f0f8ff;border: 1px dotted black;border-radius: 0.25em;box-sizing: border-box;margin-bottom: 0.5em;}#sk-container-id-2 div.sk-estimator:hover {background-color: #d4ebff;}#sk-container-id-2 div.sk-parallel-item::after {content: \"\";width: 100%;border-bottom: 1px solid gray;flex-grow: 1;}#sk-container-id-2 div.sk-label:hover label.sk-toggleable__label {background-color: #d4ebff;}#sk-container-id-2 div.sk-serial::before {content: \"\";position: absolute;border-left: 1px solid gray;box-sizing: border-box;top: 0;bottom: 0;left: 50%;z-index: 0;}#sk-container-id-2 div.sk-serial {display: flex;flex-direction: column;align-items: center;background-color: white;padding-right: 0.2em;padding-left: 0.2em;position: relative;}#sk-container-id-2 div.sk-item {position: relative;z-index: 1;}#sk-container-id-2 div.sk-parallel {display: flex;align-items: stretch;justify-content: center;background-color: white;position: relative;}#sk-container-id-2 div.sk-item::before, #sk-container-id-2 div.sk-parallel-item::before {content: \"\";position: absolute;border-left: 1px solid gray;box-sizing: border-box;top: 0;bottom: 0;left: 50%;z-index: -1;}#sk-container-id-2 div.sk-parallel-item {display: flex;flex-direction: column;z-index: 1;position: relative;background-color: white;}#sk-container-id-2 div.sk-parallel-item:first-child::after {align-self: flex-end;width: 50%;}#sk-container-id-2 div.sk-parallel-item:last-child::after {align-self: flex-start;width: 50%;}#sk-container-id-2 div.sk-parallel-item:only-child::after {width: 0;}#sk-container-id-2 div.sk-dashed-wrapped {border: 1px dashed gray;margin: 0 0.4em 0.5em 0.4em;box-sizing: border-box;padding-bottom: 0.4em;background-color: white;}#sk-container-id-2 div.sk-label label {font-family: monospace;font-weight: bold;display: inline-block;line-height: 1.2em;}#sk-container-id-2 div.sk-label-container {text-align: center;}#sk-container-id-2 div.sk-container {/* jupyter's `normalize.less` sets `[hidden] { display: none; }` but bootstrap.min.css set `[hidden] { display: none !important; }` so we also need the `!important` here to be able to override the default hidden behavior on the sphinx rendered scikit-learn.org. See: https://github.com/scikit-learn/scikit-learn/issues/21755 */display: inline-block !important;position: relative;}#sk-container-id-2 div.sk-text-repr-fallback {display: none;}</style><div id=\"sk-container-id-2\" class=\"sk-top-container\"><div class=\"sk-text-repr-fallback\"><pre>Pipeline(steps=[(&#x27;data_pipeline&#x27;,\n",
       "                 Pipeline(steps=[(&#x27;to_numpy&#x27;,\n",
       "                                  FunctionTransformer(func=&lt;function my_lambda at 0x152ab5120&gt;))])),\n",
       "                (&#x27;preprocessor&#x27;,\n",
       "                 ColumnTransformer(transformers=[(&#x27;numeric&#x27;,\n",
       "                                                  Pipeline(steps=[(&#x27;imputer&#x27;,\n",
       "                                                                   SimpleImputer(strategy=&#x27;median&#x27;))]),\n",
       "                                                  [0, 1, 4, 9]),\n",
       "                                                 (&#x27;categorical&#x27;,\n",
       "                                                  Pipeline(steps=[(&#x27;imputer&#x27;,\n",
       "                                                                   SimpleImputer(strategy=&#x27;most_frequent&#x27;))]),\n",
       "                                                  [5, 6])])...\n",
       "                                                      kw_args={&#x27;replace_dict&#x27;: {&#x27;CNG&#x27;: 3,\n",
       "                                                                                &#x27;Diesel&#x27;: 2,\n",
       "                                                                                &#x27;Electric&#x27;: 5,\n",
       "                                                                                &#x27;LPG&#x27;: 4,\n",
       "                                                                                &#x27;Petrol&#x27;: 1}}))])),\n",
       "                (&#x27;replace_transmission&#x27;,\n",
       "                 Pipeline(steps=[(&#x27;replace_transmission&#x27;,\n",
       "                                  FunctionTransformer(func=&lt;function replace_values at 0x152ab49a0&gt;,\n",
       "                                                      kw_args={&#x27;replace_dict&#x27;: {&#x27;Automatic&#x27;: 2,\n",
       "                                                                                &#x27;Manual&#x27;: 1}}))])),\n",
       "                (&#x27;antiquity&#x27;, AntiquityCalculatorTransformer()),\n",
       "                (&#x27;scaler&#x27;, StandardScaler()),\n",
       "                (&#x27;regression&#x27;, LinearRegression())])</pre><b>In a Jupyter environment, please rerun this cell to show the HTML representation or trust the notebook. <br />On GitHub, the HTML representation is unable to render, please try loading this page with nbviewer.org.</b></div><div class=\"sk-container\" hidden><div class=\"sk-item sk-dashed-wrapped\"><div class=\"sk-label-container\"><div class=\"sk-label sk-toggleable\"><input class=\"sk-toggleable__control sk-hidden--visually\" id=\"sk-estimator-id-2\" type=\"checkbox\" ><label for=\"sk-estimator-id-2\" class=\"sk-toggleable__label sk-toggleable__label-arrow\">Pipeline</label><div class=\"sk-toggleable__content\"><pre>Pipeline(steps=[(&#x27;data_pipeline&#x27;,\n",
       "                 Pipeline(steps=[(&#x27;to_numpy&#x27;,\n",
       "                                  FunctionTransformer(func=&lt;function my_lambda at 0x152ab5120&gt;))])),\n",
       "                (&#x27;preprocessor&#x27;,\n",
       "                 ColumnTransformer(transformers=[(&#x27;numeric&#x27;,\n",
       "                                                  Pipeline(steps=[(&#x27;imputer&#x27;,\n",
       "                                                                   SimpleImputer(strategy=&#x27;median&#x27;))]),\n",
       "                                                  [0, 1, 4, 9]),\n",
       "                                                 (&#x27;categorical&#x27;,\n",
       "                                                  Pipeline(steps=[(&#x27;imputer&#x27;,\n",
       "                                                                   SimpleImputer(strategy=&#x27;most_frequent&#x27;))]),\n",
       "                                                  [5, 6])])...\n",
       "                                                      kw_args={&#x27;replace_dict&#x27;: {&#x27;CNG&#x27;: 3,\n",
       "                                                                                &#x27;Diesel&#x27;: 2,\n",
       "                                                                                &#x27;Electric&#x27;: 5,\n",
       "                                                                                &#x27;LPG&#x27;: 4,\n",
       "                                                                                &#x27;Petrol&#x27;: 1}}))])),\n",
       "                (&#x27;replace_transmission&#x27;,\n",
       "                 Pipeline(steps=[(&#x27;replace_transmission&#x27;,\n",
       "                                  FunctionTransformer(func=&lt;function replace_values at 0x152ab49a0&gt;,\n",
       "                                                      kw_args={&#x27;replace_dict&#x27;: {&#x27;Automatic&#x27;: 2,\n",
       "                                                                                &#x27;Manual&#x27;: 1}}))])),\n",
       "                (&#x27;antiquity&#x27;, AntiquityCalculatorTransformer()),\n",
       "                (&#x27;scaler&#x27;, StandardScaler()),\n",
       "                (&#x27;regression&#x27;, LinearRegression())])</pre></div></div></div><div class=\"sk-serial\"><div class=\"sk-item\"><div class=\"sk-label-container\"><div class=\"sk-label sk-toggleable\"><input class=\"sk-toggleable__control sk-hidden--visually\" id=\"sk-estimator-id-3\" type=\"checkbox\" ><label for=\"sk-estimator-id-3\" class=\"sk-toggleable__label sk-toggleable__label-arrow\">data_pipeline: Pipeline</label><div class=\"sk-toggleable__content\"><pre>Pipeline(steps=[(&#x27;to_numpy&#x27;,\n",
       "                 FunctionTransformer(func=&lt;function my_lambda at 0x152ab5120&gt;))])</pre></div></div></div><div class=\"sk-serial\"><div class=\"sk-item\"><div class=\"sk-estimator sk-toggleable\"><input class=\"sk-toggleable__control sk-hidden--visually\" id=\"sk-estimator-id-4\" type=\"checkbox\" ><label for=\"sk-estimator-id-4\" class=\"sk-toggleable__label sk-toggleable__label-arrow\">FunctionTransformer</label><div class=\"sk-toggleable__content\"><pre>FunctionTransformer(func=&lt;function my_lambda at 0x152ab5120&gt;)</pre></div></div></div></div></div><div class=\"sk-item sk-dashed-wrapped\"><div class=\"sk-label-container\"><div class=\"sk-label sk-toggleable\"><input class=\"sk-toggleable__control sk-hidden--visually\" id=\"sk-estimator-id-5\" type=\"checkbox\" ><label for=\"sk-estimator-id-5\" class=\"sk-toggleable__label sk-toggleable__label-arrow\">preprocessor: ColumnTransformer</label><div class=\"sk-toggleable__content\"><pre>ColumnTransformer(transformers=[(&#x27;numeric&#x27;,\n",
       "                                 Pipeline(steps=[(&#x27;imputer&#x27;,\n",
       "                                                  SimpleImputer(strategy=&#x27;median&#x27;))]),\n",
       "                                 [0, 1, 4, 9]),\n",
       "                                (&#x27;categorical&#x27;,\n",
       "                                 Pipeline(steps=[(&#x27;imputer&#x27;,\n",
       "                                                  SimpleImputer(strategy=&#x27;most_frequent&#x27;))]),\n",
       "                                 [5, 6])])</pre></div></div></div><div class=\"sk-parallel\"><div class=\"sk-parallel-item\"><div class=\"sk-item\"><div class=\"sk-label-container\"><div class=\"sk-label sk-toggleable\"><input class=\"sk-toggleable__control sk-hidden--visually\" id=\"sk-estimator-id-6\" type=\"checkbox\" ><label for=\"sk-estimator-id-6\" class=\"sk-toggleable__label sk-toggleable__label-arrow\">numeric</label><div class=\"sk-toggleable__content\"><pre>[0, 1, 4, 9]</pre></div></div></div><div class=\"sk-serial\"><div class=\"sk-item\"><div class=\"sk-serial\"><div class=\"sk-item\"><div class=\"sk-estimator sk-toggleable\"><input class=\"sk-toggleable__control sk-hidden--visually\" id=\"sk-estimator-id-7\" type=\"checkbox\" ><label for=\"sk-estimator-id-7\" class=\"sk-toggleable__label sk-toggleable__label-arrow\">SimpleImputer</label><div class=\"sk-toggleable__content\"><pre>SimpleImputer(strategy=&#x27;median&#x27;)</pre></div></div></div></div></div></div></div></div><div class=\"sk-parallel-item\"><div class=\"sk-item\"><div class=\"sk-label-container\"><div class=\"sk-label sk-toggleable\"><input class=\"sk-toggleable__control sk-hidden--visually\" id=\"sk-estimator-id-8\" type=\"checkbox\" ><label for=\"sk-estimator-id-8\" class=\"sk-toggleable__label sk-toggleable__label-arrow\">categorical</label><div class=\"sk-toggleable__content\"><pre>[5, 6]</pre></div></div></div><div class=\"sk-serial\"><div class=\"sk-item\"><div class=\"sk-serial\"><div class=\"sk-item\"><div class=\"sk-estimator sk-toggleable\"><input class=\"sk-toggleable__control sk-hidden--visually\" id=\"sk-estimator-id-9\" type=\"checkbox\" ><label for=\"sk-estimator-id-9\" class=\"sk-toggleable__label sk-toggleable__label-arrow\">SimpleImputer</label><div class=\"sk-toggleable__content\"><pre>SimpleImputer(strategy=&#x27;most_frequent&#x27;)</pre></div></div></div></div></div></div></div></div></div></div><div class=\"sk-item\"><div class=\"sk-label-container\"><div class=\"sk-label sk-toggleable\"><input class=\"sk-toggleable__control sk-hidden--visually\" id=\"sk-estimator-id-10\" type=\"checkbox\" ><label for=\"sk-estimator-id-10\" class=\"sk-toggleable__label sk-toggleable__label-arrow\">replace_fuel: Pipeline</label><div class=\"sk-toggleable__content\"><pre>Pipeline(steps=[(&#x27;replace_fuel&#x27;,\n",
       "                 FunctionTransformer(func=&lt;function replace_values at 0x152ab49a0&gt;,\n",
       "                                     kw_args={&#x27;replace_dict&#x27;: {&#x27;CNG&#x27;: 3,\n",
       "                                                               &#x27;Diesel&#x27;: 2,\n",
       "                                                               &#x27;Electric&#x27;: 5,\n",
       "                                                               &#x27;LPG&#x27;: 4,\n",
       "                                                               &#x27;Petrol&#x27;: 1}}))])</pre></div></div></div><div class=\"sk-serial\"><div class=\"sk-item\"><div class=\"sk-estimator sk-toggleable\"><input class=\"sk-toggleable__control sk-hidden--visually\" id=\"sk-estimator-id-11\" type=\"checkbox\" ><label for=\"sk-estimator-id-11\" class=\"sk-toggleable__label sk-toggleable__label-arrow\">FunctionTransformer</label><div class=\"sk-toggleable__content\"><pre>FunctionTransformer(func=&lt;function replace_values at 0x152ab49a0&gt;,\n",
       "                    kw_args={&#x27;replace_dict&#x27;: {&#x27;CNG&#x27;: 3, &#x27;Diesel&#x27;: 2,\n",
       "                                              &#x27;Electric&#x27;: 5, &#x27;LPG&#x27;: 4,\n",
       "                                              &#x27;Petrol&#x27;: 1}})</pre></div></div></div></div></div><div class=\"sk-item\"><div class=\"sk-label-container\"><div class=\"sk-label sk-toggleable\"><input class=\"sk-toggleable__control sk-hidden--visually\" id=\"sk-estimator-id-12\" type=\"checkbox\" ><label for=\"sk-estimator-id-12\" class=\"sk-toggleable__label sk-toggleable__label-arrow\">replace_transmission: Pipeline</label><div class=\"sk-toggleable__content\"><pre>Pipeline(steps=[(&#x27;replace_transmission&#x27;,\n",
       "                 FunctionTransformer(func=&lt;function replace_values at 0x152ab49a0&gt;,\n",
       "                                     kw_args={&#x27;replace_dict&#x27;: {&#x27;Automatic&#x27;: 2,\n",
       "                                                               &#x27;Manual&#x27;: 1}}))])</pre></div></div></div><div class=\"sk-serial\"><div class=\"sk-item\"><div class=\"sk-estimator sk-toggleable\"><input class=\"sk-toggleable__control sk-hidden--visually\" id=\"sk-estimator-id-13\" type=\"checkbox\" ><label for=\"sk-estimator-id-13\" class=\"sk-toggleable__label sk-toggleable__label-arrow\">FunctionTransformer</label><div class=\"sk-toggleable__content\"><pre>FunctionTransformer(func=&lt;function replace_values at 0x152ab49a0&gt;,\n",
       "                    kw_args={&#x27;replace_dict&#x27;: {&#x27;Automatic&#x27;: 2, &#x27;Manual&#x27;: 1}})</pre></div></div></div></div></div><div class=\"sk-item\"><div class=\"sk-estimator sk-toggleable\"><input class=\"sk-toggleable__control sk-hidden--visually\" id=\"sk-estimator-id-14\" type=\"checkbox\" ><label for=\"sk-estimator-id-14\" class=\"sk-toggleable__label sk-toggleable__label-arrow\">AntiquityCalculatorTransformer</label><div class=\"sk-toggleable__content\"><pre>AntiquityCalculatorTransformer()</pre></div></div></div><div class=\"sk-item\"><div class=\"sk-estimator sk-toggleable\"><input class=\"sk-toggleable__control sk-hidden--visually\" id=\"sk-estimator-id-15\" type=\"checkbox\" ><label for=\"sk-estimator-id-15\" class=\"sk-toggleable__label sk-toggleable__label-arrow\">StandardScaler</label><div class=\"sk-toggleable__content\"><pre>StandardScaler()</pre></div></div></div><div class=\"sk-item\"><div class=\"sk-estimator sk-toggleable\"><input class=\"sk-toggleable__control sk-hidden--visually\" id=\"sk-estimator-id-16\" type=\"checkbox\" ><label for=\"sk-estimator-id-16\" class=\"sk-toggleable__label sk-toggleable__label-arrow\">LinearRegression</label><div class=\"sk-toggleable__content\"><pre>LinearRegression()</pre></div></div></div></div></div></div></div>"
      ],
      "text/plain": [
       "Pipeline(steps=[('data_pipeline',\n",
       "                 Pipeline(steps=[('to_numpy',\n",
       "                                  FunctionTransformer(func=<function my_lambda at 0x152ab5120>))])),\n",
       "                ('preprocessor',\n",
       "                 ColumnTransformer(transformers=[('numeric',\n",
       "                                                  Pipeline(steps=[('imputer',\n",
       "                                                                   SimpleImputer(strategy='median'))]),\n",
       "                                                  [0, 1, 4, 9]),\n",
       "                                                 ('categorical',\n",
       "                                                  Pipeline(steps=[('imputer',\n",
       "                                                                   SimpleImputer(strategy='most_frequent'))]),\n",
       "                                                  [5, 6])])...\n",
       "                                                      kw_args={'replace_dict': {'CNG': 3,\n",
       "                                                                                'Diesel': 2,\n",
       "                                                                                'Electric': 5,\n",
       "                                                                                'LPG': 4,\n",
       "                                                                                'Petrol': 1}}))])),\n",
       "                ('replace_transmission',\n",
       "                 Pipeline(steps=[('replace_transmission',\n",
       "                                  FunctionTransformer(func=<function replace_values at 0x152ab49a0>,\n",
       "                                                      kw_args={'replace_dict': {'Automatic': 2,\n",
       "                                                                                'Manual': 1}}))])),\n",
       "                ('antiquity', AntiquityCalculatorTransformer()),\n",
       "                ('scaler', StandardScaler()),\n",
       "                ('regression', LinearRegression())])"
      ]
     },
     "execution_count": 56,
     "metadata": {},
     "output_type": "execute_result"
    }
   ],
   "source": [
    "features = [\"year\", \"km_driven\", \"seats\", \"max_power\", \"fuel\", \"transmission\"]\n",
    "numeric_cols = ['year', 'km_driven', 'seats', 'max_power']\n",
    "categorical_cols = ['fuel', 'transmission']\n",
    "features = [\"year\", \"km_driven\", \"seats\", \"max_power\", \"fuel\", \"transmission\"]\n",
    "drop_cols = [\"owner\", \"year\", \"seller_type\", \"mileage\", \"engine\"]\n",
    "\n",
    "numeric_cols = [0, 1, 4, 9]\n",
    "categorical_cols = [5, 6]\n",
    "last_col = -1\n",
    "replace_fuel = {'Petrol': 1, 'Diesel': 2, 'CNG': 3, 'LPG': 4, 'Electric': 5}\n",
    "replace_transmission = {'Manual': 1, 'Automatic': 2}\n",
    "\n",
    "ya_train.fillna(ya_train.median(), inplace=True)\n",
    "\n",
    "\n",
    "# Custom transformer to calculate the antiquity of a car\n",
    "class AntiquityCalculatorTransformer(BaseEstimator, TransformerMixin):\n",
    "    def __init__(self):\n",
    "        pass\n",
    "    \n",
    "    def fit(self, X, y=None):\n",
    "        return self\n",
    "    \n",
    "    def transform(self, X):\n",
    "        new_col = 2020 - X[:, 0]\n",
    "        return np.c_[new_col, X]\n",
    "\n",
    "# Replacer to transform all the categorical values in to numerical ones\n",
    "def replace_values(arr, replace_dict):\n",
    "    for k, v in replace_dict.items():\n",
    "        arr[arr == k] = v\n",
    "    return arr\n",
    "\n",
    "# Lambda function necesarry of the transformer won't work\n",
    "def my_lambda(x):\n",
    "    return x.values\n",
    "\n",
    "# Numeric transformer: impute all the passed on numerical columns so that all null values are replaced with the median of each column\n",
    "numeric_transformer = Pipeline(steps=[\n",
    "    ('imputer', SimpleImputer(strategy='median')),\n",
    "])\n",
    "\n",
    "# Categorical transformer: impute all the passed on categorical columns so that all null values are replaced with the mode of each column\n",
    "categorical_transformer = Pipeline(steps=[\n",
    "    ('imputer', SimpleImputer(strategy='most_frequent'))\n",
    "])\n",
    "\n",
    "# Force the dataframe to become an ndarray so that all transformations are easier\n",
    "data_pipeline = Pipeline([\n",
    "    ('to_numpy', FunctionTransformer(my_lambda, validate=False))\n",
    "])\n",
    "\n",
    "# Replace all the elements in the \"fuel\" column so as to be able to run a regression\n",
    "fuel_transformer = Pipeline(steps=[('replace_fuel', FunctionTransformer(replace_values, validate=False, kw_args={'replace_dict': replace_fuel}))])\n",
    "\n",
    "# Replace all the elements in the \"transmission\" column so as to be able to run a regression\n",
    "transmission_transformer = Pipeline(steps=[('replace_transmission', FunctionTransformer(replace_values, validate=False, kw_args={'replace_dict': replace_transmission}))])\n",
    "\n",
    "# Preprocessor\n",
    "preprocessor = ColumnTransformer(transformers=[\n",
    "    ('numeric', numeric_transformer, numeric_cols),\n",
    "    ('categorical', categorical_transformer, categorical_cols),\n",
    "])\n",
    "\n",
    "# Complete pipeline\n",
    "pipeline = Pipeline([\n",
    "    ('data_pipeline', data_pipeline),\n",
    "    ('preprocessor', preprocessor),\n",
    "    ('replace_fuel', fuel_transformer),\n",
    "    ('replace_transmission', transmission_transformer),\n",
    "    ('antiquity', AntiquityCalculatorTransformer()),\n",
    "    ('scaler', StandardScaler()),\n",
    "    ('regression', LinearRegression())\n",
    "])\n",
    "\n",
    "pipeline.fit(xa_train, ya_train)"
   ]
  },
  {
   "cell_type": "markdown",
   "metadata": {},
   "source": [
    "##### Se debe revisar que el pipeline este funcionando bien"
   ]
  },
  {
   "cell_type": "code",
   "execution_count": 57,
   "metadata": {},
   "outputs": [
    {
     "data": {
      "text/html": [
       "<div>\n",
       "<style scoped>\n",
       "    .dataframe tbody tr th:only-of-type {\n",
       "        vertical-align: middle;\n",
       "    }\n",
       "\n",
       "    .dataframe tbody tr th {\n",
       "        vertical-align: top;\n",
       "    }\n",
       "\n",
       "    .dataframe thead th {\n",
       "        text-align: right;\n",
       "    }\n",
       "</style>\n",
       "<table border=\"1\" class=\"dataframe\">\n",
       "  <thead>\n",
       "    <tr style=\"text-align: right;\">\n",
       "      <th></th>\n",
       "      <th>Actual</th>\n",
       "      <th>Predicted</th>\n",
       "      <th>Difference</th>\n",
       "      <th>Difference %</th>\n",
       "    </tr>\n",
       "  </thead>\n",
       "  <tbody>\n",
       "    <tr>\n",
       "      <th>5930</th>\n",
       "      <td>5633.63</td>\n",
       "      <td>7145.508609</td>\n",
       "      <td>-1511.878609</td>\n",
       "      <td>-26.836669</td>\n",
       "    </tr>\n",
       "    <tr>\n",
       "      <th>2441</th>\n",
       "      <td>6057.67</td>\n",
       "      <td>9142.078226</td>\n",
       "      <td>-3084.408226</td>\n",
       "      <td>-50.917403</td>\n",
       "    </tr>\n",
       "    <tr>\n",
       "      <th>5028</th>\n",
       "      <td>9086.50</td>\n",
       "      <td>11484.788286</td>\n",
       "      <td>-2398.288286</td>\n",
       "      <td>-26.393972</td>\n",
       "    </tr>\n",
       "    <tr>\n",
       "      <th>1564</th>\n",
       "      <td>6663.44</td>\n",
       "      <td>10755.206359</td>\n",
       "      <td>-4091.766359</td>\n",
       "      <td>-61.406216</td>\n",
       "    </tr>\n",
       "    <tr>\n",
       "      <th>5213</th>\n",
       "      <td>9571.12</td>\n",
       "      <td>11409.458984</td>\n",
       "      <td>-1838.338984</td>\n",
       "      <td>-19.207146</td>\n",
       "    </tr>\n",
       "    <tr>\n",
       "      <th>...</th>\n",
       "      <td>...</td>\n",
       "      <td>...</td>\n",
       "      <td>...</td>\n",
       "      <td>...</td>\n",
       "    </tr>\n",
       "    <tr>\n",
       "      <th>5477</th>\n",
       "      <td>5451.90</td>\n",
       "      <td>12554.826744</td>\n",
       "      <td>-7102.926744</td>\n",
       "      <td>-130.283511</td>\n",
       "    </tr>\n",
       "    <tr>\n",
       "      <th>643</th>\n",
       "      <td>4240.37</td>\n",
       "      <td>9788.042463</td>\n",
       "      <td>-5547.672463</td>\n",
       "      <td>-130.829915</td>\n",
       "    </tr>\n",
       "    <tr>\n",
       "      <th>6643</th>\n",
       "      <td>4543.25</td>\n",
       "      <td>7429.725107</td>\n",
       "      <td>-2886.475107</td>\n",
       "      <td>-63.533266</td>\n",
       "    </tr>\n",
       "    <tr>\n",
       "      <th>2188</th>\n",
       "      <td>4834.02</td>\n",
       "      <td>11240.346026</td>\n",
       "      <td>-6406.326026</td>\n",
       "      <td>-132.525849</td>\n",
       "    </tr>\n",
       "    <tr>\n",
       "      <th>4966</th>\n",
       "      <td>605.77</td>\n",
       "      <td>-2579.452804</td>\n",
       "      <td>3185.222804</td>\n",
       "      <td>525.813890</td>\n",
       "    </tr>\n",
       "  </tbody>\n",
       "</table>\n",
       "<p>2135 rows × 4 columns</p>\n",
       "</div>"
      ],
      "text/plain": [
       "       Actual     Predicted   Difference  Difference %\n",
       "5930  5633.63   7145.508609 -1511.878609    -26.836669\n",
       "2441  6057.67   9142.078226 -3084.408226    -50.917403\n",
       "5028  9086.50  11484.788286 -2398.288286    -26.393972\n",
       "1564  6663.44  10755.206359 -4091.766359    -61.406216\n",
       "5213  9571.12  11409.458984 -1838.338984    -19.207146\n",
       "...       ...           ...          ...           ...\n",
       "5477  5451.90  12554.826744 -7102.926744   -130.283511\n",
       "643   4240.37   9788.042463 -5547.672463   -130.829915\n",
       "6643  4543.25   7429.725107 -2886.475107    -63.533266\n",
       "2188  4834.02  11240.346026 -6406.326026   -132.525849\n",
       "4966   605.77  -2579.452804  3185.222804    525.813890\n",
       "\n",
       "[2135 rows x 4 columns]"
      ]
     },
     "execution_count": 57,
     "metadata": {},
     "output_type": "execute_result"
    }
   ],
   "source": [
    "ya_pred = pipeline.predict(xa_test)\n",
    "test_df = pd.DataFrame({'Actual': ya_test, 'Predicted': ya_pred})\n",
    "\n",
    "test_df['Difference'] = test_df['Actual'] - test_df['Predicted']\n",
    "test_df['Difference %'] = test_df['Difference'] / test_df['Actual'] * 100\n",
    "test_df"
   ]
  },
  {
   "cell_type": "code",
   "execution_count": 58,
   "metadata": {},
   "outputs": [
    {
     "name": "stdout",
     "output_type": "stream",
     "text": [
      "Mean Absolute Error Train: 8482.962804965031\n",
      "Mean Absolute Error Test: 8569.982021362828\n"
     ]
    }
   ],
   "source": [
    "print('Mean Absolute Error Train:', mean_absolute_error(ya_train, pipeline.predict(xa_train)))\n",
    "print('Mean Absolute Error Test:', mean_absolute_error(ya_test, pipeline.predict(xa_test)))"
   ]
  },
  {
   "cell_type": "code",
   "execution_count": 59,
   "metadata": {},
   "outputs": [
    {
     "name": "stdout",
     "output_type": "stream",
     "text": [
      "Root Mean Squared Error Train: 39370.734376242166\n",
      "Root Mean Squared Error Test: 38302.63467780663\n"
     ]
    }
   ],
   "source": [
    "print('Root Mean Squared Error Train:', np.sqrt(mean_squared_error(ya_train, pipeline.predict(xa_train))))\n",
    "print('Root Mean Squared Error Test:', np.sqrt(mean_squared_error(ya_test, pipeline.predict(xa_test))))"
   ]
  },
  {
   "cell_type": "code",
   "execution_count": 60,
   "metadata": {
    "tags": []
   },
   "outputs": [
    {
     "data": {
      "text/plain": [
       "count      2135.000000\n",
       "mean       8569.982021\n",
       "std       37340.330736\n",
       "min           1.444177\n",
       "25%        2301.221052\n",
       "50%        3899.000131\n",
       "75%        5696.157983\n",
       "95%       18335.687205\n",
       "99%       38200.072973\n",
       "max      559042.656631\n",
       "Name: selling_price, dtype: float64"
      ]
     },
     "execution_count": 60,
     "metadata": {},
     "output_type": "execute_result"
    }
   ],
   "source": [
    "\n",
    "abs(ya_test - pipeline.predict(xa_test)).describe(percentiles = [0.25, 0.5, 0.75, 0.95, 0.99])"
   ]
  },
  {
   "cell_type": "code",
   "execution_count": 61,
   "metadata": {
    "tags": []
   },
   "outputs": [
    {
     "data": {
      "text/plain": [
       "['modelo.joblib']"
      ]
     },
     "execution_count": 61,
     "metadata": {},
     "output_type": "execute_result"
    }
   ],
   "source": [
    "# Persist the model\n",
    "dump(pipeline, 'modelo.joblib')"
   ]
  },
  {
   "cell_type": "markdown",
   "metadata": {},
   "source": [
    "#### 8.1. Validación de homocedasticidad"
   ]
  },
  {
   "cell_type": "code",
   "execution_count": 62,
   "metadata": {},
   "outputs": [
    {
     "data": {
      "image/png": "[encoded data removed]",
      "text/plain": [
       "<Figure size 1200x400 with 2 Axes>"
      ]
     },
     "metadata": {},
     "output_type": "display_data"
    }
   ],
   "source": [
    "fig, axes = plt.subplots(1, 2, figsize = (12, 4))\n",
    "errors = (pipeline.predict(xa_train) - y_train).values\n",
    "sns.scatterplot(x = pipeline.predict(xa_train), y = errors, alpha = 0.1, ax = axes[0])\n",
    "_ = stats.probplot(errors, dist = 'norm', plot = axes[1])"
   ]
  },
  {
   "cell_type": "markdown",
   "metadata": {},
   "source": [
    "Podemos ver que la varianza en los errores es relativamente constante"
   ]
  },
  {
   "cell_type": "markdown",
   "metadata": {},
   "source": [
    "### 9. Pruebas del Modelo\n",
    "##### Se carga el pipeline para hacer pruebas sobre los datos de prueba que no tienen el valor de \"selling_price\""
   ]
  },
  {
   "cell_type": "code",
   "execution_count": 63,
   "metadata": {
    "tags": []
   },
   "outputs": [],
   "source": [
    "pipeline_loaded = load('modelo.joblib')"
   ]
  },
  {
   "cell_type": "code",
   "execution_count": 64,
   "metadata": {
    "tags": []
   },
   "outputs": [
    {
     "data": {
      "text/html": [
       "<div>\n",
       "<style scoped>\n",
       "    .dataframe tbody tr th:only-of-type {\n",
       "        vertical-align: middle;\n",
       "    }\n",
       "\n",
       "    .dataframe tbody tr th {\n",
       "        vertical-align: top;\n",
       "    }\n",
       "\n",
       "    .dataframe thead th {\n",
       "        text-align: right;\n",
       "    }\n",
       "</style>\n",
       "<table border=\"1\" class=\"dataframe\">\n",
       "  <thead>\n",
       "    <tr style=\"text-align: right;\">\n",
       "      <th></th>\n",
       "      <th>year</th>\n",
       "      <th>km_driven</th>\n",
       "      <th>seats</th>\n",
       "      <th>mileage</th>\n",
       "      <th>engine</th>\n",
       "      <th>max_power</th>\n",
       "    </tr>\n",
       "  </thead>\n",
       "  <tbody>\n",
       "    <tr>\n",
       "      <th>count</th>\n",
       "      <td>764.000000</td>\n",
       "      <td>769.000000</td>\n",
       "      <td>791.00000</td>\n",
       "      <td>769.000000</td>\n",
       "      <td>763.000000</td>\n",
       "      <td>762.000000</td>\n",
       "    </tr>\n",
       "    <tr>\n",
       "      <th>mean</th>\n",
       "      <td>2013.816754</td>\n",
       "      <td>70209.823147</td>\n",
       "      <td>5.46397</td>\n",
       "      <td>19.502421</td>\n",
       "      <td>1835.280472</td>\n",
       "      <td>141.170696</td>\n",
       "    </tr>\n",
       "    <tr>\n",
       "      <th>std</th>\n",
       "      <td>3.904554</td>\n",
       "      <td>48346.299689</td>\n",
       "      <td>1.00802</td>\n",
       "      <td>4.173028</td>\n",
       "      <td>2179.398466</td>\n",
       "      <td>276.544074</td>\n",
       "    </tr>\n",
       "    <tr>\n",
       "      <th>min</th>\n",
       "      <td>1996.000000</td>\n",
       "      <td>2000.000000</td>\n",
       "      <td>4.00000</td>\n",
       "      <td>0.000000</td>\n",
       "      <td>47.000000</td>\n",
       "      <td>1.270000</td>\n",
       "    </tr>\n",
       "    <tr>\n",
       "      <th>25%</th>\n",
       "      <td>2011.000000</td>\n",
       "      <td>35000.000000</td>\n",
       "      <td>5.00000</td>\n",
       "      <td>16.520000</td>\n",
       "      <td>1197.000000</td>\n",
       "      <td>68.050000</td>\n",
       "    </tr>\n",
       "    <tr>\n",
       "      <th>50%</th>\n",
       "      <td>2015.000000</td>\n",
       "      <td>67000.000000</td>\n",
       "      <td>5.00000</td>\n",
       "      <td>19.330000</td>\n",
       "      <td>1368.000000</td>\n",
       "      <td>83.100000</td>\n",
       "    </tr>\n",
       "    <tr>\n",
       "      <th>75%</th>\n",
       "      <td>2017.000000</td>\n",
       "      <td>100000.000000</td>\n",
       "      <td>5.00000</td>\n",
       "      <td>22.540000</td>\n",
       "      <td>1598.000000</td>\n",
       "      <td>104.412500</td>\n",
       "    </tr>\n",
       "    <tr>\n",
       "      <th>max</th>\n",
       "      <td>2020.000000</td>\n",
       "      <td>577414.000000</td>\n",
       "      <td>10.00000</td>\n",
       "      <td>37.240000</td>\n",
       "      <td>19140.000000</td>\n",
       "      <td>1997.270000</td>\n",
       "    </tr>\n",
       "  </tbody>\n",
       "</table>\n",
       "</div>"
      ],
      "text/plain": [
       "              year      km_driven      seats     mileage        engine  \\\n",
       "count   764.000000     769.000000  791.00000  769.000000    763.000000   \n",
       "mean   2013.816754   70209.823147    5.46397   19.502421   1835.280472   \n",
       "std       3.904554   48346.299689    1.00802    4.173028   2179.398466   \n",
       "min    1996.000000    2000.000000    4.00000    0.000000     47.000000   \n",
       "25%    2011.000000   35000.000000    5.00000   16.520000   1197.000000   \n",
       "50%    2015.000000   67000.000000    5.00000   19.330000   1368.000000   \n",
       "75%    2017.000000  100000.000000    5.00000   22.540000   1598.000000   \n",
       "max    2020.000000  577414.000000   10.00000   37.240000  19140.000000   \n",
       "\n",
       "         max_power  \n",
       "count   762.000000  \n",
       "mean    141.170696  \n",
       "std     276.544074  \n",
       "min       1.270000  \n",
       "25%      68.050000  \n",
       "50%      83.100000  \n",
       "75%     104.412500  \n",
       "max    1997.270000  "
      ]
     },
     "execution_count": 64,
     "metadata": {},
     "output_type": "execute_result"
    }
   ],
   "source": [
    "df_new = pd.read_csv('./data/MotorAlpes_test.csv', index_col=False)\n",
    "df_new = df_new.iloc[:, 1:]\n",
    "df_new.describe()"
   ]
  },
  {
   "cell_type": "code",
   "execution_count": 65,
   "metadata": {
    "tags": []
   },
   "outputs": [
    {
     "data": {
      "text/html": [
       "<div>\n",
       "<style scoped>\n",
       "    .dataframe tbody tr th:only-of-type {\n",
       "        vertical-align: middle;\n",
       "    }\n",
       "\n",
       "    .dataframe tbody tr th {\n",
       "        vertical-align: top;\n",
       "    }\n",
       "\n",
       "    .dataframe thead th {\n",
       "        text-align: right;\n",
       "    }\n",
       "</style>\n",
       "<table border=\"1\" class=\"dataframe\">\n",
       "  <thead>\n",
       "    <tr style=\"text-align: right;\">\n",
       "      <th></th>\n",
       "      <th>year</th>\n",
       "      <th>km_driven</th>\n",
       "      <th>seats</th>\n",
       "      <th>mileage</th>\n",
       "      <th>engine</th>\n",
       "      <th>max_power</th>\n",
       "      <th>selling_price</th>\n",
       "    </tr>\n",
       "  </thead>\n",
       "  <tbody>\n",
       "    <tr>\n",
       "      <th>count</th>\n",
       "      <td>6876.000000</td>\n",
       "      <td>6.917000e+03</td>\n",
       "      <td>7115.000000</td>\n",
       "      <td>6917.000000</td>\n",
       "      <td>6835.000000</td>\n",
       "      <td>6847.000000</td>\n",
       "      <td>6714.000000</td>\n",
       "    </tr>\n",
       "    <tr>\n",
       "      <th>mean</th>\n",
       "      <td>2013.980948</td>\n",
       "      <td>6.911118e+04</td>\n",
       "      <td>5.411103</td>\n",
       "      <td>19.523473</td>\n",
       "      <td>1835.489539</td>\n",
       "      <td>141.981595</td>\n",
       "      <td>11261.208041</td>\n",
       "    </tr>\n",
       "    <tr>\n",
       "      <th>std</th>\n",
       "      <td>3.852565</td>\n",
       "      <td>5.796521e+04</td>\n",
       "      <td>0.953555</td>\n",
       "      <td>4.241574</td>\n",
       "      <td>2363.919253</td>\n",
       "      <td>274.956684</td>\n",
       "      <td>40765.694516</td>\n",
       "    </tr>\n",
       "    <tr>\n",
       "      <th>min</th>\n",
       "      <td>1994.000000</td>\n",
       "      <td>1.000000e+00</td>\n",
       "      <td>2.000000</td>\n",
       "      <td>0.000000</td>\n",
       "      <td>4.000000</td>\n",
       "      <td>1.070000</td>\n",
       "      <td>1.910000</td>\n",
       "    </tr>\n",
       "    <tr>\n",
       "      <th>25%</th>\n",
       "      <td>2012.000000</td>\n",
       "      <td>3.400000e+04</td>\n",
       "      <td>5.000000</td>\n",
       "      <td>16.800000</td>\n",
       "      <td>1197.000000</td>\n",
       "      <td>68.050000</td>\n",
       "      <td>3210.560000</td>\n",
       "    </tr>\n",
       "    <tr>\n",
       "      <th>50%</th>\n",
       "      <td>2015.000000</td>\n",
       "      <td>6.000000e+04</td>\n",
       "      <td>5.000000</td>\n",
       "      <td>19.330000</td>\n",
       "      <td>1248.000000</td>\n",
       "      <td>83.100000</td>\n",
       "      <td>5451.900000</td>\n",
       "    </tr>\n",
       "    <tr>\n",
       "      <th>75%</th>\n",
       "      <td>2017.000000</td>\n",
       "      <td>9.400000e+04</td>\n",
       "      <td>5.000000</td>\n",
       "      <td>22.320000</td>\n",
       "      <td>1597.000000</td>\n",
       "      <td>104.680000</td>\n",
       "      <td>8480.740000</td>\n",
       "    </tr>\n",
       "    <tr>\n",
       "      <th>max</th>\n",
       "      <td>2020.000000</td>\n",
       "      <td>2.360457e+06</td>\n",
       "      <td>14.000000</td>\n",
       "      <td>46.816000</td>\n",
       "      <td>19972.000000</td>\n",
       "      <td>1995.640000</td>\n",
       "      <td>598983.440000</td>\n",
       "    </tr>\n",
       "  </tbody>\n",
       "</table>\n",
       "</div>"
      ],
      "text/plain": [
       "              year     km_driven        seats      mileage        engine  \\\n",
       "count  6876.000000  6.917000e+03  7115.000000  6917.000000   6835.000000   \n",
       "mean   2013.980948  6.911118e+04     5.411103    19.523473   1835.489539   \n",
       "std       3.852565  5.796521e+04     0.953555     4.241574   2363.919253   \n",
       "min    1994.000000  1.000000e+00     2.000000     0.000000      4.000000   \n",
       "25%    2012.000000  3.400000e+04     5.000000    16.800000   1197.000000   \n",
       "50%    2015.000000  6.000000e+04     5.000000    19.330000   1248.000000   \n",
       "75%    2017.000000  9.400000e+04     5.000000    22.320000   1597.000000   \n",
       "max    2020.000000  2.360457e+06    14.000000    46.816000  19972.000000   \n",
       "\n",
       "         max_power  selling_price  \n",
       "count  6847.000000    6714.000000  \n",
       "mean    141.981595   11261.208041  \n",
       "std     274.956684   40765.694516  \n",
       "min       1.070000       1.910000  \n",
       "25%      68.050000    3210.560000  \n",
       "50%      83.100000    5451.900000  \n",
       "75%     104.680000    8480.740000  \n",
       "max    1995.640000  598983.440000  "
      ]
     },
     "execution_count": 65,
     "metadata": {},
     "output_type": "execute_result"
    }
   ],
   "source": [
    "og_df.describe()"
   ]
  },
  {
   "cell_type": "code",
   "execution_count": 66,
   "metadata": {
    "tags": []
   },
   "outputs": [
    {
     "data": {
      "text/html": [
       "<div>\n",
       "<style scoped>\n",
       "    .dataframe tbody tr th:only-of-type {\n",
       "        vertical-align: middle;\n",
       "    }\n",
       "\n",
       "    .dataframe tbody tr th {\n",
       "        vertical-align: top;\n",
       "    }\n",
       "\n",
       "    .dataframe thead th {\n",
       "        text-align: right;\n",
       "    }\n",
       "</style>\n",
       "<table border=\"1\" class=\"dataframe\">\n",
       "  <thead>\n",
       "    <tr style=\"text-align: right;\">\n",
       "      <th></th>\n",
       "      <th>year</th>\n",
       "      <th>km_driven</th>\n",
       "      <th>owner</th>\n",
       "      <th>seller_type</th>\n",
       "      <th>seats</th>\n",
       "      <th>fuel</th>\n",
       "      <th>transmission</th>\n",
       "      <th>mileage</th>\n",
       "      <th>engine</th>\n",
       "      <th>max_power</th>\n",
       "      <th>selling_price</th>\n",
       "    </tr>\n",
       "  </thead>\n",
       "  <tbody>\n",
       "    <tr>\n",
       "      <th>0</th>\n",
       "      <td>2014.0</td>\n",
       "      <td>52442.0</td>\n",
       "      <td>Second Owner</td>\n",
       "      <td>Trustmark Dealer</td>\n",
       "      <td>5.0</td>\n",
       "      <td>Petrol</td>\n",
       "      <td>Manual</td>\n",
       "      <td>18.50</td>\n",
       "      <td>1198.0</td>\n",
       "      <td>86.8</td>\n",
       "      <td>7642.869337</td>\n",
       "    </tr>\n",
       "    <tr>\n",
       "      <th>1</th>\n",
       "      <td>2016.0</td>\n",
       "      <td>40000.0</td>\n",
       "      <td>First Owner</td>\n",
       "      <td>Individual</td>\n",
       "      <td>7.0</td>\n",
       "      <td>Petrol</td>\n",
       "      <td>Automatic</td>\n",
       "      <td>10.75</td>\n",
       "      <td>2694.0</td>\n",
       "      <td>163.7</td>\n",
       "      <td>25418.736919</td>\n",
       "    </tr>\n",
       "    <tr>\n",
       "      <th>2</th>\n",
       "      <td>2014.0</td>\n",
       "      <td>200000.0</td>\n",
       "      <td>First Owner</td>\n",
       "      <td>Individual</td>\n",
       "      <td>5.0</td>\n",
       "      <td>Diesel</td>\n",
       "      <td>Manual</td>\n",
       "      <td>25.10</td>\n",
       "      <td>1498.0</td>\n",
       "      <td>98.6</td>\n",
       "      <td>7348.365659</td>\n",
       "    </tr>\n",
       "    <tr>\n",
       "      <th>3</th>\n",
       "      <td>2016.0</td>\n",
       "      <td>20000.0</td>\n",
       "      <td>First Owner</td>\n",
       "      <td>Individual</td>\n",
       "      <td>5.0</td>\n",
       "      <td>Petrol</td>\n",
       "      <td>Manual</td>\n",
       "      <td>20.40</td>\n",
       "      <td>1197.0</td>\n",
       "      <td>81.8</td>\n",
       "      <td>9351.169088</td>\n",
       "    </tr>\n",
       "    <tr>\n",
       "      <th>4</th>\n",
       "      <td>NaN</td>\n",
       "      <td>140000.0</td>\n",
       "      <td>NaN</td>\n",
       "      <td>Individual</td>\n",
       "      <td>5.0</td>\n",
       "      <td>Diesel</td>\n",
       "      <td>Manual</td>\n",
       "      <td>25.10</td>\n",
       "      <td>1498.0</td>\n",
       "      <td>98.6</td>\n",
       "      <td>8965.363686</td>\n",
       "    </tr>\n",
       "    <tr>\n",
       "      <th>...</th>\n",
       "      <td>...</td>\n",
       "      <td>...</td>\n",
       "      <td>...</td>\n",
       "      <td>...</td>\n",
       "      <td>...</td>\n",
       "      <td>...</td>\n",
       "      <td>...</td>\n",
       "      <td>...</td>\n",
       "      <td>...</td>\n",
       "      <td>...</td>\n",
       "      <td>...</td>\n",
       "    </tr>\n",
       "    <tr>\n",
       "      <th>786</th>\n",
       "      <td>2015.0</td>\n",
       "      <td>58945.0</td>\n",
       "      <td>First Owner</td>\n",
       "      <td>Individual</td>\n",
       "      <td>7.0</td>\n",
       "      <td>Diesel</td>\n",
       "      <td>Manual</td>\n",
       "      <td>18.49</td>\n",
       "      <td>1493.0</td>\n",
       "      <td>100.0</td>\n",
       "      <td>11901.628996</td>\n",
       "    </tr>\n",
       "    <tr>\n",
       "      <th>787</th>\n",
       "      <td>2007.0</td>\n",
       "      <td>105000.0</td>\n",
       "      <td>Second Owner</td>\n",
       "      <td>Individual</td>\n",
       "      <td>7.0</td>\n",
       "      <td>Diesel</td>\n",
       "      <td>Manual</td>\n",
       "      <td>13.60</td>\n",
       "      <td>2523.0</td>\n",
       "      <td>63.0</td>\n",
       "      <td>6528.536079</td>\n",
       "    </tr>\n",
       "    <tr>\n",
       "      <th>788</th>\n",
       "      <td>2018.0</td>\n",
       "      <td>60000.0</td>\n",
       "      <td>First Owner</td>\n",
       "      <td>Individual</td>\n",
       "      <td>5.0</td>\n",
       "      <td>Petrol</td>\n",
       "      <td>Manual</td>\n",
       "      <td>17.00</td>\n",
       "      <td>1591.0</td>\n",
       "      <td>121.3</td>\n",
       "      <td>9795.730899</td>\n",
       "    </tr>\n",
       "    <tr>\n",
       "      <th>789</th>\n",
       "      <td>2011.0</td>\n",
       "      <td>70000.0</td>\n",
       "      <td>First Owner</td>\n",
       "      <td>Individual</td>\n",
       "      <td>5.0</td>\n",
       "      <td>Diesel</td>\n",
       "      <td>Manual</td>\n",
       "      <td>23.03</td>\n",
       "      <td>1396.0</td>\n",
       "      <td>69.0</td>\n",
       "      <td>7900.324147</td>\n",
       "    </tr>\n",
       "    <tr>\n",
       "      <th>790</th>\n",
       "      <td>2016.0</td>\n",
       "      <td>63000.0</td>\n",
       "      <td>First Owner</td>\n",
       "      <td>Dealer</td>\n",
       "      <td>5.0</td>\n",
       "      <td>Diesel</td>\n",
       "      <td>Manual</td>\n",
       "      <td>24.30</td>\n",
       "      <td>1248.0</td>\n",
       "      <td>88.5</td>\n",
       "      <td>10878.656429</td>\n",
       "    </tr>\n",
       "  </tbody>\n",
       "</table>\n",
       "<p>791 rows × 11 columns</p>\n",
       "</div>"
      ],
      "text/plain": [
       "       year  km_driven         owner       seller_type  seats    fuel  \\\n",
       "0    2014.0    52442.0  Second Owner  Trustmark Dealer    5.0  Petrol   \n",
       "1    2016.0    40000.0   First Owner        Individual    7.0  Petrol   \n",
       "2    2014.0   200000.0   First Owner        Individual    5.0  Diesel   \n",
       "3    2016.0    20000.0   First Owner        Individual    5.0  Petrol   \n",
       "4       NaN   140000.0           NaN        Individual    5.0  Diesel   \n",
       "..      ...        ...           ...               ...    ...     ...   \n",
       "786  2015.0    58945.0   First Owner        Individual    7.0  Diesel   \n",
       "787  2007.0   105000.0  Second Owner        Individual    7.0  Diesel   \n",
       "788  2018.0    60000.0   First Owner        Individual    5.0  Petrol   \n",
       "789  2011.0    70000.0   First Owner        Individual    5.0  Diesel   \n",
       "790  2016.0    63000.0   First Owner            Dealer    5.0  Diesel   \n",
       "\n",
       "    transmission  mileage  engine  max_power  selling_price  \n",
       "0         Manual    18.50  1198.0       86.8    7642.869337  \n",
       "1      Automatic    10.75  2694.0      163.7   25418.736919  \n",
       "2         Manual    25.10  1498.0       98.6    7348.365659  \n",
       "3         Manual    20.40  1197.0       81.8    9351.169088  \n",
       "4         Manual    25.10  1498.0       98.6    8965.363686  \n",
       "..           ...      ...     ...        ...            ...  \n",
       "786       Manual    18.49  1493.0      100.0   11901.628996  \n",
       "787       Manual    13.60  2523.0       63.0    6528.536079  \n",
       "788       Manual    17.00  1591.0      121.3    9795.730899  \n",
       "789       Manual    23.03  1396.0       69.0    7900.324147  \n",
       "790       Manual    24.30  1248.0       88.5   10878.656429  \n",
       "\n",
       "[791 rows x 11 columns]"
      ]
     },
     "execution_count": 66,
     "metadata": {},
     "output_type": "execute_result"
    }
   ],
   "source": [
    "df_new[\"selling_price\"] = pipeline_loaded.predict(df_new)\n",
    "df_new"
   ]
  },
  {
   "cell_type": "code",
   "execution_count": 67,
   "metadata": {
    "tags": []
   },
   "outputs": [
    {
     "data": {
      "image/png": "[encoded data removed]",
      "text/plain": [
       "<Figure size 2000x500 with 1 Axes>"
      ]
     },
     "metadata": {},
     "output_type": "display_data"
    }
   ],
   "source": [
    "# Plot real value of objective variable on a boxplot\n",
    "\n",
    "plt.figure(figsize=(20, 5))\n",
    "sns.boxplot(x = df_new[\"selling_price\"], showmeans = True)\n",
    "plt.title('Real value of objective variable')\n",
    "plt.grid()\n",
    "plt.show() "
   ]
  },
  {
   "cell_type": "markdown",
   "metadata": {},
   "source": [
    "##### Se puede apreciar que la gran mayoria de datos esta dentro de los rangos establecidos para el precio de los carros y el modelo no predice valores muy atipicos. Adicionalmente, el boxplot hecho muestra que da aproximadamente los mismos valores que con los datos de entrenamiento lo cual nos da un indicio bueno de que el modelo predice exitosamente los precios de los carros (cabe resaltar que este boxplot y los de arriba en el entrenamiento estan en diferentes escalas por lo cual no pareceran muy parecidos a simple vista pero si se revisan los valores estos resultan ser bastante parecidos)."
   ]
  },
  {
   "cell_type": "code",
   "execution_count": 68,
   "metadata": {
    "tags": []
   },
   "outputs": [],
   "source": [
    "# Export the data to csv to be able to show MotorAlpes\n",
    "df_new.to_csv('./data/predicciones.csv', index=False)"
   ]
  },
  {
   "cell_type": "code",
   "execution_count": 69,
   "metadata": {
    "tags": []
   },
   "outputs": [
    {
     "data": {
      "text/plain": [
       "<Axes: xlabel='selling_price', ylabel='Count'>"
      ]
     },
     "execution_count": 69,
     "metadata": {},
     "output_type": "execute_result"
    },
    {
     "data": {
      "image/png": "[encoded data removed]",
      "text/plain": [
       "<Figure size 640x480 with 1 Axes>"
      ]
     },
     "metadata": {},
     "output_type": "display_data"
    }
   ],
   "source": [
    "sns.histplot(df_new['selling_price'])"
   ]
  },
  {
   "cell_type": "markdown",
   "metadata": {},
   "source": [
    "Para el desarrollo de todo el laboratiorio, el trabajo se hizo en conjunto con todos los integrantes de manera que todos aportaron de forma equitativa en todas las partes del laboratorio."
   ]
  }
 ],
 "metadata": {
  "kernelspec": {
   "display_name": "Python 3 (ipykernel)",
   "language": "python",
   "name": "python3"
  },
  "language_info": {
   "codemirror_mode": {
    "name": "ipython",
    "version": 3
   },
   "file_extension": ".py",
   "mimetype": "text/x-python",
   "name": "python",
   "nbconvert_exporter": "python",
   "pygments_lexer": "ipython3",
   "version": "3.11.2"
  },
  "vscode": {
   "interpreter": {
    "hash": "bd385fe162c5ca0c84973b7dd5c518456272446b2b64e67c2a69f949ca7a1754"
   }
  }
 },
 "nbformat": 4,
 "nbformat_minor": 4
}
