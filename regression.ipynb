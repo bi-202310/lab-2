{
 "cells": [
  {
   "cell_type": "markdown",
   "metadata": {
    "tags": []
   },
   "source": [
    "# Laboratorio 2"
   ]
  },
  {
   "cell_type": "markdown",
   "metadata": {
    "tags": []
   },
   "source": [
    "## 1. Carga de datos\n",
    "##### Se importan todas las librerias necesarias para poder crear, entrenar y crear el modelo"
   ]
  },
  {
   "cell_type": "code",
   "execution_count": 1,
   "metadata": {
    "tags": []
   },
   "outputs": [],
   "source": [
    "import numpy as np\n",
    "import pandas as pd\n",
    "\n",
    "from joblib import dump, load\n",
    "\n",
    "import matplotlib.pyplot as plt\n",
    "import seaborn as sns\n",
    "\n",
    "from sklearn.model_selection import train_test_split\n",
    "from sklearn.linear_model import LinearRegression\n",
    "from sklearn.pipeline import Pipeline\n",
    "from sklearn.compose import ColumnTransformer\n",
    "from sklearn.preprocessing import StandardScaler\n",
    "from sklearn.preprocessing import PolynomialFeatures\n",
    "from sklearn.preprocessing import OneHotEncoder\n",
    "from sklearn.metrics import mean_absolute_error, mean_squared_error, r2_score\n",
    "from sklearn.impute import SimpleImputer\n",
    "from sklearn.linear_model import LinearRegression\n",
    "from abc import ABC, abstractmethod\n",
    "from sklearn.base import BaseEstimator, TransformerMixin\n",
    "\n",
    "import scipy.stats as stats\n",
    "\n",
    "pd.set_option('display.max_columns', None)\n",
    "pd.set_option('display.max_rows', 50)"
   ]
  },
  {
   "cell_type": "code",
   "execution_count": 2,
   "metadata": {
    "tags": []
   },
   "outputs": [],
   "source": [
    "df = pd.read_csv('./data/MotorAlpes_data.csv', index_col=False)\n",
    "df = df.iloc[:, 1:]"
   ]
  },
  {
   "cell_type": "markdown",
   "metadata": {
    "tags": []
   },
   "source": [
    "## 2. Descripción de los datos\n",
    "##### Se hace una descripcion de los datos para poder entender con que tipo de datos estamos trabajando y elementos que importantes que toque tener en cuenta "
   ]
  },
  {
   "cell_type": "code",
   "execution_count": 3,
   "metadata": {
    "tags": []
   },
   "outputs": [
    {
     "data": {
      "text/plain": [
       "(7115, 11)"
      ]
     },
     "execution_count": 3,
     "metadata": {},
     "output_type": "execute_result"
    }
   ],
   "source": [
    "df.shape"
   ]
  },
  {
   "cell_type": "code",
   "execution_count": 4,
   "metadata": {
    "tags": []
   },
   "outputs": [
    {
     "name": "stdout",
     "output_type": "stream",
     "text": [
      "<class 'pandas.core.frame.DataFrame'>\n",
      "RangeIndex: 7115 entries, 0 to 7114\n",
      "Data columns (total 11 columns):\n",
      " #   Column         Non-Null Count  Dtype  \n",
      "---  ------         --------------  -----  \n",
      " 0   year           6876 non-null   float64\n",
      " 1   km_driven      6917 non-null   float64\n",
      " 2   owner          6876 non-null   object \n",
      " 3   seller_type    7115 non-null   object \n",
      " 4   seats          7115 non-null   float64\n",
      " 5   fuel           7115 non-null   object \n",
      " 6   transmission   7115 non-null   object \n",
      " 7   mileage        6917 non-null   float64\n",
      " 8   engine         6835 non-null   float64\n",
      " 9   max_power      6847 non-null   float64\n",
      " 10  selling_price  6714 non-null   float64\n",
      "dtypes: float64(7), object(4)\n",
      "memory usage: 611.6+ KB\n"
     ]
    }
   ],
   "source": [
    "df.info()"
   ]
  },
  {
   "cell_type": "code",
   "execution_count": 5,
   "metadata": {
    "tags": []
   },
   "outputs": [
    {
     "data": {
      "text/html": [
       "<div>\n",
       "<style scoped>\n",
       "    .dataframe tbody tr th:only-of-type {\n",
       "        vertical-align: middle;\n",
       "    }\n",
       "\n",
       "    .dataframe tbody tr th {\n",
       "        vertical-align: top;\n",
       "    }\n",
       "\n",
       "    .dataframe thead th {\n",
       "        text-align: right;\n",
       "    }\n",
       "</style>\n",
       "<table border=\"1\" class=\"dataframe\">\n",
       "  <thead>\n",
       "    <tr style=\"text-align: right;\">\n",
       "      <th></th>\n",
       "      <th>year</th>\n",
       "      <th>km_driven</th>\n",
       "      <th>seats</th>\n",
       "      <th>mileage</th>\n",
       "      <th>engine</th>\n",
       "      <th>max_power</th>\n",
       "      <th>selling_price</th>\n",
       "    </tr>\n",
       "  </thead>\n",
       "  <tbody>\n",
       "    <tr>\n",
       "      <th>count</th>\n",
       "      <td>6876.000000</td>\n",
       "      <td>6.917000e+03</td>\n",
       "      <td>7115.000000</td>\n",
       "      <td>6917.000000</td>\n",
       "      <td>6835.000000</td>\n",
       "      <td>6847.000000</td>\n",
       "      <td>6714.000000</td>\n",
       "    </tr>\n",
       "    <tr>\n",
       "      <th>mean</th>\n",
       "      <td>2013.980948</td>\n",
       "      <td>6.911118e+04</td>\n",
       "      <td>5.411103</td>\n",
       "      <td>19.523473</td>\n",
       "      <td>1835.489539</td>\n",
       "      <td>141.981595</td>\n",
       "      <td>11261.208041</td>\n",
       "    </tr>\n",
       "    <tr>\n",
       "      <th>std</th>\n",
       "      <td>3.852565</td>\n",
       "      <td>5.796521e+04</td>\n",
       "      <td>0.953555</td>\n",
       "      <td>4.241574</td>\n",
       "      <td>2363.919253</td>\n",
       "      <td>274.956684</td>\n",
       "      <td>40765.694516</td>\n",
       "    </tr>\n",
       "    <tr>\n",
       "      <th>min</th>\n",
       "      <td>1994.000000</td>\n",
       "      <td>1.000000e+00</td>\n",
       "      <td>2.000000</td>\n",
       "      <td>0.000000</td>\n",
       "      <td>4.000000</td>\n",
       "      <td>1.070000</td>\n",
       "      <td>1.910000</td>\n",
       "    </tr>\n",
       "    <tr>\n",
       "      <th>25%</th>\n",
       "      <td>2012.000000</td>\n",
       "      <td>3.400000e+04</td>\n",
       "      <td>5.000000</td>\n",
       "      <td>16.800000</td>\n",
       "      <td>1197.000000</td>\n",
       "      <td>68.050000</td>\n",
       "      <td>3210.560000</td>\n",
       "    </tr>\n",
       "    <tr>\n",
       "      <th>50%</th>\n",
       "      <td>2015.000000</td>\n",
       "      <td>6.000000e+04</td>\n",
       "      <td>5.000000</td>\n",
       "      <td>19.330000</td>\n",
       "      <td>1248.000000</td>\n",
       "      <td>83.100000</td>\n",
       "      <td>5451.900000</td>\n",
       "    </tr>\n",
       "    <tr>\n",
       "      <th>75%</th>\n",
       "      <td>2017.000000</td>\n",
       "      <td>9.400000e+04</td>\n",
       "      <td>5.000000</td>\n",
       "      <td>22.320000</td>\n",
       "      <td>1597.000000</td>\n",
       "      <td>104.680000</td>\n",
       "      <td>8480.740000</td>\n",
       "    </tr>\n",
       "    <tr>\n",
       "      <th>max</th>\n",
       "      <td>2020.000000</td>\n",
       "      <td>2.360457e+06</td>\n",
       "      <td>14.000000</td>\n",
       "      <td>46.816000</td>\n",
       "      <td>19972.000000</td>\n",
       "      <td>1995.640000</td>\n",
       "      <td>598983.440000</td>\n",
       "    </tr>\n",
       "  </tbody>\n",
       "</table>\n",
       "</div>"
      ],
      "text/plain": [
       "              year     km_driven        seats      mileage        engine  \\\n",
       "count  6876.000000  6.917000e+03  7115.000000  6917.000000   6835.000000   \n",
       "mean   2013.980948  6.911118e+04     5.411103    19.523473   1835.489539   \n",
       "std       3.852565  5.796521e+04     0.953555     4.241574   2363.919253   \n",
       "min    1994.000000  1.000000e+00     2.000000     0.000000      4.000000   \n",
       "25%    2012.000000  3.400000e+04     5.000000    16.800000   1197.000000   \n",
       "50%    2015.000000  6.000000e+04     5.000000    19.330000   1248.000000   \n",
       "75%    2017.000000  9.400000e+04     5.000000    22.320000   1597.000000   \n",
       "max    2020.000000  2.360457e+06    14.000000    46.816000  19972.000000   \n",
       "\n",
       "         max_power  selling_price  \n",
       "count  6847.000000    6714.000000  \n",
       "mean    141.981595   11261.208041  \n",
       "std     274.956684   40765.694516  \n",
       "min       1.070000       1.910000  \n",
       "25%      68.050000    3210.560000  \n",
       "50%      83.100000    5451.900000  \n",
       "75%     104.680000    8480.740000  \n",
       "max    1995.640000  598983.440000  "
      ]
     },
     "execution_count": 5,
     "metadata": {},
     "output_type": "execute_result"
    }
   ],
   "source": [
    "df.describe()"
   ]
  },
  {
   "cell_type": "markdown",
   "metadata": {},
   "source": [
    "### 2.1 Completitud\n",
    "##### Revision de datos faltantes y el porcentaje que representan"
   ]
  },
  {
   "cell_type": "code",
   "execution_count": 6,
   "metadata": {
    "tags": []
   },
   "outputs": [
    {
     "data": {
      "text/plain": [
       "year             239\n",
       "km_driven        198\n",
       "owner            239\n",
       "seller_type        0\n",
       "seats              0\n",
       "fuel               0\n",
       "transmission       0\n",
       "mileage          198\n",
       "engine           280\n",
       "max_power        268\n",
       "selling_price    401\n",
       "dtype: int64"
      ]
     },
     "execution_count": 6,
     "metadata": {},
     "output_type": "execute_result"
    }
   ],
   "source": [
    "df.isnull().sum()    "
   ]
  },
  {
   "cell_type": "code",
   "execution_count": 7,
   "metadata": {
    "tags": []
   },
   "outputs": [
    {
     "data": {
      "text/plain": [
       "year             0.033591\n",
       "km_driven        0.027829\n",
       "owner            0.033591\n",
       "seller_type      0.000000\n",
       "seats            0.000000\n",
       "fuel             0.000000\n",
       "transmission     0.000000\n",
       "mileage          0.027829\n",
       "engine           0.039353\n",
       "max_power        0.037667\n",
       "selling_price    0.056360\n",
       "dtype: float64"
      ]
     },
     "execution_count": 7,
     "metadata": {},
     "output_type": "execute_result"
    }
   ],
   "source": [
    "# Show null values as a percentage of the dataframe\n",
    "df.isnull().sum() / df.shape[0]"
   ]
  },
  {
   "cell_type": "markdown",
   "metadata": {},
   "source": [
    "### 2.2 Consistencia\n",
    "##### Revision de que todos los datos que se encuentran dentro del dataframe cuamplan con las normas establecidas en el diccionario de datos"
   ]
  },
  {
   "cell_type": "code",
   "execution_count": 8,
   "metadata": {},
   "outputs": [
    {
     "name": "stdout",
     "output_type": "stream",
     "text": [
      "False\n"
     ]
    }
   ],
   "source": [
    "# check if year is between 1994 and 2020\n",
    "\n",
    "print(all(map(lambda x: x in range(1994,2021), df[\"year\"])))"
   ]
  },
  {
   "cell_type": "code",
   "execution_count": 9,
   "metadata": {},
   "outputs": [
    {
     "name": "stdout",
     "output_type": "stream",
     "text": [
      "False\n"
     ]
    }
   ],
   "source": [
    "# check if km_driven is between 1 and 2’360.457\n",
    "\n",
    "print(all(map(lambda x: x in range(1,2360458), df[\"km_driven\"])))"
   ]
  },
  {
   "cell_type": "code",
   "execution_count": 10,
   "metadata": {},
   "outputs": [
    {
     "name": "stdout",
     "output_type": "stream",
     "text": [
      "False\n"
     ]
    }
   ],
   "source": [
    "# check if owner is in ['First Owner', 'Second Owner', 'Third Owner', 'Fourth & Above Owner', 'Test Drive Car']\n",
    "\n",
    "print(all(map(lambda x: x in ['First Owner', 'Second Owner', 'Third Owner', 'Fourth & Above Owner', 'Test Drive Car'], df[\"owner\"])))"
   ]
  },
  {
   "cell_type": "code",
   "execution_count": 11,
   "metadata": {},
   "outputs": [
    {
     "name": "stdout",
     "output_type": "stream",
     "text": [
      "True\n"
     ]
    }
   ],
   "source": [
    "# check if seller_type is in ['Individual', 'Dealer', 'Trustmark Dealer']\n",
    "\n",
    "print(all(map(lambda x: x in ['Individual', 'Dealer', 'Trustmark Dealer'], df[\"seller_type\"])))"
   ]
  },
  {
   "cell_type": "code",
   "execution_count": 12,
   "metadata": {},
   "outputs": [
    {
     "name": "stdout",
     "output_type": "stream",
     "text": [
      "True\n"
     ]
    }
   ],
   "source": [
    "# check if seats is between 2 and 14\n",
    "\n",
    "print(all(map(lambda x: x in range(2,15), df[\"seats\"])))"
   ]
  },
  {
   "cell_type": "code",
   "execution_count": 13,
   "metadata": {},
   "outputs": [
    {
     "name": "stdout",
     "output_type": "stream",
     "text": [
      "True\n"
     ]
    }
   ],
   "source": [
    "# check if fuel is in ['Petrol', 'Diesel', 'CNG', 'LPG', 'Electric']\n",
    "\n",
    "print(all(map(lambda x: x in ['Petrol', 'Diesel', 'CNG', 'LPG', 'Electric'], df[\"fuel\"])))"
   ]
  },
  {
   "cell_type": "code",
   "execution_count": 14,
   "metadata": {},
   "outputs": [
    {
     "name": "stdout",
     "output_type": "stream",
     "text": [
      "True\n"
     ]
    }
   ],
   "source": [
    "# check if transmission is in ['Manual', 'Automatic']\n",
    "\n",
    "print(all(map(lambda x: x in ['Manual', 'Automatic'], df[\"transmission\"])))"
   ]
  },
  {
   "cell_type": "code",
   "execution_count": 15,
   "metadata": {
    "tags": []
   },
   "outputs": [
    {
     "name": "stdout",
     "output_type": "stream",
     "text": [
      "False\n"
     ]
    }
   ],
   "source": [
    "# check if mileage is between 0 and 46.816\n",
    "\n",
    "print(all(map(lambda x: 34.2 <= x <= 46.816, df[\"mileage\"])))"
   ]
  },
  {
   "cell_type": "code",
   "execution_count": 16,
   "metadata": {},
   "outputs": [
    {
     "name": "stdout",
     "output_type": "stream",
     "text": [
      "False\n"
     ]
    }
   ],
   "source": [
    "# check if engine is between 624 and 3604\n",
    "\n",
    "print(all(map(lambda x: x in range(624,3605), df[\"engine\"])))"
   ]
  },
  {
   "cell_type": "code",
   "execution_count": 17,
   "metadata": {
    "tags": []
   },
   "outputs": [
    {
     "name": "stdout",
     "output_type": "stream",
     "text": [
      "False\n"
     ]
    }
   ],
   "source": [
    "# check if max_power is between 34.2 and 400\n",
    "\n",
    "print(all(map(lambda x: 32.8 <= x <= 400, df[\"max_power\"])))"
   ]
  },
  {
   "cell_type": "code",
   "execution_count": 18,
   "metadata": {
    "tags": []
   },
   "outputs": [
    {
     "name": "stdout",
     "output_type": "stream",
     "text": [
      "False\n"
     ]
    }
   ],
   "source": [
    "# check if selling_price is between 363.45 and 121153.38\n",
    "\n",
    "print(all(map(lambda x: 363.45 <= x <= 121153.38, df[\"selling_price\"])))"
   ]
  },
  {
   "cell_type": "markdown",
   "metadata": {},
   "source": [
    "### 2.3 Consistencia\n",
    "##### Revisar que todos los datos sean consistentes semanticamente, es decir, los atributos sean unicos y no tengan otros nombres"
   ]
  },
  {
   "cell_type": "code",
   "execution_count": 19,
   "metadata": {},
   "outputs": [
    {
     "name": "stdout",
     "output_type": "stream",
     "text": [
      "owner [nan 'Second Owner' 'Third Owner' 'First Owner' 'Fourth & Above Owner'\n",
      " 'Test Drive Car']\n",
      "seller_type ['Individual' 'Dealer' 'Trustmark Dealer']\n",
      "fuel ['Diesel' 'Petrol' 'LPG' 'CNG']\n",
      "transmission ['Manual' 'Automatic']\n"
     ]
    }
   ],
   "source": [
    "# for every categorical variable, check if there are values that are not in the list of possible values\n",
    "\n",
    "categorical = ['owner', 'seller_type', 'fuel', 'transmission']\n",
    "\n",
    "for col in categorical:\n",
    "    print(col, df[col].unique())"
   ]
  },
  {
   "cell_type": "markdown",
   "metadata": {},
   "source": [
    "## 3. Análisis Exploratorio"
   ]
  },
  {
   "cell_type": "markdown",
   "metadata": {},
   "source": [
    "### 3.1 Preparación de los datos\n",
    "##### Se deben preparar los datos para poderlos procesar. Esto incluye agregar nuevas columnas relevantes, llenar valores vacios con alguna metrica determinada y reemplazar los valores categoricos por representaciones numericas"
   ]
  },
  {
   "cell_type": "code",
   "execution_count": 20,
   "metadata": {},
   "outputs": [],
   "source": [
    "# Set a column that specifies the age gap\n",
    "df['antiquity'] = 2020 - df['year']"
   ]
  },
  {
   "cell_type": "code",
   "execution_count": 21,
   "metadata": {
    "tags": []
   },
   "outputs": [
    {
     "name": "stderr",
     "output_type": "stream",
     "text": [
      "/var/folders/7y/s678cmw965v15n9dxxzzvrjh0000gn/T/ipykernel_37593/1869067488.py:2: FutureWarning: The default value of numeric_only in DataFrame.median is deprecated. In a future version, it will default to False. In addition, specifying 'numeric_only=None' is deprecated. Select only valid columns or specify the value of numeric_only to silence this warning.\n",
      "  df = df.fillna(df.median())\n"
     ]
    }
   ],
   "source": [
    "# Fill numerical values with the median so as not to skew the data\n",
    "df = df.fillna(df.median())"
   ]
  },
  {
   "cell_type": "code",
   "execution_count": 22,
   "metadata": {
    "tags": []
   },
   "outputs": [],
   "source": [
    "# Fill categorical values with the mode\n",
    "categorical_cols = ['owner', 'seller_type', 'fuel', 'transmission']\n",
    "for col in categorical_cols:\n",
    "    df[col] = df[col].fillna(df[col].mode()[0])"
   ]
  },
  {
   "cell_type": "code",
   "execution_count": 23,
   "metadata": {
    "tags": []
   },
   "outputs": [
    {
     "name": "stdout",
     "output_type": "stream",
     "text": [
      "<class 'pandas.core.frame.DataFrame'>\n",
      "RangeIndex: 7115 entries, 0 to 7114\n",
      "Data columns (total 12 columns):\n",
      " #   Column         Non-Null Count  Dtype  \n",
      "---  ------         --------------  -----  \n",
      " 0   year           7115 non-null   float64\n",
      " 1   km_driven      7115 non-null   float64\n",
      " 2   owner          7115 non-null   int64  \n",
      " 3   seller_type    7115 non-null   int64  \n",
      " 4   seats          7115 non-null   float64\n",
      " 5   fuel           7115 non-null   int64  \n",
      " 6   transmission   7115 non-null   int64  \n",
      " 7   mileage        7115 non-null   float64\n",
      " 8   engine         7115 non-null   float64\n",
      " 9   max_power      7115 non-null   float64\n",
      " 10  selling_price  7115 non-null   float64\n",
      " 11  antiquity      7115 non-null   float64\n",
      "dtypes: float64(8), int64(4)\n",
      "memory usage: 667.2 KB\n"
     ]
    }
   ],
   "source": [
    "# Replace all the categorical values with numbers\n",
    "df['owner'] = df['owner'].replace({'First Owner': 1, 'Second Owner': 2, 'Third Owner': 3, 'Fourth & Above Owner': 4, 'Test Drive Car': 5})\n",
    "df['seller_type'] = df['seller_type'].replace({'Individual': 1, 'Dealer': 2, 'Trustmark Dealer': 3})\n",
    "df['fuel'] = df['fuel'].replace({'Petrol': 1, 'Diesel': 2, 'CNG': 3, 'LPG': 4, 'Electric': 5})\n",
    "df['transmission'] = df['transmission'].replace({'Manual': 1, 'Automatic': 2})\n",
    "\n",
    "df.info()"
   ]
  },
  {
   "cell_type": "code",
   "execution_count": 24,
   "metadata": {
    "tags": []
   },
   "outputs": [],
   "source": [
    "# Asumimos que el experto decidio que estos eran los features mas relevantes\n",
    "features = [\"antiquity\", \"km_driven\", \"seats\", \"fuel\", \"transmission\", \"max_power\", \"selling_price\"]"
   ]
  },
  {
   "cell_type": "code",
   "execution_count": 25,
   "metadata": {},
   "outputs": [],
   "source": [
    "# Make a scaler to normalize de data\n",
    "scaler = StandardScaler()\n",
    "x = scaler.fit_transform(df[features])"
   ]
  },
  {
   "cell_type": "code",
   "execution_count": 26,
   "metadata": {},
   "outputs": [],
   "source": [
    "# Make a dataframe with the normalized data and keep the old one\n",
    "og_df = df\n",
    "df = pd.DataFrame(x, columns=features)"
   ]
  },
  {
   "cell_type": "markdown",
   "metadata": {},
   "source": [
    "### 3.2 Visualización de los datos\n",
    "##### Se visualizan los datos incialmente comparados contra el \"selling_price\" para ver tendencias y ayudar en la identificacion de features"
   ]
  },
  {
   "cell_type": "code",
   "execution_count": 27,
   "metadata": {
    "tags": []
   },
   "outputs": [],
   "source": [
    "#sns.pairplot(df)\n",
    "#plt.show()"
   ]
  },
  {
   "cell_type": "code",
   "execution_count": 28,
   "metadata": {
    "tags": []
   },
   "outputs": [
    {
     "data": {
      "text/plain": [
       "<seaborn.axisgrid.PairGrid at 0x1569f7290>"
      ]
     },
     "execution_count": 28,
     "metadata": {},
     "output_type": "execute_result"
    },
    {
     "data": {
      "image/png": "[encoded data removed]",
      "text/plain": [
       "<Figure size 2800x400 with 8 Axes>"
      ]
     },
     "metadata": {},
     "output_type": "display_data"
    },
    {
     "data": {
      "image/png": "[encoded data removed]",
      "text/plain": [
       "<Figure size 2800x400 with 8 Axes>"
      ]
     },
     "metadata": {},
     "output_type": "display_data"
    }
   ],
   "source": [
    "sns.pairplot(df, x_vars=list(df.columns), y_vars='selling_price', height=4, aspect=1, kind='reg')\n",
    "sns.pairplot(df, x_vars=list(df.columns), y_vars='selling_price', height=4, aspect=1)"
   ]
  },
  {
   "cell_type": "code",
   "execution_count": 29,
   "metadata": {
    "tags": []
   },
   "outputs": [
    {
     "data": {
      "text/html": [
       "<div>\n",
       "<style scoped>\n",
       "    .dataframe tbody tr th:only-of-type {\n",
       "        vertical-align: middle;\n",
       "    }\n",
       "\n",
       "    .dataframe tbody tr th {\n",
       "        vertical-align: top;\n",
       "    }\n",
       "\n",
       "    .dataframe thead th {\n",
       "        text-align: right;\n",
       "    }\n",
       "</style>\n",
       "<table border=\"1\" class=\"dataframe\">\n",
       "  <thead>\n",
       "    <tr style=\"text-align: right;\">\n",
       "      <th></th>\n",
       "      <th>antiquity</th>\n",
       "      <th>km_driven</th>\n",
       "      <th>seats</th>\n",
       "      <th>fuel</th>\n",
       "      <th>transmission</th>\n",
       "      <th>max_power</th>\n",
       "      <th>selling_price</th>\n",
       "    </tr>\n",
       "  </thead>\n",
       "  <tbody>\n",
       "    <tr>\n",
       "      <th>antiquity</th>\n",
       "      <td>1.000000</td>\n",
       "      <td>0.412650</td>\n",
       "      <td>0.013623</td>\n",
       "      <td>-0.018283</td>\n",
       "      <td>-0.239609</td>\n",
       "      <td>-0.053672</td>\n",
       "      <td>-0.102322</td>\n",
       "    </tr>\n",
       "    <tr>\n",
       "      <th>km_driven</th>\n",
       "      <td>0.412650</td>\n",
       "      <td>1.000000</td>\n",
       "      <td>0.224160</td>\n",
       "      <td>0.253972</td>\n",
       "      <td>-0.192115</td>\n",
       "      <td>-0.007598</td>\n",
       "      <td>-0.057280</td>\n",
       "    </tr>\n",
       "    <tr>\n",
       "      <th>seats</th>\n",
       "      <td>0.013623</td>\n",
       "      <td>0.224160</td>\n",
       "      <td>1.000000</td>\n",
       "      <td>0.305467</td>\n",
       "      <td>-0.073186</td>\n",
       "      <td>0.022073</td>\n",
       "      <td>0.013726</td>\n",
       "    </tr>\n",
       "    <tr>\n",
       "      <th>fuel</th>\n",
       "      <td>-0.018283</td>\n",
       "      <td>0.253972</td>\n",
       "      <td>0.305467</td>\n",
       "      <td>1.000000</td>\n",
       "      <td>-0.041470</td>\n",
       "      <td>0.037757</td>\n",
       "      <td>0.026568</td>\n",
       "    </tr>\n",
       "    <tr>\n",
       "      <th>transmission</th>\n",
       "      <td>-0.239609</td>\n",
       "      <td>-0.192115</td>\n",
       "      <td>-0.073186</td>\n",
       "      <td>-0.041470</td>\n",
       "      <td>1.000000</td>\n",
       "      <td>0.072900</td>\n",
       "      <td>0.149686</td>\n",
       "    </tr>\n",
       "    <tr>\n",
       "      <th>max_power</th>\n",
       "      <td>-0.053672</td>\n",
       "      <td>-0.007598</td>\n",
       "      <td>0.022073</td>\n",
       "      <td>0.037757</td>\n",
       "      <td>0.072900</td>\n",
       "      <td>1.000000</td>\n",
       "      <td>0.015804</td>\n",
       "    </tr>\n",
       "    <tr>\n",
       "      <th>selling_price</th>\n",
       "      <td>-0.102322</td>\n",
       "      <td>-0.057280</td>\n",
       "      <td>0.013726</td>\n",
       "      <td>0.026568</td>\n",
       "      <td>0.149686</td>\n",
       "      <td>0.015804</td>\n",
       "      <td>1.000000</td>\n",
       "    </tr>\n",
       "  </tbody>\n",
       "</table>\n",
       "</div>"
      ],
      "text/plain": [
       "               antiquity  km_driven     seats      fuel  transmission  \\\n",
       "antiquity       1.000000   0.412650  0.013623 -0.018283     -0.239609   \n",
       "km_driven       0.412650   1.000000  0.224160  0.253972     -0.192115   \n",
       "seats           0.013623   0.224160  1.000000  0.305467     -0.073186   \n",
       "fuel           -0.018283   0.253972  0.305467  1.000000     -0.041470   \n",
       "transmission   -0.239609  -0.192115 -0.073186 -0.041470      1.000000   \n",
       "max_power      -0.053672  -0.007598  0.022073  0.037757      0.072900   \n",
       "selling_price  -0.102322  -0.057280  0.013726  0.026568      0.149686   \n",
       "\n",
       "               max_power  selling_price  \n",
       "antiquity      -0.053672      -0.102322  \n",
       "km_driven      -0.007598      -0.057280  \n",
       "seats           0.022073       0.013726  \n",
       "fuel            0.037757       0.026568  \n",
       "transmission    0.072900       0.149686  \n",
       "max_power       1.000000       0.015804  \n",
       "selling_price   0.015804       1.000000  "
      ]
     },
     "execution_count": 29,
     "metadata": {},
     "output_type": "execute_result"
    }
   ],
   "source": [
    "df[df.columns].corr()"
   ]
  },
  {
   "cell_type": "code",
   "execution_count": 30,
   "metadata": {},
   "outputs": [
    {
     "data": {
      "text/html": [
       "<div>\n",
       "<style scoped>\n",
       "    .dataframe tbody tr th:only-of-type {\n",
       "        vertical-align: middle;\n",
       "    }\n",
       "\n",
       "    .dataframe tbody tr th {\n",
       "        vertical-align: top;\n",
       "    }\n",
       "\n",
       "    .dataframe thead th {\n",
       "        text-align: right;\n",
       "    }\n",
       "</style>\n",
       "<table border=\"1\" class=\"dataframe\">\n",
       "  <thead>\n",
       "    <tr style=\"text-align: right;\">\n",
       "      <th></th>\n",
       "      <th>antiquity</th>\n",
       "      <th>km_driven</th>\n",
       "      <th>seats</th>\n",
       "      <th>fuel</th>\n",
       "      <th>transmission</th>\n",
       "      <th>max_power</th>\n",
       "      <th>selling_price</th>\n",
       "    </tr>\n",
       "  </thead>\n",
       "  <tbody>\n",
       "    <tr>\n",
       "      <th>antiquity</th>\n",
       "      <td>1.000000</td>\n",
       "      <td>0.412650</td>\n",
       "      <td>0.013623</td>\n",
       "      <td>-0.018283</td>\n",
       "      <td>-0.239609</td>\n",
       "      <td>-0.053672</td>\n",
       "      <td>-0.102322</td>\n",
       "    </tr>\n",
       "    <tr>\n",
       "      <th>km_driven</th>\n",
       "      <td>0.412650</td>\n",
       "      <td>1.000000</td>\n",
       "      <td>0.224160</td>\n",
       "      <td>0.253972</td>\n",
       "      <td>-0.192115</td>\n",
       "      <td>-0.007598</td>\n",
       "      <td>-0.057280</td>\n",
       "    </tr>\n",
       "    <tr>\n",
       "      <th>seats</th>\n",
       "      <td>0.013623</td>\n",
       "      <td>0.224160</td>\n",
       "      <td>1.000000</td>\n",
       "      <td>0.305467</td>\n",
       "      <td>-0.073186</td>\n",
       "      <td>0.022073</td>\n",
       "      <td>0.013726</td>\n",
       "    </tr>\n",
       "    <tr>\n",
       "      <th>fuel</th>\n",
       "      <td>-0.018283</td>\n",
       "      <td>0.253972</td>\n",
       "      <td>0.305467</td>\n",
       "      <td>1.000000</td>\n",
       "      <td>-0.041470</td>\n",
       "      <td>0.037757</td>\n",
       "      <td>0.026568</td>\n",
       "    </tr>\n",
       "    <tr>\n",
       "      <th>transmission</th>\n",
       "      <td>-0.239609</td>\n",
       "      <td>-0.192115</td>\n",
       "      <td>-0.073186</td>\n",
       "      <td>-0.041470</td>\n",
       "      <td>1.000000</td>\n",
       "      <td>0.072900</td>\n",
       "      <td>0.149686</td>\n",
       "    </tr>\n",
       "    <tr>\n",
       "      <th>max_power</th>\n",
       "      <td>-0.053672</td>\n",
       "      <td>-0.007598</td>\n",
       "      <td>0.022073</td>\n",
       "      <td>0.037757</td>\n",
       "      <td>0.072900</td>\n",
       "      <td>1.000000</td>\n",
       "      <td>0.015804</td>\n",
       "    </tr>\n",
       "    <tr>\n",
       "      <th>selling_price</th>\n",
       "      <td>-0.102322</td>\n",
       "      <td>-0.057280</td>\n",
       "      <td>0.013726</td>\n",
       "      <td>0.026568</td>\n",
       "      <td>0.149686</td>\n",
       "      <td>0.015804</td>\n",
       "      <td>1.000000</td>\n",
       "    </tr>\n",
       "  </tbody>\n",
       "</table>\n",
       "</div>"
      ],
      "text/plain": [
       "               antiquity  km_driven     seats      fuel  transmission  \\\n",
       "antiquity       1.000000   0.412650  0.013623 -0.018283     -0.239609   \n",
       "km_driven       0.412650   1.000000  0.224160  0.253972     -0.192115   \n",
       "seats           0.013623   0.224160  1.000000  0.305467     -0.073186   \n",
       "fuel           -0.018283   0.253972  0.305467  1.000000     -0.041470   \n",
       "transmission   -0.239609  -0.192115 -0.073186 -0.041470      1.000000   \n",
       "max_power      -0.053672  -0.007598  0.022073  0.037757      0.072900   \n",
       "selling_price  -0.102322  -0.057280  0.013726  0.026568      0.149686   \n",
       "\n",
       "               max_power  selling_price  \n",
       "antiquity      -0.053672      -0.102322  \n",
       "km_driven      -0.007598      -0.057280  \n",
       "seats           0.022073       0.013726  \n",
       "fuel            0.037757       0.026568  \n",
       "transmission    0.072900       0.149686  \n",
       "max_power       1.000000       0.015804  \n",
       "selling_price   0.015804       1.000000  "
      ]
     },
     "execution_count": 30,
     "metadata": {},
     "output_type": "execute_result"
    }
   ],
   "source": [
    "# Correlation between features chosen\n",
    "df[features].corr()"
   ]
  },
  {
   "cell_type": "markdown",
   "metadata": {},
   "source": [
    "## 4. Modelamiento\n",
    "##### Se procede a relalizar el modelo de acuerdo al analisis exploratorio y atributos escogidos como mas relevantes para entrenar el modelo"
   ]
  },
  {
   "cell_type": "code",
   "execution_count": 31,
   "metadata": {
    "tags": []
   },
   "outputs": [],
   "source": [
    "x_train, x_test, y_train, y_test = train_test_split(df[features], df['selling_price'], test_size = 0.3, random_state = 1)"
   ]
  },
  {
   "cell_type": "code",
   "execution_count": 32,
   "metadata": {
    "tags": []
   },
   "outputs": [
    {
     "data": {
      "text/html": [
       "<div>\n",
       "<style scoped>\n",
       "    .dataframe tbody tr th:only-of-type {\n",
       "        vertical-align: middle;\n",
       "    }\n",
       "\n",
       "    .dataframe tbody tr th {\n",
       "        vertical-align: top;\n",
       "    }\n",
       "\n",
       "    .dataframe thead th {\n",
       "        text-align: right;\n",
       "    }\n",
       "</style>\n",
       "<table border=\"1\" class=\"dataframe\">\n",
       "  <thead>\n",
       "    <tr style=\"text-align: right;\">\n",
       "      <th></th>\n",
       "      <th>antiquity</th>\n",
       "      <th>km_driven</th>\n",
       "      <th>seats</th>\n",
       "      <th>fuel</th>\n",
       "      <th>transmission</th>\n",
       "      <th>max_power</th>\n",
       "      <th>selling_price</th>\n",
       "    </tr>\n",
       "  </thead>\n",
       "  <tbody>\n",
       "    <tr>\n",
       "      <th>1839</th>\n",
       "      <td>1.850249</td>\n",
       "      <td>0.894590</td>\n",
       "      <td>1.666405</td>\n",
       "      <td>0.809492</td>\n",
       "      <td>-0.392073</td>\n",
       "      <td>-0.284371</td>\n",
       "      <td>-0.138362</td>\n",
       "    </tr>\n",
       "    <tr>\n",
       "      <th>1019</th>\n",
       "      <td>0.267753</td>\n",
       "      <td>1.856659</td>\n",
       "      <td>-0.431157</td>\n",
       "      <td>0.809492</td>\n",
       "      <td>-0.392073</td>\n",
       "      <td>-0.262144</td>\n",
       "      <td>-0.214809</td>\n",
       "    </tr>\n",
       "    <tr>\n",
       "      <th>6009</th>\n",
       "      <td>-0.787244</td>\n",
       "      <td>-1.117007</td>\n",
       "      <td>-0.431157</td>\n",
       "      <td>-1.060487</td>\n",
       "      <td>-0.392073</td>\n",
       "      <td>-0.320305</td>\n",
       "      <td>-0.188817</td>\n",
       "    </tr>\n",
       "    <tr>\n",
       "      <th>1891</th>\n",
       "      <td>0.531502</td>\n",
       "      <td>-0.364845</td>\n",
       "      <td>-0.431157</td>\n",
       "      <td>-1.060487</td>\n",
       "      <td>-0.392073</td>\n",
       "      <td>-0.269183</td>\n",
       "      <td>-0.198908</td>\n",
       "    </tr>\n",
       "    <tr>\n",
       "      <th>3477</th>\n",
       "      <td>0.531502</td>\n",
       "      <td>1.052020</td>\n",
       "      <td>1.666405</td>\n",
       "      <td>0.809492</td>\n",
       "      <td>-0.392073</td>\n",
       "      <td>0.000875</td>\n",
       "      <td>-0.094022</td>\n",
       "    </tr>\n",
       "    <tr>\n",
       "      <th>...</th>\n",
       "      <td>...</td>\n",
       "      <td>...</td>\n",
       "      <td>...</td>\n",
       "      <td>...</td>\n",
       "      <td>...</td>\n",
       "      <td>...</td>\n",
       "      <td>...</td>\n",
       "    </tr>\n",
       "    <tr>\n",
       "      <th>905</th>\n",
       "      <td>0.267753</td>\n",
       "      <td>0.019982</td>\n",
       "      <td>-0.431157</td>\n",
       "      <td>-1.060487</td>\n",
       "      <td>-0.392073</td>\n",
       "      <td>-0.265664</td>\n",
       "      <td>-0.181172</td>\n",
       "    </tr>\n",
       "    <tr>\n",
       "      <th>5192</th>\n",
       "      <td>-0.523495</td>\n",
       "      <td>-0.644719</td>\n",
       "      <td>-0.431157</td>\n",
       "      <td>0.809492</td>\n",
       "      <td>-0.392073</td>\n",
       "      <td>-0.189907</td>\n",
       "      <td>-0.064973</td>\n",
       "    </tr>\n",
       "    <tr>\n",
       "      <th>3980</th>\n",
       "      <td>-1.314743</td>\n",
       "      <td>-0.504782</td>\n",
       "      <td>-0.431157</td>\n",
       "      <td>0.809492</td>\n",
       "      <td>-0.392073</td>\n",
       "      <td>-0.155084</td>\n",
       "      <td>0.090980</td>\n",
       "    </tr>\n",
       "    <tr>\n",
       "      <th>235</th>\n",
       "      <td>0.531502</td>\n",
       "      <td>2.171517</td>\n",
       "      <td>-0.431157</td>\n",
       "      <td>0.809492</td>\n",
       "      <td>-0.392073</td>\n",
       "      <td>-0.243992</td>\n",
       "      <td>-0.178114</td>\n",
       "    </tr>\n",
       "    <tr>\n",
       "      <th>5157</th>\n",
       "      <td>-0.787244</td>\n",
       "      <td>-0.329861</td>\n",
       "      <td>-0.431157</td>\n",
       "      <td>0.809492</td>\n",
       "      <td>-0.392073</td>\n",
       "      <td>-0.155084</td>\n",
       "      <td>0.045111</td>\n",
       "    </tr>\n",
       "  </tbody>\n",
       "</table>\n",
       "<p>4980 rows × 7 columns</p>\n",
       "</div>"
      ],
      "text/plain": [
       "      antiquity  km_driven     seats      fuel  transmission  max_power  \\\n",
       "1839   1.850249   0.894590  1.666405  0.809492     -0.392073  -0.284371   \n",
       "1019   0.267753   1.856659 -0.431157  0.809492     -0.392073  -0.262144   \n",
       "6009  -0.787244  -1.117007 -0.431157 -1.060487     -0.392073  -0.320305   \n",
       "1891   0.531502  -0.364845 -0.431157 -1.060487     -0.392073  -0.269183   \n",
       "3477   0.531502   1.052020  1.666405  0.809492     -0.392073   0.000875   \n",
       "...         ...        ...       ...       ...           ...        ...   \n",
       "905    0.267753   0.019982 -0.431157 -1.060487     -0.392073  -0.265664   \n",
       "5192  -0.523495  -0.644719 -0.431157  0.809492     -0.392073  -0.189907   \n",
       "3980  -1.314743  -0.504782 -0.431157  0.809492     -0.392073  -0.155084   \n",
       "235    0.531502   2.171517 -0.431157  0.809492     -0.392073  -0.243992   \n",
       "5157  -0.787244  -0.329861 -0.431157  0.809492     -0.392073  -0.155084   \n",
       "\n",
       "      selling_price  \n",
       "1839      -0.138362  \n",
       "1019      -0.214809  \n",
       "6009      -0.188817  \n",
       "1891      -0.198908  \n",
       "3477      -0.094022  \n",
       "...             ...  \n",
       "905       -0.181172  \n",
       "5192      -0.064973  \n",
       "3980       0.090980  \n",
       "235       -0.178114  \n",
       "5157       0.045111  \n",
       "\n",
       "[4980 rows x 7 columns]"
      ]
     },
     "execution_count": 32,
     "metadata": {},
     "output_type": "execute_result"
    }
   ],
   "source": [
    "x_train"
   ]
  },
  {
   "cell_type": "code",
   "execution_count": 33,
   "metadata": {
    "tags": []
   },
   "outputs": [
    {
     "data": {
      "text/html": [
       "<div>\n",
       "<style scoped>\n",
       "    .dataframe tbody tr th:only-of-type {\n",
       "        vertical-align: middle;\n",
       "    }\n",
       "\n",
       "    .dataframe tbody tr th {\n",
       "        vertical-align: top;\n",
       "    }\n",
       "\n",
       "    .dataframe thead th {\n",
       "        text-align: right;\n",
       "    }\n",
       "</style>\n",
       "<table border=\"1\" class=\"dataframe\">\n",
       "  <thead>\n",
       "    <tr style=\"text-align: right;\">\n",
       "      <th></th>\n",
       "      <th>antiquity</th>\n",
       "      <th>km_driven</th>\n",
       "      <th>seats</th>\n",
       "      <th>fuel</th>\n",
       "      <th>transmission</th>\n",
       "      <th>max_power</th>\n",
       "      <th>selling_price</th>\n",
       "    </tr>\n",
       "  </thead>\n",
       "  <tbody>\n",
       "    <tr>\n",
       "      <th>5930</th>\n",
       "      <td>0.531502</td>\n",
       "      <td>1.349386</td>\n",
       "      <td>-0.431157</td>\n",
       "      <td>0.809492</td>\n",
       "      <td>-0.392073</td>\n",
       "      <td>-0.049802</td>\n",
       "      <td>-0.133775</td>\n",
       "    </tr>\n",
       "    <tr>\n",
       "      <th>2441</th>\n",
       "      <td>-0.523495</td>\n",
       "      <td>-0.644719</td>\n",
       "      <td>-0.431157</td>\n",
       "      <td>-1.060487</td>\n",
       "      <td>-0.392073</td>\n",
       "      <td>-0.214727</td>\n",
       "      <td>-0.123072</td>\n",
       "    </tr>\n",
       "    <tr>\n",
       "      <th>5028</th>\n",
       "      <td>0.004004</td>\n",
       "      <td>-0.329861</td>\n",
       "      <td>1.666405</td>\n",
       "      <td>0.809492</td>\n",
       "      <td>-0.392073</td>\n",
       "      <td>0.000875</td>\n",
       "      <td>-0.046625</td>\n",
       "    </tr>\n",
       "    <tr>\n",
       "      <th>1564</th>\n",
       "      <td>-1.050994</td>\n",
       "      <td>-1.117007</td>\n",
       "      <td>-0.431157</td>\n",
       "      <td>-1.060487</td>\n",
       "      <td>-0.392073</td>\n",
       "      <td>-0.214727</td>\n",
       "      <td>-0.107783</td>\n",
       "    </tr>\n",
       "    <tr>\n",
       "      <th>5213</th>\n",
       "      <td>-0.523495</td>\n",
       "      <td>0.894590</td>\n",
       "      <td>1.666405</td>\n",
       "      <td>0.809492</td>\n",
       "      <td>-0.392073</td>\n",
       "      <td>-0.189907</td>\n",
       "      <td>-0.034394</td>\n",
       "    </tr>\n",
       "    <tr>\n",
       "      <th>...</th>\n",
       "      <td>...</td>\n",
       "      <td>...</td>\n",
       "      <td>...</td>\n",
       "      <td>...</td>\n",
       "      <td>...</td>\n",
       "      <td>...</td>\n",
       "      <td>...</td>\n",
       "    </tr>\n",
       "    <tr>\n",
       "      <th>5477</th>\n",
       "      <td>0.531502</td>\n",
       "      <td>0.492271</td>\n",
       "      <td>-0.431157</td>\n",
       "      <td>4.549451</td>\n",
       "      <td>-0.392073</td>\n",
       "      <td>-0.265478</td>\n",
       "      <td>-0.138362</td>\n",
       "    </tr>\n",
       "    <tr>\n",
       "      <th>643</th>\n",
       "      <td>0.004004</td>\n",
       "      <td>-0.154939</td>\n",
       "      <td>-0.431157</td>\n",
       "      <td>0.809492</td>\n",
       "      <td>-0.392073</td>\n",
       "      <td>-0.188795</td>\n",
       "      <td>-0.168941</td>\n",
       "    </tr>\n",
       "    <tr>\n",
       "      <th>6643</th>\n",
       "      <td>0.795251</td>\n",
       "      <td>0.492271</td>\n",
       "      <td>-0.431157</td>\n",
       "      <td>0.809492</td>\n",
       "      <td>-0.392073</td>\n",
       "      <td>-0.243622</td>\n",
       "      <td>-0.161296</td>\n",
       "    </tr>\n",
       "    <tr>\n",
       "      <th>2188</th>\n",
       "      <td>-1.314743</td>\n",
       "      <td>-1.029547</td>\n",
       "      <td>-0.431157</td>\n",
       "      <td>-1.060487</td>\n",
       "      <td>-0.392073</td>\n",
       "      <td>-0.269368</td>\n",
       "      <td>-0.153957</td>\n",
       "    </tr>\n",
       "    <tr>\n",
       "      <th>4966</th>\n",
       "      <td>3.696494</td>\n",
       "      <td>1.944119</td>\n",
       "      <td>-0.431157</td>\n",
       "      <td>-1.060487</td>\n",
       "      <td>-0.392073</td>\n",
       "      <td>-0.295485</td>\n",
       "      <td>-0.260677</td>\n",
       "    </tr>\n",
       "  </tbody>\n",
       "</table>\n",
       "<p>2135 rows × 7 columns</p>\n",
       "</div>"
      ],
      "text/plain": [
       "      antiquity  km_driven     seats      fuel  transmission  max_power  \\\n",
       "5930   0.531502   1.349386 -0.431157  0.809492     -0.392073  -0.049802   \n",
       "2441  -0.523495  -0.644719 -0.431157 -1.060487     -0.392073  -0.214727   \n",
       "5028   0.004004  -0.329861  1.666405  0.809492     -0.392073   0.000875   \n",
       "1564  -1.050994  -1.117007 -0.431157 -1.060487     -0.392073  -0.214727   \n",
       "5213  -0.523495   0.894590  1.666405  0.809492     -0.392073  -0.189907   \n",
       "...         ...        ...       ...       ...           ...        ...   \n",
       "5477   0.531502   0.492271 -0.431157  4.549451     -0.392073  -0.265478   \n",
       "643    0.004004  -0.154939 -0.431157  0.809492     -0.392073  -0.188795   \n",
       "6643   0.795251   0.492271 -0.431157  0.809492     -0.392073  -0.243622   \n",
       "2188  -1.314743  -1.029547 -0.431157 -1.060487     -0.392073  -0.269368   \n",
       "4966   3.696494   1.944119 -0.431157 -1.060487     -0.392073  -0.295485   \n",
       "\n",
       "      selling_price  \n",
       "5930      -0.133775  \n",
       "2441      -0.123072  \n",
       "5028      -0.046625  \n",
       "1564      -0.107783  \n",
       "5213      -0.034394  \n",
       "...             ...  \n",
       "5477      -0.138362  \n",
       "643       -0.168941  \n",
       "6643      -0.161296  \n",
       "2188      -0.153957  \n",
       "4966      -0.260677  \n",
       "\n",
       "[2135 rows x 7 columns]"
      ]
     },
     "execution_count": 33,
     "metadata": {},
     "output_type": "execute_result"
    }
   ],
   "source": [
    "x_test"
   ]
  },
  {
   "cell_type": "code",
   "execution_count": 34,
   "metadata": {
    "tags": []
   },
   "outputs": [
    {
     "data": {
      "text/plain": [
       "1839   -0.138362\n",
       "1019   -0.214809\n",
       "6009   -0.188817\n",
       "1891   -0.198908\n",
       "3477   -0.094022\n",
       "          ...   \n",
       "905    -0.181172\n",
       "5192   -0.064973\n",
       "3980    0.090980\n",
       "235    -0.178114\n",
       "5157    0.045111\n",
       "Name: selling_price, Length: 4980, dtype: float64"
      ]
     },
     "execution_count": 34,
     "metadata": {},
     "output_type": "execute_result"
    }
   ],
   "source": [
    "y_train"
   ]
  },
  {
   "cell_type": "code",
   "execution_count": 35,
   "metadata": {
    "tags": []
   },
   "outputs": [
    {
     "data": {
      "text/plain": [
       "5930   -0.133775\n",
       "2441   -0.123072\n",
       "5028   -0.046625\n",
       "1564   -0.107783\n",
       "5213   -0.034394\n",
       "          ...   \n",
       "5477   -0.138362\n",
       "643    -0.168941\n",
       "6643   -0.161296\n",
       "2188   -0.153957\n",
       "4966   -0.260677\n",
       "Name: selling_price, Length: 2135, dtype: float64"
      ]
     },
     "execution_count": 35,
     "metadata": {},
     "output_type": "execute_result"
    }
   ],
   "source": [
    "y_test"
   ]
  },
  {
   "cell_type": "code",
   "execution_count": 36,
   "metadata": {
    "tags": []
   },
   "outputs": [
    {
     "data": {
      "text/plain": [
       "((4980, 7), (4980,))"
      ]
     },
     "execution_count": 36,
     "metadata": {},
     "output_type": "execute_result"
    }
   ],
   "source": [
    "x_train.shape, y_train.shape"
   ]
  },
  {
   "cell_type": "code",
   "execution_count": 37,
   "metadata": {},
   "outputs": [
    {
     "data": {
      "text/plain": [
       "((2135, 7), (2135,))"
      ]
     },
     "execution_count": 37,
     "metadata": {},
     "output_type": "execute_result"
    }
   ],
   "source": [
    "x_test.shape, y_test.shape"
   ]
  },
  {
   "cell_type": "markdown",
   "metadata": {},
   "source": [
    "### 4.1. Regresion\n",
    "##### Se procede a realizar una regresion linear para tratar de predecir el \"selling_price\" de acuerdo con los atributos escogidos"
   ]
  },
  {
   "cell_type": "code",
   "execution_count": 38,
   "metadata": {
    "tags": []
   },
   "outputs": [],
   "source": [
    "regression = LinearRegression()"
   ]
  },
  {
   "cell_type": "code",
   "execution_count": 39,
   "metadata": {
    "tags": []
   },
   "outputs": [
    {
     "data": {
      "text/html": [
       "<style>#sk-container-id-1 {color: black;background-color: white;}#sk-container-id-1 pre{padding: 0;}#sk-container-id-1 div.sk-toggleable {background-color: white;}#sk-container-id-1 label.sk-toggleable__label {cursor: pointer;display: block;width: 100%;margin-bottom: 0;padding: 0.3em;box-sizing: border-box;text-align: center;}#sk-container-id-1 label.sk-toggleable__label-arrow:before {content: \"▸\";float: left;margin-right: 0.25em;color: #696969;}#sk-container-id-1 label.sk-toggleable__label-arrow:hover:before {color: black;}#sk-container-id-1 div.sk-estimator:hover label.sk-toggleable__label-arrow:before {color: black;}#sk-container-id-1 div.sk-toggleable__content {max-height: 0;max-width: 0;overflow: hidden;text-align: left;background-color: #f0f8ff;}#sk-container-id-1 div.sk-toggleable__content pre {margin: 0.2em;color: black;border-radius: 0.25em;background-color: #f0f8ff;}#sk-container-id-1 input.sk-toggleable__control:checked~div.sk-toggleable__content {max-height: 200px;max-width: 100%;overflow: auto;}#sk-container-id-1 input.sk-toggleable__control:checked~label.sk-toggleable__label-arrow:before {content: \"▾\";}#sk-container-id-1 div.sk-estimator input.sk-toggleable__control:checked~label.sk-toggleable__label {background-color: #d4ebff;}#sk-container-id-1 div.sk-label input.sk-toggleable__control:checked~label.sk-toggleable__label {background-color: #d4ebff;}#sk-container-id-1 input.sk-hidden--visually {border: 0;clip: rect(1px 1px 1px 1px);clip: rect(1px, 1px, 1px, 1px);height: 1px;margin: -1px;overflow: hidden;padding: 0;position: absolute;width: 1px;}#sk-container-id-1 div.sk-estimator {font-family: monospace;background-color: #f0f8ff;border: 1px dotted black;border-radius: 0.25em;box-sizing: border-box;margin-bottom: 0.5em;}#sk-container-id-1 div.sk-estimator:hover {background-color: #d4ebff;}#sk-container-id-1 div.sk-parallel-item::after {content: \"\";width: 100%;border-bottom: 1px solid gray;flex-grow: 1;}#sk-container-id-1 div.sk-label:hover label.sk-toggleable__label {background-color: #d4ebff;}#sk-container-id-1 div.sk-serial::before {content: \"\";position: absolute;border-left: 1px solid gray;box-sizing: border-box;top: 0;bottom: 0;left: 50%;z-index: 0;}#sk-container-id-1 div.sk-serial {display: flex;flex-direction: column;align-items: center;background-color: white;padding-right: 0.2em;padding-left: 0.2em;position: relative;}#sk-container-id-1 div.sk-item {position: relative;z-index: 1;}#sk-container-id-1 div.sk-parallel {display: flex;align-items: stretch;justify-content: center;background-color: white;position: relative;}#sk-container-id-1 div.sk-item::before, #sk-container-id-1 div.sk-parallel-item::before {content: \"\";position: absolute;border-left: 1px solid gray;box-sizing: border-box;top: 0;bottom: 0;left: 50%;z-index: -1;}#sk-container-id-1 div.sk-parallel-item {display: flex;flex-direction: column;z-index: 1;position: relative;background-color: white;}#sk-container-id-1 div.sk-parallel-item:first-child::after {align-self: flex-end;width: 50%;}#sk-container-id-1 div.sk-parallel-item:last-child::after {align-self: flex-start;width: 50%;}#sk-container-id-1 div.sk-parallel-item:only-child::after {width: 0;}#sk-container-id-1 div.sk-dashed-wrapped {border: 1px dashed gray;margin: 0 0.4em 0.5em 0.4em;box-sizing: border-box;padding-bottom: 0.4em;background-color: white;}#sk-container-id-1 div.sk-label label {font-family: monospace;font-weight: bold;display: inline-block;line-height: 1.2em;}#sk-container-id-1 div.sk-label-container {text-align: center;}#sk-container-id-1 div.sk-container {/* jupyter's `normalize.less` sets `[hidden] { display: none; }` but bootstrap.min.css set `[hidden] { display: none !important; }` so we also need the `!important` here to be able to override the default hidden behavior on the sphinx rendered scikit-learn.org. See: https://github.com/scikit-learn/scikit-learn/issues/21755 */display: inline-block !important;position: relative;}#sk-container-id-1 div.sk-text-repr-fallback {display: none;}</style><div id=\"sk-container-id-1\" class=\"sk-top-container\"><div class=\"sk-text-repr-fallback\"><pre>LinearRegression()</pre><b>In a Jupyter environment, please rerun this cell to show the HTML representation or trust the notebook. <br />On GitHub, the HTML representation is unable to render, please try loading this page with nbviewer.org.</b></div><div class=\"sk-container\" hidden><div class=\"sk-item\"><div class=\"sk-estimator sk-toggleable\"><input class=\"sk-toggleable__control sk-hidden--visually\" id=\"sk-estimator-id-1\" type=\"checkbox\" checked><label for=\"sk-estimator-id-1\" class=\"sk-toggleable__label sk-toggleable__label-arrow\">LinearRegression</label><div class=\"sk-toggleable__content\"><pre>LinearRegression()</pre></div></div></div></div></div>"
      ],
      "text/plain": [
       "LinearRegression()"
      ]
     },
     "execution_count": 39,
     "metadata": {},
     "output_type": "execute_result"
    }
   ],
   "source": [
    "regression.fit(x_train, y_train)"
   ]
  },
  {
   "cell_type": "code",
   "execution_count": 40,
   "metadata": {
    "tags": []
   },
   "outputs": [
    {
     "data": {
      "text/plain": [
       "-6.600080725005508e-18"
      ]
     },
     "execution_count": 40,
     "metadata": {},
     "output_type": "execute_result"
    }
   ],
   "source": [
    "regression.intercept_"
   ]
  },
  {
   "cell_type": "code",
   "execution_count": 41,
   "metadata": {
    "tags": []
   },
   "outputs": [
    {
     "data": {
      "text/html": [
       "<div>\n",
       "<style scoped>\n",
       "    .dataframe tbody tr th:only-of-type {\n",
       "        vertical-align: middle;\n",
       "    }\n",
       "\n",
       "    .dataframe tbody tr th {\n",
       "        vertical-align: top;\n",
       "    }\n",
       "\n",
       "    .dataframe thead th {\n",
       "        text-align: right;\n",
       "    }\n",
       "</style>\n",
       "<table border=\"1\" class=\"dataframe\">\n",
       "  <thead>\n",
       "    <tr style=\"text-align: right;\">\n",
       "      <th></th>\n",
       "      <th>columns</th>\n",
       "      <th>coef</th>\n",
       "    </tr>\n",
       "  </thead>\n",
       "  <tbody>\n",
       "    <tr>\n",
       "      <th>0</th>\n",
       "      <td>antiquity</td>\n",
       "      <td>-2.223957e-16</td>\n",
       "    </tr>\n",
       "    <tr>\n",
       "      <th>1</th>\n",
       "      <td>km_driven</td>\n",
       "      <td>-3.053113e-16</td>\n",
       "    </tr>\n",
       "    <tr>\n",
       "      <th>2</th>\n",
       "      <td>seats</td>\n",
       "      <td>1.408480e-16</td>\n",
       "    </tr>\n",
       "    <tr>\n",
       "      <th>3</th>\n",
       "      <td>fuel</td>\n",
       "      <td>5.055008e-16</td>\n",
       "    </tr>\n",
       "    <tr>\n",
       "      <th>4</th>\n",
       "      <td>transmission</td>\n",
       "      <td>3.950583e-16</td>\n",
       "    </tr>\n",
       "    <tr>\n",
       "      <th>5</th>\n",
       "      <td>max_power</td>\n",
       "      <td>4.205717e-16</td>\n",
       "    </tr>\n",
       "    <tr>\n",
       "      <th>6</th>\n",
       "      <td>selling_price</td>\n",
       "      <td>1.000000e+00</td>\n",
       "    </tr>\n",
       "  </tbody>\n",
       "</table>\n",
       "</div>"
      ],
      "text/plain": [
       "         columns          coef\n",
       "0      antiquity -2.223957e-16\n",
       "1      km_driven -3.053113e-16\n",
       "2          seats  1.408480e-16\n",
       "3           fuel  5.055008e-16\n",
       "4   transmission  3.950583e-16\n",
       "5      max_power  4.205717e-16\n",
       "6  selling_price  1.000000e+00"
      ]
     },
     "execution_count": 41,
     "metadata": {},
     "output_type": "execute_result"
    }
   ],
   "source": [
    "pd.DataFrame({'columns': features, 'coef': regression.coef_})"
   ]
  },
  {
   "cell_type": "code",
   "execution_count": 42,
   "metadata": {
    "tags": []
   },
   "outputs": [
    {
     "data": {
      "image/png": "[encoded data removed]",
      "text/plain": [
       "<Figure size 2000x400 with 6 Axes>"
      ]
     },
     "metadata": {},
     "output_type": "display_data"
    }
   ],
   "source": [
    "# Plot of the regression overlapped with the data in order to see if the regression has some relation with the data\n",
    "f, axs = plt.subplots(1, len(features[:-1]), sharey = True, figsize = (20, 4))\n",
    "\n",
    "for i in range(len(features[:-1])):\n",
    "    col = features[i]\n",
    "    x = x_train[col]\n",
    "    m = regression.coef_[i]\n",
    "    b = regression.intercept_\n",
    "    axs[i].plot(x, y_train, 'o', alpha = 0.3)\n",
    "    axs[i].plot(x, x * m + b)\n",
    "    axs[i].set_title(col)"
   ]
  },
  {
   "cell_type": "code",
   "execution_count": 43,
   "metadata": {
    "tags": []
   },
   "outputs": [
    {
     "data": {
      "image/png": "[encoded data removed]",
      "text/plain": [
       "<Figure size 2000x400 with 6 Axes>"
      ]
     },
     "metadata": {},
     "output_type": "display_data"
    }
   ],
   "source": [
    "# Plot only the regression to see clearly how each attribute affects the regression line on a scale that is visibly understandable\n",
    "f, axs = plt.subplots(1, len(features[:-1]), sharey = True, figsize = (20, 4))\n",
    "\n",
    "for i in range(len(features[:-1])):\n",
    "    col = features[i]\n",
    "    x = x_train[col]\n",
    "    m = regression.coef_[i]\n",
    "    b = regression.intercept_\n",
    "    axs[i].plot(x, x * m + b)\n",
    "    axs[i].set_title(col)"
   ]
  },
  {
   "cell_type": "code",
   "execution_count": 44,
   "metadata": {},
   "outputs": [
    {
     "data": {
      "text/html": [
       "<div>\n",
       "<style scoped>\n",
       "    .dataframe tbody tr th:only-of-type {\n",
       "        vertical-align: middle;\n",
       "    }\n",
       "\n",
       "    .dataframe tbody tr th {\n",
       "        vertical-align: top;\n",
       "    }\n",
       "\n",
       "    .dataframe thead th {\n",
       "        text-align: right;\n",
       "    }\n",
       "</style>\n",
       "<table border=\"1\" class=\"dataframe\">\n",
       "  <thead>\n",
       "    <tr style=\"text-align: right;\">\n",
       "      <th></th>\n",
       "      <th>Actual</th>\n",
       "      <th>Predicted</th>\n",
       "      <th>Difference</th>\n",
       "      <th>Difference %</th>\n",
       "    </tr>\n",
       "  </thead>\n",
       "  <tbody>\n",
       "    <tr>\n",
       "      <th>5930</th>\n",
       "      <td>-0.133775</td>\n",
       "      <td>-0.133775</td>\n",
       "      <td>-8.326673e-17</td>\n",
       "      <td>6.224380e-14</td>\n",
       "    </tr>\n",
       "    <tr>\n",
       "      <th>2441</th>\n",
       "      <td>-0.123072</td>\n",
       "      <td>-0.123072</td>\n",
       "      <td>1.249001e-16</td>\n",
       "      <td>-1.014850e-13</td>\n",
       "    </tr>\n",
       "    <tr>\n",
       "      <th>5028</th>\n",
       "      <td>-0.046625</td>\n",
       "      <td>-0.046625</td>\n",
       "      <td>-7.355228e-16</td>\n",
       "      <td>1.577515e-12</td>\n",
       "    </tr>\n",
       "    <tr>\n",
       "      <th>1564</th>\n",
       "      <td>-0.107783</td>\n",
       "      <td>-0.107783</td>\n",
       "      <td>-9.714451e-17</td>\n",
       "      <td>9.012977e-14</td>\n",
       "    </tr>\n",
       "    <tr>\n",
       "      <th>5213</th>\n",
       "      <td>-0.034394</td>\n",
       "      <td>-0.034394</td>\n",
       "      <td>-3.608225e-16</td>\n",
       "      <td>1.049095e-12</td>\n",
       "    </tr>\n",
       "    <tr>\n",
       "      <th>...</th>\n",
       "      <td>...</td>\n",
       "      <td>...</td>\n",
       "      <td>...</td>\n",
       "      <td>...</td>\n",
       "    </tr>\n",
       "    <tr>\n",
       "      <th>5477</th>\n",
       "      <td>-0.138362</td>\n",
       "      <td>-0.138362</td>\n",
       "      <td>-2.164935e-15</td>\n",
       "      <td>1.564689e-12</td>\n",
       "    </tr>\n",
       "    <tr>\n",
       "      <th>643</th>\n",
       "      <td>-0.168941</td>\n",
       "      <td>-0.168941</td>\n",
       "      <td>-7.216450e-16</td>\n",
       "      <td>4.271587e-13</td>\n",
       "    </tr>\n",
       "    <tr>\n",
       "      <th>6643</th>\n",
       "      <td>-0.161296</td>\n",
       "      <td>-0.161296</td>\n",
       "      <td>-3.053113e-16</td>\n",
       "      <td>1.892862e-13</td>\n",
       "    </tr>\n",
       "    <tr>\n",
       "      <th>2188</th>\n",
       "      <td>-0.153957</td>\n",
       "      <td>-0.153957</td>\n",
       "      <td>-2.498002e-16</td>\n",
       "      <td>1.622531e-13</td>\n",
       "    </tr>\n",
       "    <tr>\n",
       "      <th>4966</th>\n",
       "      <td>-0.260677</td>\n",
       "      <td>-0.260677</td>\n",
       "      <td>1.443290e-15</td>\n",
       "      <td>-5.536692e-13</td>\n",
       "    </tr>\n",
       "  </tbody>\n",
       "</table>\n",
       "<p>2135 rows × 4 columns</p>\n",
       "</div>"
      ],
      "text/plain": [
       "        Actual  Predicted    Difference  Difference %\n",
       "5930 -0.133775  -0.133775 -8.326673e-17  6.224380e-14\n",
       "2441 -0.123072  -0.123072  1.249001e-16 -1.014850e-13\n",
       "5028 -0.046625  -0.046625 -7.355228e-16  1.577515e-12\n",
       "1564 -0.107783  -0.107783 -9.714451e-17  9.012977e-14\n",
       "5213 -0.034394  -0.034394 -3.608225e-16  1.049095e-12\n",
       "...        ...        ...           ...           ...\n",
       "5477 -0.138362  -0.138362 -2.164935e-15  1.564689e-12\n",
       "643  -0.168941  -0.168941 -7.216450e-16  4.271587e-13\n",
       "6643 -0.161296  -0.161296 -3.053113e-16  1.892862e-13\n",
       "2188 -0.153957  -0.153957 -2.498002e-16  1.622531e-13\n",
       "4966 -0.260677  -0.260677  1.443290e-15 -5.536692e-13\n",
       "\n",
       "[2135 rows x 4 columns]"
      ]
     },
     "execution_count": 44,
     "metadata": {},
     "output_type": "execute_result"
    }
   ],
   "source": [
    "# Comparing the real values with the predicted values with an difference percentage for each prediction\n",
    "\n",
    "y_pred = regression.predict(x_test)\n",
    "\n",
    "df = pd.DataFrame({'Actual': y_test, 'Predicted': y_pred})\n",
    "df['Difference'] = df['Actual'] - df['Predicted']\n",
    "df['Difference %'] = df['Difference'] / df['Actual'] * 100\n",
    "df\n"
   ]
  },
  {
   "cell_type": "markdown",
   "metadata": {},
   "source": [
    "### 5. Validación del modelo\n",
    "##### Se debe revisar que el error del modelo entrenado este cercano al error de los datos de prueba. Esto se hace para verificar que el modelo no tenga overfitting o underfitting ya que esto podria evitar que el modelo prediciera adecuadamente el \"selling_price\" de datos que nunca haya visto."
   ]
  },
  {
   "cell_type": "code",
   "execution_count": 45,
   "metadata": {},
   "outputs": [
    {
     "name": "stdout",
     "output_type": "stream",
     "text": [
      "Mean Absolute Error Train: 8.820587951125393e-16\n",
      "Mean Absolute Error Test: 8.681085933209911e-16\n",
      "Root Mean Squared Error Train: 3.371010706521771e-15\n",
      "Root Mean Squared Error Test: 3.263408517096625e-15\n"
     ]
    }
   ],
   "source": [
    "print('Mean Absolute Error Train:', mean_absolute_error(y_train, regression.predict(x_train)))\n",
    "print('Mean Absolute Error Test:', mean_absolute_error(y_test, regression.predict(x_test)))\n",
    "\n",
    "print('Root Mean Squared Error Train:', np.sqrt(mean_squared_error(y_train, regression.predict(x_train))))\n",
    "print('Root Mean Squared Error Test:', np.sqrt(mean_squared_error(y_test, regression.predict(x_test))))"
   ]
  },
  {
   "cell_type": "markdown",
   "metadata": {},
   "source": [
    "Podemos apreciar que nuestro error en las pruebas se acerca bastante al error del entrenamiento, y ademas es un error relativamente bajo, lo cual nos da un buen indicio de que nuestro modelo predice adecuadamente el \"selling_price\" de un carro "
   ]
  },
  {
   "cell_type": "code",
   "execution_count": 46,
   "metadata": {},
   "outputs": [
    {
     "data": {
      "image/png": "[encoded data removed]",
      "text/plain": [
       "<Figure size 2000x500 with 1 Axes>"
      ]
     },
     "metadata": {},
     "output_type": "display_data"
    }
   ],
   "source": [
    "# Plot real value of objective variable on a boxplot\n",
    "\n",
    "plt.figure(figsize=(20, 5))\n",
    "sns.boxplot(x = y_test, showmeans = True)\n",
    "plt.title('Real value of objective variable')\n",
    "plt.grid()\n",
    "plt.show()   "
   ]
  },
  {
   "cell_type": "code",
   "execution_count": 47,
   "metadata": {},
   "outputs": [
    {
     "data": {
      "image/png": "[encoded data removed]",
      "text/plain": [
       "<Figure size 2000x500 with 1 Axes>"
      ]
     },
     "metadata": {},
     "output_type": "display_data"
    }
   ],
   "source": [
    "# Plot |real value - predicted value| of objective variable on a boxplot\n",
    "\n",
    "plt.figure(figsize=(20, 5))\n",
    "sns.boxplot(x = abs(y_test - regression.predict(x_test)), showmeans=True)\n",
    "plt.title('Absolute error of objective variable')\n",
    "plt.grid()\n",
    "plt.show()"
   ]
  },
  {
   "cell_type": "code",
   "execution_count": 48,
   "metadata": {},
   "outputs": [
    {
     "data": {
      "text/plain": [
       "count    2.135000e+03\n",
       "mean     8.681086e-16\n",
       "std      3.146563e-15\n",
       "min      0.000000e+00\n",
       "25%      2.220446e-16\n",
       "50%      4.718448e-16\n",
       "75%      7.494005e-16\n",
       "95%      2.006728e-15\n",
       "99%      3.598788e-15\n",
       "max      4.796163e-14\n",
       "Name: selling_price, dtype: float64"
      ]
     },
     "execution_count": 48,
     "metadata": {},
     "output_type": "execute_result"
    }
   ],
   "source": [
    "abs(y_test - regression.predict(x_test)).describe(percentiles = [0.25, 0.5, 0.75, 0.95, 0.99])"
   ]
  },
  {
   "cell_type": "markdown",
   "metadata": {},
   "source": [
    "Creo que esto quiere decir que nuestros resultados son muy acercados. No se si esto puede ser un problema como de overfitting?"
   ]
  },
  {
   "cell_type": "markdown",
   "metadata": {},
   "source": [
    "## 8. Exportación del modelo\n",
    "##### Se debe exportar el modelo hecho anteriormente para poder enviarlo a MotorAlpes para que lo puedan correr"
   ]
  },
  {
   "cell_type": "code",
   "execution_count": 49,
   "metadata": {},
   "outputs": [
    {
     "ename": "ValueError",
     "evalue": "A given column is not a column of the dataframe",
     "output_type": "error",
     "traceback": [
      "\u001b[0;31m---------------------------------------------------------------------------\u001b[0m",
      "\u001b[0;31mKeyError\u001b[0m                                  Traceback (most recent call last)",
      "File \u001b[0;32m/opt/homebrew/lib/python3.11/site-packages/pandas/core/indexes/base.py:3802\u001b[0m, in \u001b[0;36mIndex.get_loc\u001b[0;34m(self, key, method, tolerance)\u001b[0m\n\u001b[1;32m   3801\u001b[0m \u001b[38;5;28;01mtry\u001b[39;00m:\n\u001b[0;32m-> 3802\u001b[0m     \u001b[38;5;28;01mreturn\u001b[39;00m \u001b[38;5;28;43mself\u001b[39;49m\u001b[38;5;241;43m.\u001b[39;49m\u001b[43m_engine\u001b[49m\u001b[38;5;241;43m.\u001b[39;49m\u001b[43mget_loc\u001b[49m\u001b[43m(\u001b[49m\u001b[43mcasted_key\u001b[49m\u001b[43m)\u001b[49m\n\u001b[1;32m   3803\u001b[0m \u001b[38;5;28;01mexcept\u001b[39;00m \u001b[38;5;167;01mKeyError\u001b[39;00m \u001b[38;5;28;01mas\u001b[39;00m err:\n",
      "File \u001b[0;32m/opt/homebrew/lib/python3.11/site-packages/pandas/_libs/index.pyx:138\u001b[0m, in \u001b[0;36mpandas._libs.index.IndexEngine.get_loc\u001b[0;34m()\u001b[0m\n",
      "File \u001b[0;32m/opt/homebrew/lib/python3.11/site-packages/pandas/_libs/index.pyx:165\u001b[0m, in \u001b[0;36mpandas._libs.index.IndexEngine.get_loc\u001b[0;34m()\u001b[0m\n",
      "File \u001b[0;32mpandas/_libs/hashtable_class_helper.pxi:5745\u001b[0m, in \u001b[0;36mpandas._libs.hashtable.PyObjectHashTable.get_item\u001b[0;34m()\u001b[0m\n",
      "File \u001b[0;32mpandas/_libs/hashtable_class_helper.pxi:5753\u001b[0m, in \u001b[0;36mpandas._libs.hashtable.PyObjectHashTable.get_item\u001b[0;34m()\u001b[0m\n",
      "\u001b[0;31mKeyError\u001b[0m: 'year'",
      "\nThe above exception was the direct cause of the following exception:\n",
      "\u001b[0;31mKeyError\u001b[0m                                  Traceback (most recent call last)",
      "File \u001b[0;32m/opt/homebrew/lib/python3.11/site-packages/sklearn/utils/__init__.py:448\u001b[0m, in \u001b[0;36m_get_column_indices\u001b[0;34m(X, key)\u001b[0m\n\u001b[1;32m    447\u001b[0m \u001b[38;5;28;01mfor\u001b[39;00m col \u001b[38;5;129;01min\u001b[39;00m columns:\n\u001b[0;32m--> 448\u001b[0m     col_idx \u001b[38;5;241m=\u001b[39m \u001b[43mall_columns\u001b[49m\u001b[38;5;241;43m.\u001b[39;49m\u001b[43mget_loc\u001b[49m\u001b[43m(\u001b[49m\u001b[43mcol\u001b[49m\u001b[43m)\u001b[49m\n\u001b[1;32m    449\u001b[0m     \u001b[38;5;28;01mif\u001b[39;00m \u001b[38;5;129;01mnot\u001b[39;00m \u001b[38;5;28misinstance\u001b[39m(col_idx, numbers\u001b[38;5;241m.\u001b[39mIntegral):\n",
      "File \u001b[0;32m/opt/homebrew/lib/python3.11/site-packages/pandas/core/indexes/base.py:3804\u001b[0m, in \u001b[0;36mIndex.get_loc\u001b[0;34m(self, key, method, tolerance)\u001b[0m\n\u001b[1;32m   3803\u001b[0m \u001b[38;5;28;01mexcept\u001b[39;00m \u001b[38;5;167;01mKeyError\u001b[39;00m \u001b[38;5;28;01mas\u001b[39;00m err:\n\u001b[0;32m-> 3804\u001b[0m     \u001b[38;5;28;01mraise\u001b[39;00m \u001b[38;5;167;01mKeyError\u001b[39;00m(key) \u001b[38;5;28;01mfrom\u001b[39;00m \u001b[38;5;21;01merr\u001b[39;00m\n\u001b[1;32m   3805\u001b[0m \u001b[38;5;28;01mexcept\u001b[39;00m \u001b[38;5;167;01mTypeError\u001b[39;00m:\n\u001b[1;32m   3806\u001b[0m     \u001b[38;5;66;03m# If we have a listlike key, _check_indexing_error will raise\u001b[39;00m\n\u001b[1;32m   3807\u001b[0m     \u001b[38;5;66;03m#  InvalidIndexError. Otherwise we fall through and re-raise\u001b[39;00m\n\u001b[1;32m   3808\u001b[0m     \u001b[38;5;66;03m#  the TypeError.\u001b[39;00m\n",
      "\u001b[0;31mKeyError\u001b[0m: 'year'",
      "\nThe above exception was the direct cause of the following exception:\n",
      "\u001b[0;31mValueError\u001b[0m                                Traceback (most recent call last)",
      "Cell \u001b[0;32mIn[49], line 39\u001b[0m\n\u001b[1;32m     28\u001b[0m preprocessor \u001b[38;5;241m=\u001b[39m ColumnTransformer(transformers\u001b[38;5;241m=\u001b[39m[\n\u001b[1;32m     29\u001b[0m     (\u001b[38;5;124m'\u001b[39m\u001b[38;5;124mnum\u001b[39m\u001b[38;5;124m'\u001b[39m, numeric_preprocessor, numeric_cols),\n\u001b[1;32m     30\u001b[0m     (\u001b[38;5;124m'\u001b[39m\u001b[38;5;124mcat\u001b[39m\u001b[38;5;124m'\u001b[39m, categorical_preprocessor, categorical_cols)\n\u001b[1;32m     31\u001b[0m ])\n\u001b[1;32m     33\u001b[0m pipeline \u001b[38;5;241m=\u001b[39m Pipeline([\n\u001b[1;32m     34\u001b[0m     (\u001b[38;5;124m'\u001b[39m\u001b[38;5;124mpreprocessor\u001b[39m\u001b[38;5;124m'\u001b[39m, preprocessor),\n\u001b[1;32m     35\u001b[0m     (\u001b[38;5;124m'\u001b[39m\u001b[38;5;124mscaler\u001b[39m\u001b[38;5;124m'\u001b[39m, StandardScaler()),\n\u001b[1;32m     36\u001b[0m     (\u001b[38;5;124m'\u001b[39m\u001b[38;5;124mregression\u001b[39m\u001b[38;5;124m'\u001b[39m, LinearRegression())\n\u001b[1;32m     37\u001b[0m ])\n\u001b[0;32m---> 39\u001b[0m \u001b[43mpipeline\u001b[49m\u001b[38;5;241;43m.\u001b[39;49m\u001b[43mfit\u001b[49m\u001b[43m(\u001b[49m\u001b[43mx_train\u001b[49m\u001b[43m,\u001b[49m\u001b[43m \u001b[49m\u001b[43my_train\u001b[49m\u001b[43m)\u001b[49m\n",
      "File \u001b[0;32m/opt/homebrew/lib/python3.11/site-packages/sklearn/pipeline.py:401\u001b[0m, in \u001b[0;36mPipeline.fit\u001b[0;34m(self, X, y, **fit_params)\u001b[0m\n\u001b[1;32m    375\u001b[0m \u001b[38;5;250m\u001b[39m\u001b[38;5;124;03m\"\"\"Fit the model.\u001b[39;00m\n\u001b[1;32m    376\u001b[0m \n\u001b[1;32m    377\u001b[0m \u001b[38;5;124;03mFit all the transformers one after the other and transform the\u001b[39;00m\n\u001b[0;32m   (...)\u001b[0m\n\u001b[1;32m    398\u001b[0m \u001b[38;5;124;03m    Pipeline with fitted steps.\u001b[39;00m\n\u001b[1;32m    399\u001b[0m \u001b[38;5;124;03m\"\"\"\u001b[39;00m\n\u001b[1;32m    400\u001b[0m fit_params_steps \u001b[38;5;241m=\u001b[39m \u001b[38;5;28mself\u001b[39m\u001b[38;5;241m.\u001b[39m_check_fit_params(\u001b[38;5;241m*\u001b[39m\u001b[38;5;241m*\u001b[39mfit_params)\n\u001b[0;32m--> 401\u001b[0m Xt \u001b[38;5;241m=\u001b[39m \u001b[38;5;28;43mself\u001b[39;49m\u001b[38;5;241;43m.\u001b[39;49m\u001b[43m_fit\u001b[49m\u001b[43m(\u001b[49m\u001b[43mX\u001b[49m\u001b[43m,\u001b[49m\u001b[43m \u001b[49m\u001b[43my\u001b[49m\u001b[43m,\u001b[49m\u001b[43m \u001b[49m\u001b[38;5;241;43m*\u001b[39;49m\u001b[38;5;241;43m*\u001b[39;49m\u001b[43mfit_params_steps\u001b[49m\u001b[43m)\u001b[49m\n\u001b[1;32m    402\u001b[0m \u001b[38;5;28;01mwith\u001b[39;00m _print_elapsed_time(\u001b[38;5;124m\"\u001b[39m\u001b[38;5;124mPipeline\u001b[39m\u001b[38;5;124m\"\u001b[39m, \u001b[38;5;28mself\u001b[39m\u001b[38;5;241m.\u001b[39m_log_message(\u001b[38;5;28mlen\u001b[39m(\u001b[38;5;28mself\u001b[39m\u001b[38;5;241m.\u001b[39msteps) \u001b[38;5;241m-\u001b[39m \u001b[38;5;241m1\u001b[39m)):\n\u001b[1;32m    403\u001b[0m     \u001b[38;5;28;01mif\u001b[39;00m \u001b[38;5;28mself\u001b[39m\u001b[38;5;241m.\u001b[39m_final_estimator \u001b[38;5;241m!=\u001b[39m \u001b[38;5;124m\"\u001b[39m\u001b[38;5;124mpassthrough\u001b[39m\u001b[38;5;124m\"\u001b[39m:\n",
      "File \u001b[0;32m/opt/homebrew/lib/python3.11/site-packages/sklearn/pipeline.py:359\u001b[0m, in \u001b[0;36mPipeline._fit\u001b[0;34m(self, X, y, **fit_params_steps)\u001b[0m\n\u001b[1;32m    357\u001b[0m     cloned_transformer \u001b[38;5;241m=\u001b[39m clone(transformer)\n\u001b[1;32m    358\u001b[0m \u001b[38;5;66;03m# Fit or load from cache the current transformer\u001b[39;00m\n\u001b[0;32m--> 359\u001b[0m X, fitted_transformer \u001b[38;5;241m=\u001b[39m \u001b[43mfit_transform_one_cached\u001b[49m\u001b[43m(\u001b[49m\n\u001b[1;32m    360\u001b[0m \u001b[43m    \u001b[49m\u001b[43mcloned_transformer\u001b[49m\u001b[43m,\u001b[49m\n\u001b[1;32m    361\u001b[0m \u001b[43m    \u001b[49m\u001b[43mX\u001b[49m\u001b[43m,\u001b[49m\n\u001b[1;32m    362\u001b[0m \u001b[43m    \u001b[49m\u001b[43my\u001b[49m\u001b[43m,\u001b[49m\n\u001b[1;32m    363\u001b[0m \u001b[43m    \u001b[49m\u001b[38;5;28;43;01mNone\u001b[39;49;00m\u001b[43m,\u001b[49m\n\u001b[1;32m    364\u001b[0m \u001b[43m    \u001b[49m\u001b[43mmessage_clsname\u001b[49m\u001b[38;5;241;43m=\u001b[39;49m\u001b[38;5;124;43m\"\u001b[39;49m\u001b[38;5;124;43mPipeline\u001b[39;49m\u001b[38;5;124;43m\"\u001b[39;49m\u001b[43m,\u001b[49m\n\u001b[1;32m    365\u001b[0m \u001b[43m    \u001b[49m\u001b[43mmessage\u001b[49m\u001b[38;5;241;43m=\u001b[39;49m\u001b[38;5;28;43mself\u001b[39;49m\u001b[38;5;241;43m.\u001b[39;49m\u001b[43m_log_message\u001b[49m\u001b[43m(\u001b[49m\u001b[43mstep_idx\u001b[49m\u001b[43m)\u001b[49m\u001b[43m,\u001b[49m\n\u001b[1;32m    366\u001b[0m \u001b[43m    \u001b[49m\u001b[38;5;241;43m*\u001b[39;49m\u001b[38;5;241;43m*\u001b[39;49m\u001b[43mfit_params_steps\u001b[49m\u001b[43m[\u001b[49m\u001b[43mname\u001b[49m\u001b[43m]\u001b[49m\u001b[43m,\u001b[49m\n\u001b[1;32m    367\u001b[0m \u001b[43m\u001b[49m\u001b[43m)\u001b[49m\n\u001b[1;32m    368\u001b[0m \u001b[38;5;66;03m# Replace the transformer of the step with the fitted\u001b[39;00m\n\u001b[1;32m    369\u001b[0m \u001b[38;5;66;03m# transformer. This is necessary when loading the transformer\u001b[39;00m\n\u001b[1;32m    370\u001b[0m \u001b[38;5;66;03m# from the cache.\u001b[39;00m\n\u001b[1;32m    371\u001b[0m \u001b[38;5;28mself\u001b[39m\u001b[38;5;241m.\u001b[39msteps[step_idx] \u001b[38;5;241m=\u001b[39m (name, fitted_transformer)\n",
      "File \u001b[0;32m/opt/homebrew/lib/python3.11/site-packages/joblib/memory.py:349\u001b[0m, in \u001b[0;36mNotMemorizedFunc.__call__\u001b[0;34m(self, *args, **kwargs)\u001b[0m\n\u001b[1;32m    348\u001b[0m \u001b[38;5;28;01mdef\u001b[39;00m \u001b[38;5;21m__call__\u001b[39m(\u001b[38;5;28mself\u001b[39m, \u001b[38;5;241m*\u001b[39margs, \u001b[38;5;241m*\u001b[39m\u001b[38;5;241m*\u001b[39mkwargs):\n\u001b[0;32m--> 349\u001b[0m     \u001b[38;5;28;01mreturn\u001b[39;00m \u001b[38;5;28;43mself\u001b[39;49m\u001b[38;5;241;43m.\u001b[39;49m\u001b[43mfunc\u001b[49m\u001b[43m(\u001b[49m\u001b[38;5;241;43m*\u001b[39;49m\u001b[43margs\u001b[49m\u001b[43m,\u001b[49m\u001b[43m \u001b[49m\u001b[38;5;241;43m*\u001b[39;49m\u001b[38;5;241;43m*\u001b[39;49m\u001b[43mkwargs\u001b[49m\u001b[43m)\u001b[49m\n",
      "File \u001b[0;32m/opt/homebrew/lib/python3.11/site-packages/sklearn/pipeline.py:893\u001b[0m, in \u001b[0;36m_fit_transform_one\u001b[0;34m(transformer, X, y, weight, message_clsname, message, **fit_params)\u001b[0m\n\u001b[1;32m    891\u001b[0m \u001b[38;5;28;01mwith\u001b[39;00m _print_elapsed_time(message_clsname, message):\n\u001b[1;32m    892\u001b[0m     \u001b[38;5;28;01mif\u001b[39;00m \u001b[38;5;28mhasattr\u001b[39m(transformer, \u001b[38;5;124m\"\u001b[39m\u001b[38;5;124mfit_transform\u001b[39m\u001b[38;5;124m\"\u001b[39m):\n\u001b[0;32m--> 893\u001b[0m         res \u001b[38;5;241m=\u001b[39m \u001b[43mtransformer\u001b[49m\u001b[38;5;241;43m.\u001b[39;49m\u001b[43mfit_transform\u001b[49m\u001b[43m(\u001b[49m\u001b[43mX\u001b[49m\u001b[43m,\u001b[49m\u001b[43m \u001b[49m\u001b[43my\u001b[49m\u001b[43m,\u001b[49m\u001b[43m \u001b[49m\u001b[38;5;241;43m*\u001b[39;49m\u001b[38;5;241;43m*\u001b[39;49m\u001b[43mfit_params\u001b[49m\u001b[43m)\u001b[49m\n\u001b[1;32m    894\u001b[0m     \u001b[38;5;28;01melse\u001b[39;00m:\n\u001b[1;32m    895\u001b[0m         res \u001b[38;5;241m=\u001b[39m transformer\u001b[38;5;241m.\u001b[39mfit(X, y, \u001b[38;5;241m*\u001b[39m\u001b[38;5;241m*\u001b[39mfit_params)\u001b[38;5;241m.\u001b[39mtransform(X)\n",
      "File \u001b[0;32m/opt/homebrew/lib/python3.11/site-packages/sklearn/utils/_set_output.py:142\u001b[0m, in \u001b[0;36m_wrap_method_output.<locals>.wrapped\u001b[0;34m(self, X, *args, **kwargs)\u001b[0m\n\u001b[1;32m    140\u001b[0m \u001b[38;5;129m@wraps\u001b[39m(f)\n\u001b[1;32m    141\u001b[0m \u001b[38;5;28;01mdef\u001b[39;00m \u001b[38;5;21mwrapped\u001b[39m(\u001b[38;5;28mself\u001b[39m, X, \u001b[38;5;241m*\u001b[39margs, \u001b[38;5;241m*\u001b[39m\u001b[38;5;241m*\u001b[39mkwargs):\n\u001b[0;32m--> 142\u001b[0m     data_to_wrap \u001b[38;5;241m=\u001b[39m \u001b[43mf\u001b[49m\u001b[43m(\u001b[49m\u001b[38;5;28;43mself\u001b[39;49m\u001b[43m,\u001b[49m\u001b[43m \u001b[49m\u001b[43mX\u001b[49m\u001b[43m,\u001b[49m\u001b[43m \u001b[49m\u001b[38;5;241;43m*\u001b[39;49m\u001b[43margs\u001b[49m\u001b[43m,\u001b[49m\u001b[43m \u001b[49m\u001b[38;5;241;43m*\u001b[39;49m\u001b[38;5;241;43m*\u001b[39;49m\u001b[43mkwargs\u001b[49m\u001b[43m)\u001b[49m\n\u001b[1;32m    143\u001b[0m     \u001b[38;5;28;01mif\u001b[39;00m \u001b[38;5;28misinstance\u001b[39m(data_to_wrap, \u001b[38;5;28mtuple\u001b[39m):\n\u001b[1;32m    144\u001b[0m         \u001b[38;5;66;03m# only wrap the first output for cross decomposition\u001b[39;00m\n\u001b[1;32m    145\u001b[0m         \u001b[38;5;28;01mreturn\u001b[39;00m (\n\u001b[1;32m    146\u001b[0m             _wrap_data_with_container(method, data_to_wrap[\u001b[38;5;241m0\u001b[39m], X, \u001b[38;5;28mself\u001b[39m),\n\u001b[1;32m    147\u001b[0m             \u001b[38;5;241m*\u001b[39mdata_to_wrap[\u001b[38;5;241m1\u001b[39m:],\n\u001b[1;32m    148\u001b[0m         )\n",
      "File \u001b[0;32m/opt/homebrew/lib/python3.11/site-packages/sklearn/compose/_column_transformer.py:724\u001b[0m, in \u001b[0;36mColumnTransformer.fit_transform\u001b[0;34m(self, X, y)\u001b[0m\n\u001b[1;32m    722\u001b[0m \u001b[38;5;28mself\u001b[39m\u001b[38;5;241m.\u001b[39m_check_n_features(X, reset\u001b[38;5;241m=\u001b[39m\u001b[38;5;28;01mTrue\u001b[39;00m)\n\u001b[1;32m    723\u001b[0m \u001b[38;5;28mself\u001b[39m\u001b[38;5;241m.\u001b[39m_validate_transformers()\n\u001b[0;32m--> 724\u001b[0m \u001b[38;5;28;43mself\u001b[39;49m\u001b[38;5;241;43m.\u001b[39;49m\u001b[43m_validate_column_callables\u001b[49m\u001b[43m(\u001b[49m\u001b[43mX\u001b[49m\u001b[43m)\u001b[49m\n\u001b[1;32m    725\u001b[0m \u001b[38;5;28mself\u001b[39m\u001b[38;5;241m.\u001b[39m_validate_remainder(X)\n\u001b[1;32m    727\u001b[0m result \u001b[38;5;241m=\u001b[39m \u001b[38;5;28mself\u001b[39m\u001b[38;5;241m.\u001b[39m_fit_transform(X, y, _fit_transform_one)\n",
      "File \u001b[0;32m/opt/homebrew/lib/python3.11/site-packages/sklearn/compose/_column_transformer.py:426\u001b[0m, in \u001b[0;36mColumnTransformer._validate_column_callables\u001b[0;34m(self, X)\u001b[0m\n\u001b[1;32m    424\u001b[0m         columns \u001b[38;5;241m=\u001b[39m columns(X)\n\u001b[1;32m    425\u001b[0m     all_columns\u001b[38;5;241m.\u001b[39mappend(columns)\n\u001b[0;32m--> 426\u001b[0m     transformer_to_input_indices[name] \u001b[38;5;241m=\u001b[39m \u001b[43m_get_column_indices\u001b[49m\u001b[43m(\u001b[49m\u001b[43mX\u001b[49m\u001b[43m,\u001b[49m\u001b[43m \u001b[49m\u001b[43mcolumns\u001b[49m\u001b[43m)\u001b[49m\n\u001b[1;32m    428\u001b[0m \u001b[38;5;28mself\u001b[39m\u001b[38;5;241m.\u001b[39m_columns \u001b[38;5;241m=\u001b[39m all_columns\n\u001b[1;32m    429\u001b[0m \u001b[38;5;28mself\u001b[39m\u001b[38;5;241m.\u001b[39m_transformer_to_input_indices \u001b[38;5;241m=\u001b[39m transformer_to_input_indices\n",
      "File \u001b[0;32m/opt/homebrew/lib/python3.11/site-packages/sklearn/utils/__init__.py:456\u001b[0m, in \u001b[0;36m_get_column_indices\u001b[0;34m(X, key)\u001b[0m\n\u001b[1;32m    453\u001b[0m             column_indices\u001b[38;5;241m.\u001b[39mappend(col_idx)\n\u001b[1;32m    455\u001b[0m     \u001b[38;5;28;01mexcept\u001b[39;00m \u001b[38;5;167;01mKeyError\u001b[39;00m \u001b[38;5;28;01mas\u001b[39;00m e:\n\u001b[0;32m--> 456\u001b[0m         \u001b[38;5;28;01mraise\u001b[39;00m \u001b[38;5;167;01mValueError\u001b[39;00m(\u001b[38;5;124m\"\u001b[39m\u001b[38;5;124mA given column is not a column of the dataframe\u001b[39m\u001b[38;5;124m\"\u001b[39m) \u001b[38;5;28;01mfrom\u001b[39;00m \u001b[38;5;21;01me\u001b[39;00m\n\u001b[1;32m    458\u001b[0m     \u001b[38;5;28;01mreturn\u001b[39;00m column_indices\n\u001b[1;32m    459\u001b[0m \u001b[38;5;28;01melse\u001b[39;00m:\n",
      "\u001b[0;31mValueError\u001b[0m: A given column is not a column of the dataframe"
     ]
    }
   ],
   "source": [
    "# No sé si hay que incluir lo de preparación de los datos, creo que no\n",
    "\n",
    "class AntiquityTransformer(BaseEstimator, TransformerMixin):\n",
    "    def __init__(self):\n",
    "        pass\n",
    "\n",
    "    def fit(self, X, y=None):\n",
    "        return self\n",
    "\n",
    "    def transform(self, X):\n",
    "        X = X.copy()\n",
    "        X[\"year\"] = 2020 - X[\"year\"].astype(int)\n",
    "        return X[[\"year\", \"km_driven\", \"seats\", \"max_power\", \"fuel\", \"transmission\"]]\n",
    "\n",
    "numeric_cols = [\"year\", \"km_driven\", \"seats\", \"max_power\"]\n",
    "categorical_cols = [\"fuel\", \"transmission\"]\n",
    "\n",
    "numeric_preprocessor = Pipeline([\n",
    "    (\"imputer\", SimpleImputer(strategy=\"median\")),\n",
    "    (\"antiquity\", AntiquityTransformer())\n",
    "])\n",
    "\n",
    "categorical_preprocessor = Pipeline([\n",
    "    (\"imputer\", SimpleImputer(strategy=\"most_frequent\")),\n",
    "    ('encoder', OneHotEncoder(categories='auto', handle_unknown='ignore'))\n",
    "])\n",
    "\n",
    "preprocessor = ColumnTransformer(transformers=[\n",
    "    ('num', numeric_preprocessor, numeric_cols),\n",
    "    ('cat', categorical_preprocessor, categorical_cols)\n",
    "])\n",
    "\n",
    "pipeline = Pipeline([\n",
    "    ('preprocessor', preprocessor),\n",
    "    ('scaler', StandardScaler()),\n",
    "    ('regression', LinearRegression())\n",
    "])\n",
    "\n",
    "pipeline.fit(x_train, y_train)"
   ]
  },
  {
   "cell_type": "markdown",
   "metadata": {},
   "source": [
    "##### Se debe revisar que el pipeline este funcionando bien"
   ]
  },
  {
   "cell_type": "code",
   "execution_count": null,
   "metadata": {},
   "outputs": [],
   "source": [
    "y_pred = pipeline.predict(x_test)\n",
    "df = pd.DataFrame({'Actual': y_test, 'Predicted': y_pred})\n",
    "\n",
    "df['Difference'] = df['Actual'] - df['Predicted']\n",
    "df['Difference %'] = df['Difference'] / df['Actual'] * 100\n",
    "df"
   ]
  },
  {
   "cell_type": "code",
   "execution_count": null,
   "metadata": {},
   "outputs": [],
   "source": [
    "print('Mean Absolute Error Train:', mean_absolute_error(y_train, pipeline.predict(x_train)))\n",
    "print('Mean Absolute Error Test:', mean_absolute_error(y_test, pipeline.predict(x_test)))"
   ]
  },
  {
   "cell_type": "code",
   "execution_count": null,
   "metadata": {},
   "outputs": [],
   "source": [
    "print('Root Mean Squared Error Train:', np.sqrt(mean_squared_error(y_train, pipeline.predict(x_train))))\n",
    "print('Root Mean Squared Error Test:', np.sqrt(mean_squared_error(y_test, pipeline.predict(x_test))))"
   ]
  },
  {
   "cell_type": "code",
   "execution_count": null,
   "metadata": {
    "tags": []
   },
   "outputs": [],
   "source": [
    "abs(y_test - regression.predict(x_test)).describe(percentiles = [0.25, 0.5, 0.75, 0.95, 0.99])"
   ]
  }
 ],
 "metadata": {
  "kernelspec": {
   "display_name": "Python 3 (ipykernel)",
   "language": "python",
   "name": "python3"
  },
  "language_info": {
   "codemirror_mode": {
    "name": "ipython",
    "version": 3
   },
   "file_extension": ".py",
   "mimetype": "text/x-python",
   "name": "python",
   "nbconvert_exporter": "python",
   "pygments_lexer": "ipython3",
   "version": "3.11.2"
  },
  "vscode": {
   "interpreter": {
    "hash": "bd385fe162c5ca0c84973b7dd5c518456272446b2b64e67c2a69f949ca7a1754"
   }
  }
 },
 "nbformat": 4,
 "nbformat_minor": 4
}
